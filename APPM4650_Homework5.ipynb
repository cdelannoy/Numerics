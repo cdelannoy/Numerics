{
 "cells": [
  {
   "cell_type": "markdown",
   "metadata": {},
   "source": [
    "Constance Delannoy\n",
    "\n",
    "APPM 4650 | Homework 5\n",
    "\n",
    "July 24, 2020"
   ]
  },
  {
   "cell_type": "code",
   "execution_count": 17,
   "metadata": {},
   "outputs": [
    {
     "data": {
      "text/html": [
       "<script>\n",
       "code_show=true; \n",
       "function code_toggle() {\n",
       " if (code_show){\n",
       " $('div.input').hide();\n",
       " } else {\n",
       " $('div.input').show();\n",
       " }\n",
       " code_show = !code_show\n",
       "} \n",
       "$( document ).ready(code_toggle);\n",
       "</script>\n",
       "<form action=\"javascript:code_toggle()\"><input type=\"submit\" value=\"The raw code is by default hidden for easier reading.\"></form>"
      ],
      "text/plain": [
       "<IPython.core.display.HTML object>"
      ]
     },
     "execution_count": 17,
     "metadata": {},
     "output_type": "execute_result"
    }
   ],
   "source": [
    "from IPython.display import HTML\n",
    "import numpy as np\n",
    "import pandas as pd\n",
    "import math\n",
    "from matplotlib import pyplot as plt\n",
    "\n",
    "HTML('''<script>\n",
    "code_show=true; \n",
    "function code_toggle() {\n",
    " if (code_show){\n",
    " $('div.input').hide();\n",
    " } else {\n",
    " $('div.input').show();\n",
    " }\n",
    " code_show = !code_show\n",
    "} \n",
    "$( document ).ready(code_toggle);\n",
    "</script>\n",
    "<form action=\"javascript:code_toggle()\"><input type=\"submit\" value=\"The raw code is by default hidden for easier reading.\"></form>''')"
   ]
  },
  {
   "cell_type": "markdown",
   "metadata": {},
   "source": [
    "__Question 1__\n",
    "\n",
    "TBD\n",
    "\n",
    "__Question 2__"
   ]
  },
  {
   "cell_type": "code",
   "execution_count": 181,
   "metadata": {},
   "outputs": [],
   "source": [
    "def sor(a, b, x0, w, tol, iters):\n",
    "    \"\"\"This function performs Gauss-Steidel with relaxation as described in the homework Q2.\n",
    "    \n",
    "    Keyword arguments:\n",
    "    a -- matrix A\n",
    "    b -- matrix B\n",
    "    x0 -- initial value of vector X\n",
    "    w -- relaxation parameter\n",
    "    tol -- tolerance\n",
    "    iters -- number of times -1 to run algorithm\n",
    "    \"\"\"\n",
    "    \n",
    "    k = 0\n",
    "    n = len(x0)\n",
    "    x=[None]*3\n",
    "    \n",
    "    while k <= iters:\n",
    "        for i in range(n):\n",
    "            sum1 = 0\n",
    "            sum2 = 0\n",
    "            \n",
    "            for j in range(i):\n",
    "                sum1 += a[i,j]*x[j]\n",
    "                \n",
    "            for j in range(i, n):\n",
    "                sum2 += a[i,j]*x0[j]\n",
    "\n",
    "            x[i] = x0[i] + (w/a[i,i])*(b[i] - sum1 - sum2)\n",
    "            \n",
    "        if abs(x[i]-x0[i]) < tol:\n",
    "            #print('convergence achieved')\n",
    "            break\n",
    "                \n",
    "        if k == iters:\n",
    "            #print('maximum number of iterations achieved')\n",
    "            break\n",
    "                \n",
    "        k += 1\n",
    "        for i in range(n):\n",
    "            x0[i] = x[i]\n",
    "            \n",
    "    return x, k"
   ]
  },
  {
   "cell_type": "code",
   "execution_count": 182,
   "metadata": {},
   "outputs": [],
   "source": [
    "A = np.matrix([[4,3,0],[3,4,-1],[0,-1,4]])\n",
    "X = [0,0,0]\n",
    "B = [24/4, 30/4, -24/4]"
   ]
  },
  {
   "cell_type": "code",
   "execution_count": 184,
   "metadata": {},
   "outputs": [],
   "source": [
    "res = []\n",
    "iters = []\n",
    "omegas1 = np.arange(-2, 0, 0.25).tolist()\n",
    "omegas2 = np.arange(0.25, 2.25, 0.25).tolist()\n",
    "omegas = omegas1 + omegas2\n",
    "\n",
    "for v in omegas:\n",
    "    A = np.matrix([[4,3,0],[3,4,-1],[0,-1,4]])\n",
    "    X = [0,0,0]\n",
    "    B = [24/4, 30/4, -24/4]\n",
    "    x_sol, num_iters = sor(A, B, X, v, 10**(-6), 100)\n",
    "    res.append(x_sol)\n",
    "    iters.append(num_iters)"
   ]
  },
  {
   "cell_type": "code",
   "execution_count": 194,
   "metadata": {},
   "outputs": [
    {
     "data": {
      "image/png": "[encoded data removed]",
      "text/plain": [
       "<matplotlib.figure.Figure at 0x10c45e828>"
      ]
     },
     "metadata": {},
     "output_type": "display_data"
    }
   ],
   "source": [
    "fig1 = plt.figure(figsize = (4, 2.5), dpi = 150)\n",
    "ax1 = fig1.add_subplot(1, 1, 1)\n",
    "\n",
    "ax1.grid(b=True, which='major', linestyle='-')\n",
    "ax1.plot(omegas, iters)\n",
    "ax1.legend()\n",
    "ax1.set_xlabel(r'Values of $\\omega$')\n",
    "ax1.set_ylabel('Number of iterations')\n",
    "ax1.set_title('Number of iterations required for convergence \\n for different values of ' + r'$\\omega$' + '\\n(iterations are capped at 100)')\n",
    "ax1.text(0, 10, r'$\\omega$ = 1.25 $\\rightarrow$', color = 'r')\n",
    "\n",
    "plt.show()"
   ]
  },
  {
   "cell_type": "markdown",
   "metadata": {},
   "source": [
    "Based on this graph, the optimal value of $\\omega$ is 1.25, which results in only 11 iterations.\n",
    "\n",
    "The results provide the following $x$ vector with $10^{-6}$ precision:"
   ]
  },
  {
   "cell_type": "code",
   "execution_count": 200,
   "metadata": {},
   "outputs": [
    {
     "data": {
      "text/plain": [
       "[0.74999967856796379, 1.0000001229627169, -1.249999891502606]"
      ]
     },
     "execution_count": 200,
     "metadata": {},
     "output_type": "execute_result"
    }
   ],
   "source": [
    "res[-4]"
   ]
  },
  {
   "cell_type": "markdown",
   "metadata": {},
   "source": [
    "__Question 3__\n",
    "\n",
    "(a) We have the following matrix at hand:\n",
    "\n",
    "$$\n",
    "A = \\begin{pmatrix}\n",
    "   3 & 0 & 1 \\\\\n",
    "   0 & 5 & 0 \\\\\n",
    "   -1 & 1 & -1 \\\\\n",
    "\\end{pmatrix}\n",
    "$$\n",
    "\n",
    "We start by calculating its minor $M$\n",
    "\n",
    "$$\n",
    "M = \\begin{pmatrix}\n",
    "   -5-0 & 0 & 0+5 \\\\\n",
    "   0 -1 & -3+1 & 3-0 \\\\\n",
    "   0-5 & 0 & 15-0 \\\\\n",
    "\\end{pmatrix}\n",
    "=\n",
    "\\begin{pmatrix}\n",
    "   -5 & 0 & 5 \\\\\n",
    "   -1 & -2 & 3 \\\\\n",
    "   -5 & 0 & 15 \\\\\n",
    "\\end{pmatrix}\n",
    "$$\n",
    "\n",
    "We now find the corresponding matrix of cofactors $C$:\n",
    "\n",
    "$$\n",
    "C = \\begin{pmatrix}\n",
    "   -5 & 0 & 5 \\\\\n",
    "   1 & -2 & -3 \\\\\n",
    "   -5 & 0 & 15 \\\\\n",
    "\\end{pmatrix}\n",
    "$$\n",
    "\n",
    "From $C$, we find the Adjugate matrix that we call $C^T$ by transposing C:\n",
    "\n",
    "$$\n",
    "C^T = \\begin{pmatrix}\n",
    "   -5 & 1 & -5 \\\\\n",
    "   0 & -2 & 0 \\\\\n",
    "   5 & -3 & 15 \\\\\n",
    "\\end{pmatrix}\n",
    "$$\n",
    "\n",
    "Finally, we compute the determinant of the original matrix $A$:\n",
    "\n",
    "$detA = 3(-5-0) + 0 + 1(0+5) = -10$\n",
    "\n",
    "We can now at last compute the inverse of $A$:\n",
    "\n",
    "$$\n",
    "A^{-1} = \\begin{pmatrix}\n",
    "   0.5 & -0.1 & 0.5 \\\\\n",
    "   0 & 0.2 & 0 \\\\\n",
    "   -0.5 & 0.3 & -1.5 \\\\\n",
    "\\end{pmatrix}\n",
    "$$\n",
    "\n",
    "(b)"
   ]
  },
  {
   "cell_type": "code",
   "execution_count": 203,
   "metadata": {},
   "outputs": [],
   "source": [
    "def matrixIter(x0, A):\n",
    "    \"\"\"\n",
    "    This function returns the next iteration of the inverse of a matrix\n",
    "    based on an initial guess x0 and the original matrix A.\n",
    "    \n",
    "    x0 --- initial matrix inverse guess of size 3x3\n",
    "    A --- original matrix of size 3x3\n",
    "    \"\"\"\n",
    "    \n",
    "    I = np.matrix([[1,0,0],[0,1,0],[0,0,1]])\n",
    "    \n",
    "    return x0*(2*I - A*x0)"
   ]
  },
  {
   "cell_type": "code",
   "execution_count": 207,
   "metadata": {},
   "outputs": [],
   "source": [
    "X0 = np.matrix([[0.5, -0.1, 0.4],[0, 0.2, 0],[-0.4, 0.3, -1.5]])\n",
    "A = np.matrix([[3, 0, 1],[0, 5, 0],[-1, 1, -1]])"
   ]
  },
  {
   "cell_type": "markdown",
   "metadata": {},
   "source": [
    "In this case, we use the initial guess \n",
    "\n",
    "$$\n",
    "x_0 = \\begin{pmatrix}\n",
    "   0.5 & -0.1 & 0.4 \\\\\n",
    "   0 & 0.2 & 0 \\\\\n",
    "   -0.4 & 0.3 & -1.5 \\\\\n",
    "\\end{pmatrix}\n",
    "$$\n",
    "\n",
    "and find the following result for $x_1$:"
   ]
  },
  {
   "cell_type": "code",
   "execution_count": 209,
   "metadata": {},
   "outputs": [
    {
     "data": {
      "text/plain": [
       "matrix([[ 0.49, -0.1 ,  0.51],\n",
       "        [ 0.  ,  0.2 ,  0.  ],\n",
       "        [-0.51,  0.3 , -1.47]])"
      ]
     },
     "execution_count": 209,
     "metadata": {},
     "output_type": "execute_result"
    }
   ],
   "source": [
    "matrixIter(X0, A)"
   ]
  },
  {
   "cell_type": "markdown",
   "metadata": {},
   "source": [
    "(c) **IS THIS RIGHT??**\n",
    "\n",
    "To find the deviation of $x_0$ and $x_1$ from $A^{-1}$, we first compute the mean of each column of $A^{-1}$. Here, $\\bar{A^-1}_i$ denotes the mean from the $ith$ column.\n",
    "\n",
    "$\\bar{A^{-1}_1} = \\frac{0.5 + 0 - 0.5}{3} = 0$\n",
    "\n",
    "$\\bar{A^{-1}_2} = \\frac{-0.1 + 0.2 + 0.3}{3} = 0.133333$\n",
    "\n",
    "$\\bar{A^{-1}_2} = \\frac{0.5 + 0 - 1.5}{3} = -0.333333$\n",
    "\n",
    "Based on these numbers, we infer the resulting deviation matrices $D_0$ for $x_0$ and $D_1$ for $x_1$:\n",
    "\n",
    "$$\n",
    "D_0 = \\begin{pmatrix}\n",
    "   0.5 - 0 & -0.1 - 0.133333 & 0.4 + 0.333333 \\\\\n",
    "   0 - 0 & 0.2 - 0.133333 & 0 + 0.333333 \\\\\n",
    "   -0.4 - 0 & 0.3 - 0.133333 & -1.5 + 0.333333 \\\\\n",
    "\\end{pmatrix}\n",
    "= \n",
    "\\begin{pmatrix}\n",
    "   0.5 & -0.23334 & 0.06667 \\\\\n",
    "   0 & 0.66667 & 0.333333 \\\\\n",
    "   -0.4 & 0.16666 & -1.83333 \\\\\n",
    "\\end{pmatrix}\n",
    "$$\n",
    "\n",
    "$$\n",
    "D_1 = \\begin{pmatrix}\n",
    "   0.49 - 0 & -0.1 - 0.133333 & 0.51 + 0.333333 \\\\\n",
    "   0 - 0 & 0.2 - 0.133333 & 0 + 0.333333 \\\\\n",
    "   -0.51 - 0 & 0.3 - 0.133333 & -1.47 + 0.333333 \\\\\n",
    "\\end{pmatrix}\n",
    "= \n",
    "\\begin{pmatrix}\n",
    "   0.49 & -0.23334 & 0.17667 \\\\\n",
    "   0 & 0.66667 & 0.333333 \\\\\n",
    "   -0.51 & 0.16666 & -1.80333 \\\\\n",
    "\\end{pmatrix}\n",
    "$$\n",
    "\n",
    "We note that $x_1$ overshot some of the answers but is closer to the true value of $A^{-1}$ when considering all each column at once."
   ]
  },
  {
   "cell_type": "code",
   "execution_count": 220,
   "metadata": {},
   "outputs": [
    {
     "data": {
      "text/plain": [
       "0.1766666666666667"
      ]
     },
     "execution_count": 220,
     "metadata": {},
     "output_type": "execute_result"
    }
   ],
   "source": [
    "#0.3 - (-0.1+0.2+0.3)/3\n",
    "#0.51 + (0.5+0-1.5)/3"
   ]
  },
  {
   "cell_type": "code",
   "execution_count": null,
   "metadata": {
    "collapsed": true
   },
   "outputs": [],
   "source": []
  }
 ],
 "metadata": {
  "kernelspec": {
   "display_name": "Python 3",
   "language": "python",
   "name": "python3"
  },
  "language_info": {
   "codemirror_mode": {
    "name": "ipython",
    "version": 3
   },
   "file_extension": ".py",
   "mimetype": "text/x-python",
   "name": "python",
   "nbconvert_exporter": "python",
   "pygments_lexer": "ipython3",
   "version": "3.6.3"
  }
 },
 "nbformat": 4,
 "nbformat_minor": 2
}
