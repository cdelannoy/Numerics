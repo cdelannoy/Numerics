{
 "cells": [
  {
   "cell_type": "markdown",
   "metadata": {},
   "source": [
    "Constance Delannoy\n",
    "\n",
    "APPM 4650 | Homework 5\n",
    "\n",
    "July 24, 2020"
   ]
  },
  {
   "cell_type": "code",
   "execution_count": 3,
   "metadata": {},
   "outputs": [
    {
     "data": {
      "text/html": [
       "<script>\n",
       "code_show=true; \n",
       "function code_toggle() {\n",
       " if (code_show){\n",
       " $('div.input').hide();\n",
       " } else {\n",
       " $('div.input').show();\n",
       " }\n",
       " code_show = !code_show\n",
       "} \n",
       "$( document ).ready(code_toggle);\n",
       "</script>\n",
       "<form action=\"javascript:code_toggle()\"><input type=\"submit\" value=\"The raw code is by default hidden for easier reading.\"></form>"
      ],
      "text/plain": [
       "<IPython.core.display.HTML object>"
      ]
     },
     "execution_count": 3,
     "metadata": {},
     "output_type": "execute_result"
    }
   ],
   "source": [
    "from IPython.display import HTML\n",
    "import numpy as np\n",
    "import pandas as pd\n",
    "import math\n",
    "from matplotlib import pyplot as plt\n",
    "\n",
    "HTML('''<script>\n",
    "code_show=true; \n",
    "function code_toggle() {\n",
    " if (code_show){\n",
    " $('div.input').hide();\n",
    " } else {\n",
    " $('div.input').show();\n",
    " }\n",
    " code_show = !code_show\n",
    "} \n",
    "$( document ).ready(code_toggle);\n",
    "</script>\n",
    "<form action=\"javascript:code_toggle()\"><input type=\"submit\" value=\"The raw code is by default hidden for easier reading.\"></form>''')"
   ]
  },
  {
   "cell_type": "markdown",
   "metadata": {},
   "source": [
    "__Question 1__\n",
    "\n",
    "TBD\n",
    "\n",
    "__Question 2__"
   ]
  },
  {
   "cell_type": "code",
   "execution_count": 132,
   "metadata": {},
   "outputs": [],
   "source": [
    "def sor(a, b, x0, w, tol, iters):\n",
    "    \"\"\"This function performs Gauss-Steidel with relaxation as described in the homework Q2.\n",
    "    \n",
    "    Keyword arguments:\n",
    "    a -- matrix A\n",
    "    b -- matrix B\n",
    "    x0 -- initial value of vector X\n",
    "    w -- relaxation parameter\n",
    "    tol -- tolerance\n",
    "    iters -- number of times -1 to run algorithm\n",
    "    \"\"\"\n",
    "    \n",
    "    k = 0\n",
    "    n = len(x0)\n",
    "    x=[None]*3\n",
    "    \n",
    "    while k <= iters:\n",
    "        for i in range(n):\n",
    "            sum1 = 0\n",
    "            sum2 = 0\n",
    "            \n",
    "            for j in range(i):\n",
    "                sum1 += a[i,j]*x0[j]\n",
    "                \n",
    "            for j in range(i+1, n):\n",
    "                sum2 += a[i,j]*x0[j]\n",
    "                \n",
    "            x[i] = (1-w)*x0[i] + (1/a[i,i])*(w*(-sum1 -sum2 + b[i]))\n",
    "            \n",
    "        if abs(x[i]-x0[i]) < tol:\n",
    "            print('convergence achieved')\n",
    "            break\n",
    "                \n",
    "        if k == iters + 1:\n",
    "            print('maximum number of iterations achieved')\n",
    "            break\n",
    "                \n",
    "        k += 1\n",
    "        x0[i] = x[i]\n",
    "            \n",
    "    return x, k"
   ]
  },
  {
   "cell_type": "code",
   "execution_count": 134,
   "metadata": {},
   "outputs": [
    {
     "name": "stdout",
     "output_type": "stream",
     "text": [
      "convergence achieved\n"
     ]
    },
    {
     "data": {
      "text/plain": [
       "([1.0000042499999999, 1.000006, 0.99999324999999994], 0)"
      ]
     },
     "execution_count": 134,
     "metadata": {},
     "output_type": "execute_result"
    }
   ],
   "source": [
    "A = np.matrix([[4,3,0],[3,4,-1],[0,-1,4]])\n",
    "X = [1,1,1]\n",
    "B = [24, 30, -24]\n",
    "\n",
    "sor(A, B, X, 10**(-6), 1, 100)"
   ]
  },
  {
   "cell_type": "code",
   "execution_count": null,
   "metadata": {
    "collapsed": true
   },
   "outputs": [],
   "source": []
  }
 ],
 "metadata": {
  "kernelspec": {
   "display_name": "Python 3",
   "language": "python",
   "name": "python3"
  },
  "language_info": {
   "codemirror_mode": {
    "name": "ipython",
    "version": 3
   },
   "file_extension": ".py",
   "mimetype": "text/x-python",
   "name": "python",
   "nbconvert_exporter": "python",
   "pygments_lexer": "ipython3",
   "version": "3.6.3"
  }
 },
 "nbformat": 4,
 "nbformat_minor": 2
}
