{
 "cells": [
  {
   "cell_type": "markdown",
   "metadata": {},
   "source": [
    "Constance Delannoy\n",
    "\n",
    "APPM 4650 | Homework 5\n",
    "\n",
    "July 24, 2020"
   ]
  },
  {
   "cell_type": "code",
   "execution_count": 30,
   "metadata": {},
   "outputs": [
    {
     "data": {
      "text/html": [
       "<script>\n",
       "code_show=true; \n",
       "function code_toggle() {\n",
       " if (code_show){\n",
       " $('div.input').hide();\n",
       " } else {\n",
       " $('div.input').show();\n",
       " }\n",
       " code_show = !code_show\n",
       "} \n",
       "$( document ).ready(code_toggle);\n",
       "</script>\n",
       "<form action=\"javascript:code_toggle()\"><input type=\"submit\" value=\"The raw code is by default hidden for easier reading.\"></form>"
      ],
      "text/plain": [
       "<IPython.core.display.HTML object>"
      ]
     },
     "execution_count": 30,
     "metadata": {},
     "output_type": "execute_result"
    }
   ],
   "source": [
    "from IPython.display import HTML\n",
    "from IPython.display import Image\n",
    "import numpy as np\n",
    "import pandas as pd\n",
    "import math\n",
    "from matplotlib import pyplot as plt\n",
    "\n",
    "HTML('''<script>\n",
    "code_show=true; \n",
    "function code_toggle() {\n",
    " if (code_show){\n",
    " $('div.input').hide();\n",
    " } else {\n",
    " $('div.input').show();\n",
    " }\n",
    " code_show = !code_show\n",
    "} \n",
    "$( document ).ready(code_toggle);\n",
    "</script>\n",
    "<form action=\"javascript:code_toggle()\"><input type=\"submit\" value=\"The raw code is by default hidden for easier reading.\"></form>''')"
   ]
  },
  {
   "cell_type": "markdown",
   "metadata": {},
   "source": [
    "__Question 1__\n",
    "\n",
    "We have: \n",
    "\n",
    "$$\\begin{pmatrix}\n",
    "   a_{11} & a_{12} \\\\\n",
    "   a_{21} & a_{22} \\\\\n",
    "\\end{pmatrix}\n",
    "\\begin{pmatrix}\n",
    "   x_1 \\\\\n",
    "   x_2 \\\\\n",
    "\\end{pmatrix} = \\begin{pmatrix}b_1 \\\\b_2 \\\\\\end{pmatrix}$$\n",
    "\n",
    "We can rewrite this system as:\n",
    "\n",
    "$$\n",
    "a_{11}x_1 + a_{12}x_2 = b_1 \\rightarrow x_2 = \\frac{b_1}{a_{12}} - \\frac{a_{11}}{a_{12}}x_1 (1) \\\\\n",
    "a_{21}x_1 + a_{22}x_2 = b_2 \\rightarrow x_2 = \\frac{b_2}{a_{22}} - \\frac{a_{21}}{a_{22}}x_1 (2) \\\\\n",
    "$$\n",
    "\n",
    "\n",
    "If we project ourselves in a ${x_1; x_2}$ plane and plot these two lines, we find that the angle of (1) has angle $\\theta_1$ with the $x_1$ axis and the angle of (2) has angle \n",
    "$\\theta_2$ with the $x_1$ axis. Furthermore, we find that at the place of their intersection, we have $\\alpha = \\theta_2 - \\theta_1$. We included a graph of this below.\n"
   ]
  },
  {
   "cell_type": "code",
   "execution_count": 33,
   "metadata": {},
   "outputs": [
    {
     "data": {
      "text/html": [
       "<img src=\"Question1.PNG\" width=\"500\" height=\"500\"/>"
      ],
      "text/plain": [
       "<IPython.core.display.Image object>"
      ]
     },
     "execution_count": 33,
     "metadata": {},
     "output_type": "execute_result"
    }
   ],
   "source": [
    "Image(url='Question1.PNG', width=500, height=500)"
   ]
  },
  {
   "cell_type": "markdown",
   "metadata": {},
   "source": [
    "Furthermore, the hypotenus of the triangles made by (1), (2) and the $x_1$ axis has length $\\frac{-a_{11}}{a_{12}}$, which we can read from the equation itself (it is similar to rise/run). Similarly, we find that the hypotenuse of the lines from (1), (2) and a $x_1$ axis brought \"up\" where the lines intersect has length $\\frac{-a_{21}}{a_{22}}$.\n",
    "\n",
    "From these findings it follows that \n",
    "\n",
    "$$\n",
    "tan(\\theta_1) = \\frac{-a_{21}}{a_{22}} \\\\\n",
    "tan(\\theta_2) = \\frac{-a_{11}}{a_{12}} \\\\\n",
    "$$\n",
    "\n",
    "\n",
    "On a slightly different note, let's take a closer look at our line $tan(\\alpha) = tan(\\theta_1 - \\theta_2)$.\n",
    "\n",
    "We want to rewrite this in terms of $tan(\\theta_1)$ and $tan(\\theta_2)$.\n",
    "\n",
    "Here we go:\n",
    "\n",
    "$$\n",
    "tan(\\theta_1 - \\theta_2) = \\frac{sin(\\theta_1 - \\theta_2)}{cos(\\theta_1 - \\theta_2}\\\\\n",
    "\\text{We know that }sin(\\theta_1 - \\theta_2) = sin\\theta_1cos\\theta_2 - cos\\theta_1sin\\theta_2 \\text{ and } cos(\\theta_1 - \\theta_2) = cos\\theta_1cos\\theta_2+sin\\theta_1sin\\theta_2 \\text{ thus: }\\\\\n",
    "tan(\\theta_1 = \\theta_2) = \\frac{sin\\theta_1cos\\theta_2 - cos\\theta_1sin\\theta_2}{cos\\theta_1cos\\theta_2+sin\\theta_1sin\\theta_2} \\\\\n",
    "\\text{We can now divide by }cos\\theta_1cos\\theta_2\\text{to get}\\\\\n",
    "tan(\\theta_1-\\theta_2)=\\frac{tan\\theta_1 - tan\\theta_2}{1+tan\\theta_1tan\\theta_2}\\\\\n",
    "$$\n",
    "\n",
    "Plugging in the values we found for both tangents, we now get:\n",
    "\n",
    "$$\n",
    "tan(\\alpha) = tan(\\theta_1 - \\theta_2) = \\frac{tan\\theta_1 - tan\\theta_2}{1+tan\\theta_1tan\\theta_2} \\\\\n",
    "tan(\\alpha) = \\frac{\\frac{-a_{21}}{a_{22}} + \\frac{a_{11}}{a_{12}}}{1 + \\frac{a_{11}}{a_{12}}(\\frac{a_{21}}{a_{22}})} \\\\\n",
    "tan(\\alpha) = \\frac{(a_{11}a_{22} - a_{12}a_{21})(\\frac{1}{a_{12}a_{22}})}{(a_{11}a_{21}+a_{12}a_{22})(\\frac{1}{a_{12}a_{22}})} \\\\\n",
    "$$\n",
    "\n",
    "Thus:\n",
    "\n",
    "$$\n",
    "tan(\\alpha) = \\frac{a_{11}a_{22}-a_{12}a_{21}}{a_{11}a_{21}+a_{12}a_{22}}\n",
    "$$\n",
    "\n",
    "__Question 2__\n",
    "\n",
    "We define the initial vector $x_0$ as:\n",
    "\n",
    "$$\n",
    "x_0 = \\begin{pmatrix}\n",
    "   24/4 \\\\\n",
    "   30/4 \\\\\n",
    "   -24/4 \\\\\n",
    "\\end{pmatrix}\n",
    "$$\n",
    "\n",
    "We will run Gauss-Seidel with values of $\\omega \\in [-2; 2]$ in increments of 0.1.\n",
    "We define convergence to the 6th decimal place as when each element of the vector $x_{i+1}$ is within \n",
    "\n",
    "6th decimal place of the corresponding element of $x_i$.\n",
    "\n",
    "With these definitions in mind, we find the solution vector $x$ to be equal to:\n",
    "\n",
    "$$\n",
    "x = \\begin{pmatrix}\n",
    "   3 \\\\\n",
    "   4 \\\\\n",
    "   -5 \\\\\n",
    "\\end{pmatrix}\n",
    "$$\n",
    "\n",
    "Below we show a graph of how the number of iterations to reach this solution varies with different values of $\\omega$. We found that the most optimal values of $\\omega$ are [1.25, 1.26, 1.27, 1.31].\n"
   ]
  },
  {
   "cell_type": "markdown",
   "metadata": {},
   "source": [
    "Below we show a graph of how the number of iterations to reach this solution varies with different values of $\\omega$.\n",
    "\n",
    "We found that the most optimal values of $\\omega$ are [1.25, 1.26, 1.27, 1.31].\n",
    "\n",
    "With and of these, we reach convergence with 14 iterations."
   ]
  },
  {
   "cell_type": "code",
   "execution_count": 34,
   "metadata": {
    "collapsed": true
   },
   "outputs": [],
   "source": [
    "def sor(a, b, x0, w, tol, iters):\n",
    "    \"\"\"This function performs Gauss-Steidel with relaxation as described in the homework Q2.\n",
    "    \n",
    "    Keyword arguments:\n",
    "    a -- matrix A\n",
    "    b -- matrix B\n",
    "    x0 -- initial value of vector X\n",
    "    w -- relaxation parameter\n",
    "    tol -- tolerance\n",
    "    iters -- number of times -1 to run algorithm\n",
    "    \"\"\"\n",
    "    \n",
    "    k = 0\n",
    "    n = len(x0)\n",
    "    x=[None]*3\n",
    "    \n",
    "    while k <= iters:\n",
    "        for i in range(n):\n",
    "            sum1 = 0\n",
    "            sum2 = 0\n",
    "            \n",
    "            for j in range(i):\n",
    "                sum1 += a[i,j]*x[j]\n",
    "                \n",
    "            for j in range(i, n):\n",
    "                sum2 += a[i,j]*x0[j]\n",
    "\n",
    "            x[i] = x0[i] + (w/a[i,i])*(b[i] - sum1 - sum2)\n",
    "            \n",
    "        if abs(x[0]-x0[0]) < tol and abs(x[1]-x0[1]) < tol and abs(x[2]-x0[2]) < tol:\n",
    "            k+=1\n",
    "            #print('convergence achieved')\n",
    "            break\n",
    "                \n",
    "        if k == iters:\n",
    "            #print('maximum number of iterations achieved')\n",
    "            break\n",
    "                \n",
    "        k += 1\n",
    "        for i in range(n):\n",
    "            x0[i] = x[i]\n",
    "            \n",
    "    return x, k"
   ]
  },
  {
   "cell_type": "code",
   "execution_count": 35,
   "metadata": {
    "collapsed": true
   },
   "outputs": [],
   "source": [
    "res = []\n",
    "iters = []\n",
    "omegas1 = np.arange(-2, 0, 0.01).tolist()\n",
    "omegas2 = np.arange(0.25, 2.25, 0.01).tolist()\n",
    "omegas = omegas1 + omegas2\n",
    "\n",
    "for v in omegas:\n",
    "    A = np.matrix([[4,3,0],[3,4,-1],[0,-1,4]])\n",
    "    X = [24/4, 30/4, -24/4]\n",
    "    B = [24, 30, -24]\n",
    "    x_sol, num_iters = sor(A, B, X, v, 10**(-6), 100)\n",
    "    res.append(x_sol)\n",
    "    iters.append(num_iters)"
   ]
  },
  {
   "cell_type": "code",
   "execution_count": 40,
   "metadata": {},
   "outputs": [
    {
     "data": {
      "image/png": "[encoded data removed]",
      "text/plain": [
       "<matplotlib.figure.Figure at 0x11c4514e0>"
      ]
     },
     "metadata": {},
     "output_type": "display_data"
    }
   ],
   "source": [
    "fig1 = plt.figure(figsize = (4, 2.5), dpi = 150)\n",
    "ax1 = fig1.add_subplot(1, 1, 1)\n",
    "\n",
    "ax1.grid(b=True, which='major', linestyle='-')\n",
    "ax1.plot(omegas, iters)\n",
    "ax1.legend()\n",
    "ax1.set_xlabel(r'Values of $\\omega$')\n",
    "ax1.set_ylabel('Number of iterations')\n",
    "ax1.set_title('Number of iterations required for convergence \\n for different values of ' + r'$\\omega$' + '\\n(iterations are capped at 100)')\n",
    "ax1.text(0, 12, r'$\\omega$ = 1.25 $\\rightarrow$', color = 'r')\n",
    "\n",
    "plt.show()"
   ]
  },
  {
   "cell_type": "code",
   "execution_count": 39,
   "metadata": {
    "collapsed": true
   },
   "outputs": [],
   "source": [
    "#tst = pd.DataFrame({'i':iters, 'omegas':omegas})\n",
    "#tst2 = tst.where(tst['i']==14).dropna()\n",
    "#res[300]"
   ]
  },
  {
   "cell_type": "markdown",
   "metadata": {},
   "source": [
    "__Question 3__\n",
    "\n",
    "(a) We have the following matrix at hand:\n",
    "\n",
    "$$\n",
    "A = \\begin{pmatrix}\n",
    "   3 & 0 & 1 \\\\\n",
    "   0 & 5 & 0 \\\\\n",
    "   -1 & 1 & -1 \\\\\n",
    "\\end{pmatrix}\n",
    "$$\n",
    "\n",
    "We start by calculating its minor $M$\n",
    "\n",
    "$$\n",
    "M = \\begin{pmatrix}\n",
    "   -5-0 & 0 & 0+5 \\\\\n",
    "   0 -1 & -3+1 & 3-0 \\\\\n",
    "   0-5 & 0 & 15-0 \\\\\n",
    "\\end{pmatrix} = \\begin{pmatrix}\n",
    "   -5 & 0 & 5 \\\\\n",
    "   -1 & -2 & 3 \\\\\n",
    "   -5 & 0 & 15 \\\\\n",
    "\\end{pmatrix}\n",
    "$$\n",
    "\n",
    "We now find the corresponding matrix of cofactors $C$:\n",
    "\n",
    "$$\n",
    "C = \\begin{pmatrix}\n",
    "   -5 & 0 & 5 \\\\\n",
    "   1 & -2 & -3 \\\\\n",
    "   -5 & 0 & 15 \\\\\n",
    "\\end{pmatrix}\n",
    "$$\n",
    "\n",
    "From $C$, we find the Adjugate matrix that we call $C^T$ by transposing $C$:\n",
    "\n",
    "$$\n",
    "C^T = \\begin{pmatrix}\n",
    "   -5 & 1 & -5 \\\\\n",
    "   0 & -2 & 0 \\\\\n",
    "   5 & -3 & 15 \\\\\n",
    "\\end{pmatrix}\n",
    "$$\n",
    "\n",
    "Finally, we compute the determinant of the original matrix $A$:\n",
    "\n",
    "$detA = 3(-5-0) + 0 + 1(0+5) = -10$\n",
    "\n",
    "We can now at last compute the inverse of $A$:\n",
    "\n",
    "$$\n",
    "A^{-1} = \\begin{pmatrix}\n",
    "   0.5 & -0.1 & 0.5 \\\\\n",
    "   0 & 0.2 & 0 \\\\\n",
    "   -0.5 & 0.3 & -1.5 \\\\\n",
    "\\end{pmatrix}\n",
    "$$\n",
    "\n",
    "(b)"
   ]
  },
  {
   "cell_type": "code",
   "execution_count": 6,
   "metadata": {
    "collapsed": true
   },
   "outputs": [],
   "source": [
    "def matrixIter(x0, A):\n",
    "    \"\"\"\n",
    "    This function returns the next iteration of the inverse of a matrix\n",
    "    based on an initial guess x0 and the original matrix A.\n",
    "    \n",
    "    x0 --- initial matrix inverse guess of size 3x3\n",
    "    A --- original matrix of size 3x3\n",
    "    \"\"\"\n",
    "    \n",
    "    I = np.matrix([[1,0,0],[0,1,0],[0,0,1]])\n",
    "    \n",
    "    return x0*(2*I - A*x0)"
   ]
  },
  {
   "cell_type": "code",
   "execution_count": 7,
   "metadata": {
    "collapsed": true
   },
   "outputs": [],
   "source": [
    "X0 = np.matrix([[0.5, -0.1, 0.4],[0, 0.2, 0],[-0.4, 0.3, -1.5]])\n",
    "A = np.matrix([[3, 0, 1],[0, 5, 0],[-1, 1, -1]])"
   ]
  },
  {
   "cell_type": "markdown",
   "metadata": {},
   "source": [
    "In this case, we use the initial guess \n",
    "\n",
    "$$\n",
    "x_0 = \\begin{pmatrix}\n",
    "   0.5 & -0.1 & 0.4 \\\\\n",
    "   0 & 0.2 & 0 \\\\\n",
    "   -0.4 & 0.3 & -1.5 \\\\\n",
    "\\end{pmatrix}\n",
    "$$\n",
    "\n",
    "and find that $x_1$ is equal to:\n",
    "\n",
    "$$\n",
    "x_1 = \\begin{pmatrix}\n",
    "   0.49 & -0.1 & 0.51 \\\\\n",
    "   0 & 0.2 & 0 \\\\\n",
    "   -0.51 & 0.3 & -1.47 \\\\\n",
    "\\end{pmatrix}\n",
    "$$"
   ]
  },
  {
   "cell_type": "code",
   "execution_count": 8,
   "metadata": {
    "collapsed": true
   },
   "outputs": [],
   "source": [
    "#matrixIter(X0, A)"
   ]
  },
  {
   "cell_type": "markdown",
   "metadata": {},
   "source": [
    "(c) \n",
    "To find the deviation of $x_0$ and $x_1$ from $A^{-1}$, we compute the matrice's infinity norm for the difference between the solution and $x_0$ and $x_1$.\n",
    "\n",
    "The resulting difference matrices are $D_0$ corresponding to $A^{-1}-x_0$ and $D_1$ corresponding to $A^{-1}=x_1$:\n",
    "\n",
    "$$\n",
    "D_0 = \\begin{pmatrix}\n",
    "   0 & 0 & 0.1 \\\\\n",
    "   0 & 0 & 0 \\\\\n",
    "   -0.1 & 0 & 0 \\\\\n",
    "\\end{pmatrix}\n",
    "$$\n",
    "\n",
    "$$\n",
    "D_1 = \\begin{pmatrix}\n",
    "   0.01 & 0 & -0.01 \\\\\n",
    "   0 & 0 & 0 \\\\\n",
    "   0.01 & 0 & -0.03 \\\\\n",
    "\\end{pmatrix}\n",
    "$$\n",
    "\n",
    "To find the infinity norm, we now take the maximum of the absolute values for the sum of each row.\n",
    "\n",
    "We get that the deviation as we defined it is equal to 0.1 for $D_0$ and $0.02$ for $D_1$, which makes sense since $D_1$ is closer to the real answer than $D_0$ is. The two infinity norms differ by a magnitude of 10, suggesting we will rapidly achieve convergence. Indeed, if we run the iterations for longer, we find the true answer for $A^{-1}$ in 4 iterations with a precison to 5 decimal places.\n",
    "\n",
    "__Question 4__\n",
    "\n",
    "(a)\n",
    "\n",
    "We wrote code to perform the power method, and found the following eigenvalue $\\lambda$ and eigenvector $V$ to 6th decimal places with 9 iterations with the initial vector $x_0 = (1,1,1,1)^T$:\n",
    "        \n",
    "$$\n",
    "\\lambda = 2.618034 \n",
    "\\text{  &  }  \n",
    "V = \\begin{pmatrix}\n",
    "   1 \\\\\n",
    "   -0.618034\\\\\n",
    "   -0.618034 \\\\\n",
    "   1\\\\\n",
    "\\end{pmatrix}\n",
    "$$"
   ]
  },
  {
   "cell_type": "code",
   "execution_count": 9,
   "metadata": {
    "collapsed": true
   },
   "outputs": [],
   "source": [
    "# This is for Q3\n",
    "#0.3 - (-0.1+0.2+0.3)/3\n",
    "#0.51 + (0.5+0-1.5)/3"
   ]
  },
  {
   "cell_type": "code",
   "execution_count": 10,
   "metadata": {
    "collapsed": true
   },
   "outputs": [],
   "source": [
    "def powerMethod(A_start, x_start, iters, tol):\n",
    "    \"\"\"\n",
    "    This function runs the power method to find eigenvalues of A.\n",
    "    It returns dominant eigenvalue, associated eigenvector and number of iterations\n",
    "    \n",
    "    A_start --- initial matrix\n",
    "    x_start --- initial guess\n",
    "    iters -- number of iterations to run this for\n",
    "    tol -- tolerance for convergence\n",
    "    \"\"\"\n",
    "    for i in range(iters):\n",
    "        x_1 = A_start*x_start\n",
    "        x_2 = A_start*x_1\n",
    "        ratios = [None]*len(x_start)\n",
    "        \n",
    "        for j in range(len(x_start)):\n",
    "            \n",
    "            if x_start[j][0] == 0 or x_1[j][0] == 0:\n",
    "                ratios[j] = 0\n",
    "                \n",
    "            elif abs(x_1[j]/x_start[j] - x_2[j]/x_1[j]) < tol:\n",
    "                ratios[j] = (x_2[j]/x_1[j])\n",
    "        \n",
    "        full = all(r != None for r in ratios)\n",
    "        if full:\n",
    "            return ratios, x_2, i\n",
    "        elif i == iters-1:\n",
    "            print('convergence not achieved')\n",
    "        else:\n",
    "            x_start = x_1"
   ]
  },
  {
   "cell_type": "code",
   "execution_count": 11,
   "metadata": {
    "collapsed": true
   },
   "outputs": [],
   "source": [
    "A = np.matrix([[2, -1, 0, 0],[-1, 2, -1, 0],[0, -1, 2, -1], [0, 0, -1, 2]])\n",
    "x0a = [[1],[1],[1],[1]]\n",
    "\n",
    "eigena, Va, num_itera = powerMethod(A, x0a, 100, 10**(-6))"
   ]
  },
  {
   "cell_type": "code",
   "execution_count": 12,
   "metadata": {
    "collapsed": true
   },
   "outputs": [],
   "source": [
    "#eigena"
   ]
  },
  {
   "cell_type": "code",
   "execution_count": 13,
   "metadata": {
    "collapsed": true
   },
   "outputs": [],
   "source": [
    "#Va/Va[0] # normalizing"
   ]
  },
  {
   "cell_type": "code",
   "execution_count": 14,
   "metadata": {
    "collapsed": true
   },
   "outputs": [],
   "source": [
    "#num_itera"
   ]
  },
  {
   "cell_type": "markdown",
   "metadata": {},
   "source": [
    "(b)\n",
    "\n",
    "We use a similar procedure with a different initial vector $x_1 = (1,1,5,1)^T$ and precision to the 4th decimal place. We find a different answer than in (a) within 31 iterations:\n",
    "\n",
    "$$\n",
    "\\lambda = 3.6180\n",
    "\\text{  &  }  \n",
    "V = \\begin{pmatrix}\n",
    "   1 \\\\\n",
    "   -1.6180\\\\\n",
    "   1.6180 \\\\\n",
    "   -1\\\\\n",
    "\\end{pmatrix}\n",
    "$$"
   ]
  },
  {
   "cell_type": "code",
   "execution_count": 15,
   "metadata": {
    "collapsed": true
   },
   "outputs": [],
   "source": [
    "#x0b = [[1],[1],[5],[1]]\n",
    "#eigenb, Vb, num_iterb = powerMethod(A, x0b, 100, 10**(-5))"
   ]
  },
  {
   "cell_type": "code",
   "execution_count": 16,
   "metadata": {
    "collapsed": true
   },
   "outputs": [],
   "source": [
    "#eigenb"
   ]
  },
  {
   "cell_type": "code",
   "execution_count": 17,
   "metadata": {
    "collapsed": true
   },
   "outputs": [],
   "source": [
    "#Vb/Vb[0]"
   ]
  },
  {
   "cell_type": "code",
   "execution_count": 18,
   "metadata": {
    "collapsed": true
   },
   "outputs": [],
   "source": [
    "#num_iterb"
   ]
  },
  {
   "cell_type": "markdown",
   "metadata": {},
   "source": [
    "(c)\n",
    "\n",
    "While we found different results in (a) and (b), both are valid eigenvalues and eigenvectors of our matrix $A$. The reason why we did not get $\\lambda_{max}$ in part (a) may be because our initial vector was a close enough approximation of the eigenvector in (a). \n",
    "\n",
    "__Question 5__\n",
    "\n",
    "(a) To compute the Rayleigh quotient and error estimate, we first use the power method to find $x_2$ and $x_3$."
   ]
  },
  {
   "cell_type": "code",
   "execution_count": 19,
   "metadata": {
    "collapsed": true
   },
   "outputs": [],
   "source": [
    "A5 = np.matrix([[2, -1, 1], [-1, 3, 2], [1, 2, 3]])\n",
    "x05 = [[1], [1], [1]]\n",
    "\n",
    "#x15 = A5*x05\n",
    "#x25 = A5*x15\n",
    "#x35 = A5*x25"
   ]
  },
  {
   "cell_type": "markdown",
   "metadata": {},
   "source": [
    "We find that:\n",
    "\n",
    "$$\n",
    "x_2= \n",
    "\\begin{pmatrix}\n",
    "   6 \\\\\n",
    "   22 \\\\\n",
    "   28 \\\\\n",
    "\\end{pmatrix}\n",
    ";\n",
    "x_3= \n",
    "\\begin{pmatrix}\n",
    "   18 \\\\\n",
    "   116 \\\\\n",
    "   134 \\\\\n",
    "\\end{pmatrix}\n",
    "$$\n",
    "\n",
    "We now compute $m_1 = x_2^T x_3$ and $m_0 = x_2^Tx_2$ and find that:\n",
    "\n",
    "$m_0 = 1304; m_1 = 6412$.\n",
    "\n",
    "We then deduct the Rayleigh quotient $q = \\frac{m_1}{m_0}$ to find:\n",
    "\n",
    "$q = 4.917178$\n",
    "\n",
    "The associated error is $\\epsilon = \\sqrt{\\frac{m_2}{m_0}-q^2}$ with $m_2 = x_3^Tx_3$, which gives $\\epsilon = 0.398478$"
   ]
  },
  {
   "cell_type": "code",
   "execution_count": 20,
   "metadata": {
    "collapsed": true
   },
   "outputs": [],
   "source": [
    "#m0 = np.transpose(x25)*x25\n",
    "#m1 = np.transpose(x25)*x35\n",
    "#m2 = np.transpose(x35)*x35"
   ]
  },
  {
   "cell_type": "code",
   "execution_count": 21,
   "metadata": {
    "collapsed": true
   },
   "outputs": [],
   "source": [
    "#m0"
   ]
  },
  {
   "cell_type": "code",
   "execution_count": 22,
   "metadata": {
    "collapsed": true
   },
   "outputs": [],
   "source": [
    "#m1"
   ]
  },
  {
   "cell_type": "code",
   "execution_count": 23,
   "metadata": {
    "collapsed": true
   },
   "outputs": [],
   "source": [
    "#q = m1/m0\n",
    "#q"
   ]
  },
  {
   "cell_type": "code",
   "execution_count": 24,
   "metadata": {
    "collapsed": true
   },
   "outputs": [],
   "source": [
    "#diff = float(m2/m0)-float(q)**2\n",
    "#e = math.sqrt(diff)\n",
    "#e"
   ]
  },
  {
   "cell_type": "markdown",
   "metadata": {},
   "source": [
    "(b)\n",
    "\n",
    "We use a similar approach as in question 4 to get $\\lambda_{max}$ and $V_{max}$. Within 25 iterations, we converge towards 2 solutions: $\\lambda = 3$ and $\\lambda = 5$. These are both valid eigenvalues, and we deduct that:\n",
    "\n",
    "$$\n",
    "\\lambda_{max} = 5  \n",
    "$$\n",
    "\n",
    "However, the algorithm does not provide a satisfactory eigenvector. The answer we get is:\n",
    "\n",
    "$$\n",
    "V_{max} = \\begin{pmatrix}\n",
    "   1 \\\\\n",
    "   1465573 \\\\\n",
    "   1465573 \\\\\n",
    "\\end{pmatrix}\n",
    "$$\n",
    "\n",
    "This is not a proper eigenvector of matrix A. The reason the method failed may be because matrix A is not invertible (the 3rd eigenvalue is 0). This may throw off our algorithm. However, because we know that $\\lambda_{max} = 5$, we can analyticall deduct the associated eigenvector:\n",
    "\n",
    "$$\n",
    "V_{max} = \\begin{pmatrix}\n",
    "   0 \\\\\n",
    "   1 \\\\\n",
    "   1 \\\\\n",
    "\\end{pmatrix}\n",
    "$$"
   ]
  },
  {
   "cell_type": "code",
   "execution_count": 25,
   "metadata": {
    "collapsed": true
   },
   "outputs": [],
   "source": [
    "#eigen, V, num_iter = powerMethod(A5, x05, 100, 10**(-6))"
   ]
  },
  {
   "cell_type": "code",
   "execution_count": 26,
   "metadata": {
    "collapsed": true
   },
   "outputs": [],
   "source": [
    "#eigen"
   ]
  },
  {
   "cell_type": "code",
   "execution_count": 27,
   "metadata": {
    "collapsed": true
   },
   "outputs": [],
   "source": [
    "#V/V[0]"
   ]
  },
  {
   "cell_type": "code",
   "execution_count": 28,
   "metadata": {
    "collapsed": true
   },
   "outputs": [],
   "source": [
    "#num_iter"
   ]
  }
 ],
 "metadata": {
  "kernelspec": {
   "display_name": "Python 3",
   "language": "python",
   "name": "python3"
  },
  "language_info": {
   "codemirror_mode": {
    "name": "ipython",
    "version": 3
   },
   "file_extension": ".py",
   "mimetype": "text/x-python",
   "name": "python",
   "nbconvert_exporter": "python",
   "pygments_lexer": "ipython3",
   "version": "3.6.3"
  }
 },
 "nbformat": 4,
 "nbformat_minor": 2
}
