{
 "cells": [
  {
   "cell_type": "markdown",
   "metadata": {},
   "source": [
    "Constance Delannoy\n",
    "\n",
    "APPM 4650 | Homework 5\n",
    "\n",
    "July 24, 2020"
   ]
  },
  {
   "cell_type": "code",
   "execution_count": 1,
   "metadata": {},
   "outputs": [
    {
     "data": {
      "text/html": [
       "<script>\n",
       "code_show=true; \n",
       "function code_toggle() {\n",
       " if (code_show){\n",
       " $('div.input').hide();\n",
       " } else {\n",
       " $('div.input').show();\n",
       " }\n",
       " code_show = !code_show\n",
       "} \n",
       "$( document ).ready(code_toggle);\n",
       "</script>\n",
       "<form action=\"javascript:code_toggle()\"><input type=\"submit\" value=\"The raw code is by default hidden for easier reading.\"></form>"
      ],
      "text/plain": [
       "<IPython.core.display.HTML object>"
      ]
     },
     "execution_count": 1,
     "metadata": {},
     "output_type": "execute_result"
    }
   ],
   "source": [
    "from IPython.display import HTML\n",
    "import numpy as np\n",
    "import pandas as pd\n",
    "import math\n",
    "from matplotlib import pyplot as plt\n",
    "\n",
    "HTML('''<script>\n",
    "code_show=true; \n",
    "function code_toggle() {\n",
    " if (code_show){\n",
    " $('div.input').hide();\n",
    " } else {\n",
    " $('div.input').show();\n",
    " }\n",
    " code_show = !code_show\n",
    "} \n",
    "$( document ).ready(code_toggle);\n",
    "</script>\n",
    "<form action=\"javascript:code_toggle()\"><input type=\"submit\" value=\"The raw code is by default hidden for easier reading.\"></form>''')"
   ]
  },
  {
   "cell_type": "markdown",
   "metadata": {},
   "source": [
    "__Question 1__\n",
    "\n",
    "TBD\n",
    "\n",
    "__Question 2__\n",
    "\n",
    "We define the initial vector $x$\n",
    "\n",
    "** mention precision on only 1 value"
   ]
  },
  {
   "cell_type": "code",
   "execution_count": 143,
   "metadata": {
    "collapsed": true
   },
   "outputs": [],
   "source": [
    "def sor(a, b, x0, w, tol, iters):\n",
    "    \"\"\"This function performs Gauss-Steidel with relaxation as described in the homework Q2.\n",
    "    \n",
    "    Keyword arguments:\n",
    "    a -- matrix A\n",
    "    b -- matrix B\n",
    "    x0 -- initial value of vector X\n",
    "    w -- relaxation parameter\n",
    "    tol -- tolerance\n",
    "    iters -- number of times -1 to run algorithm\n",
    "    \"\"\"\n",
    "    \n",
    "    k = 0\n",
    "    n = len(x0)\n",
    "    x=[None]*3\n",
    "    \n",
    "    while k <= iters:\n",
    "        for i in range(n):\n",
    "            sum1 = 0\n",
    "            sum2 = 0\n",
    "            \n",
    "            for j in range(i):\n",
    "                sum1 += a[i,j]*x[j]\n",
    "                \n",
    "            for j in range(i, n):\n",
    "                sum2 += a[i,j]*x0[j]\n",
    "\n",
    "            x[i] = x0[i] + (w/a[i,i])*(b[i] - sum1 - sum2)\n",
    "            \n",
    "        if abs(x[0]-x0[0]) < tol and abs(x[1]-x0[1]) < tol and abs(x[2]-x0[2]) < tol:\n",
    "            k+=1\n",
    "            #print('convergence achieved')\n",
    "            break\n",
    "                \n",
    "        if k == iters:\n",
    "            #print('maximum number of iterations achieved')\n",
    "            break\n",
    "                \n",
    "        k += 1\n",
    "        for i in range(n):\n",
    "            x0[i] = x[i]\n",
    "            \n",
    "    return x, k"
   ]
  },
  {
   "cell_type": "code",
   "execution_count": 144,
   "metadata": {},
   "outputs": [],
   "source": [
    "res = []\n",
    "iters = []\n",
    "omegas1 = np.arange(-2, 0, 0.01).tolist()\n",
    "omegas2 = np.arange(0.25, 2.25, 0.01).tolist()\n",
    "omegas = omegas1 + omegas2\n",
    "\n",
    "for v in omegas:\n",
    "    A = np.matrix([[4,3,0],[3,4,-1],[0,-1,4]])\n",
    "    X = [24/4, 30/4, -24/4]\n",
    "    B = [24, 30, -24]\n",
    "    x_sol, num_iters = sor(A, B, X, v, 10**(-6), 100)\n",
    "    res.append(x_sol)\n",
    "    iters.append(num_iters)"
   ]
  },
  {
   "cell_type": "code",
   "execution_count": 145,
   "metadata": {},
   "outputs": [
    {
     "data": {
      "image/png": "[encoded data removed]",
      "text/plain": [
       "<matplotlib.figure.Figure at 0x11e573c50>"
      ]
     },
     "metadata": {},
     "output_type": "display_data"
    }
   ],
   "source": [
    "fig1 = plt.figure(figsize = (4, 2.5), dpi = 150)\n",
    "ax1 = fig1.add_subplot(1, 1, 1)\n",
    "\n",
    "ax1.grid(b=True, which='major', linestyle='-')\n",
    "ax1.plot(omegas, iters)\n",
    "ax1.legend()\n",
    "ax1.set_xlabel(r'Values of $\\omega$')\n",
    "ax1.set_ylabel('Number of iterations')\n",
    "ax1.set_title('Number of iterations required for convergence \\n for different values of ' + r'$\\omega$' + '\\n(iterations are capped at 100)')\n",
    "ax1.text(0, 10, r'$\\omega$ = 1.25 $\\rightarrow$', color = 'r')\n",
    "\n",
    "plt.show()"
   ]
  },
  {
   "cell_type": "markdown",
   "metadata": {},
   "source": [
    "Based on this graph, the optimal value of $\\omega$ is 1.25, which results in only 14 iterations.\n",
    "\n",
    "The results provide the following $x$ vector with $10^{-6}$ precision:"
   ]
  },
  {
   "cell_type": "code",
   "execution_count": 155,
   "metadata": {},
   "outputs": [
    {
     "data": {
      "text/html": [
       "<div>\n",
       "<style>\n",
       "    .dataframe thead tr:only-child th {\n",
       "        text-align: right;\n",
       "    }\n",
       "\n",
       "    .dataframe thead th {\n",
       "        text-align: left;\n",
       "    }\n",
       "\n",
       "    .dataframe tbody tr th {\n",
       "        vertical-align: top;\n",
       "    }\n",
       "</style>\n",
       "<table border=\"1\" class=\"dataframe\">\n",
       "  <thead>\n",
       "    <tr style=\"text-align: right;\">\n",
       "      <th></th>\n",
       "      <th>i</th>\n",
       "      <th>omegas</th>\n",
       "    </tr>\n",
       "  </thead>\n",
       "  <tbody>\n",
       "    <tr>\n",
       "      <th>300</th>\n",
       "      <td>14.0</td>\n",
       "      <td>1.25</td>\n",
       "    </tr>\n",
       "    <tr>\n",
       "      <th>301</th>\n",
       "      <td>14.0</td>\n",
       "      <td>1.26</td>\n",
       "    </tr>\n",
       "    <tr>\n",
       "      <th>302</th>\n",
       "      <td>14.0</td>\n",
       "      <td>1.27</td>\n",
       "    </tr>\n",
       "    <tr>\n",
       "      <th>306</th>\n",
       "      <td>14.0</td>\n",
       "      <td>1.31</td>\n",
       "    </tr>\n",
       "  </tbody>\n",
       "</table>\n",
       "</div>"
      ],
      "text/plain": [
       "        i  omegas\n",
       "300  14.0    1.25\n",
       "301  14.0    1.26\n",
       "302  14.0    1.27\n",
       "306  14.0    1.31"
      ]
     },
     "execution_count": 155,
     "metadata": {},
     "output_type": "execute_result"
    }
   ],
   "source": [
    "res[-4]\n",
    "\n",
    "tst = pd.DataFrame({'i':iters, 'omegas':omegas})\n",
    "tst2 = tst.where(tst['i']==14).dropna()\n",
    "tst2"
   ]
  },
  {
   "cell_type": "markdown",
   "metadata": {},
   "source": [
    "__Question 3__\n",
    "\n",
    "(a) We have the following matrix at hand:\n",
    "\n",
    "$$\n",
    "A = \\begin{pmatrix}\n",
    "   3 & 0 & 1 \\\\\n",
    "   0 & 5 & 0 \\\\\n",
    "   -1 & 1 & -1 \\\\\n",
    "\\end{pmatrix}\n",
    "$$\n",
    "\n",
    "We start by calculating its minor $M$\n",
    "\n",
    "$$\n",
    "M = \\begin{pmatrix}\n",
    "   -5-0 & 0 & 0+5 \\\\\n",
    "   0 -1 & -3+1 & 3-0 \\\\\n",
    "   0-5 & 0 & 15-0 \\\\\n",
    "\\end{pmatrix}\n",
    "=\n",
    "\\begin{pmatrix}\n",
    "   -5 & 0 & 5 \\\\\n",
    "   -1 & -2 & 3 \\\\\n",
    "   -5 & 0 & 15 \\\\\n",
    "\\end{pmatrix}\n",
    "$$\n",
    "\n",
    "We now find the corresponding matrix of cofactors $C$:\n",
    "\n",
    "$$\n",
    "C = \\begin{pmatrix}\n",
    "   -5 & 0 & 5 \\\\\n",
    "   1 & -2 & -3 \\\\\n",
    "   -5 & 0 & 15 \\\\\n",
    "\\end{pmatrix}\n",
    "$$\n",
    "\n",
    "From $C$, we find the Adjugate matrix that we call $C^T$ by transposing C:\n",
    "\n",
    "$$\n",
    "C^T = \\begin{pmatrix}\n",
    "   -5 & 1 & -5 \\\\\n",
    "   0 & -2 & 0 \\\\\n",
    "   5 & -3 & 15 \\\\\n",
    "\\end{pmatrix}\n",
    "$$\n",
    "\n",
    "Finally, we compute the determinant of the original matrix $A$:\n",
    "\n",
    "$detA = 3(-5-0) + 0 + 1(0+5) = -10$\n",
    "\n",
    "We can now at last compute the inverse of $A$:\n",
    "\n",
    "$$\n",
    "A^{-1} = \\begin{pmatrix}\n",
    "   0.5 & -0.1 & 0.5 \\\\\n",
    "   0 & 0.2 & 0 \\\\\n",
    "   -0.5 & 0.3 & -1.5 \\\\\n",
    "\\end{pmatrix}\n",
    "$$\n",
    "\n",
    "(b)"
   ]
  },
  {
   "cell_type": "code",
   "execution_count": 7,
   "metadata": {
    "collapsed": true
   },
   "outputs": [],
   "source": [
    "def matrixIter(x0, A):\n",
    "    \"\"\"\n",
    "    This function returns the next iteration of the inverse of a matrix\n",
    "    based on an initial guess x0 and the original matrix A.\n",
    "    \n",
    "    x0 --- initial matrix inverse guess of size 3x3\n",
    "    A --- original matrix of size 3x3\n",
    "    \"\"\"\n",
    "    \n",
    "    I = np.matrix([[1,0,0],[0,1,0],[0,0,1]])\n",
    "    \n",
    "    return x0*(2*I - A*x0)"
   ]
  },
  {
   "cell_type": "code",
   "execution_count": 8,
   "metadata": {
    "collapsed": true
   },
   "outputs": [],
   "source": [
    "X0 = np.matrix([[0.5, -0.1, 0.4],[0, 0.2, 0],[-0.4, 0.3, -1.5]])\n",
    "A = np.matrix([[3, 0, 1],[0, 5, 0],[-1, 1, -1]])"
   ]
  },
  {
   "cell_type": "markdown",
   "metadata": {},
   "source": [
    "In this case, we use the initial guess \n",
    "\n",
    "$$\n",
    "x_0 = \\begin{pmatrix}\n",
    "   0.5 & -0.1 & 0.4 \\\\\n",
    "   0 & 0.2 & 0 \\\\\n",
    "   -0.4 & 0.3 & -1.5 \\\\\n",
    "\\end{pmatrix}\n",
    "$$\n",
    "\n",
    "and find the following result for $x_1$:"
   ]
  },
  {
   "cell_type": "code",
   "execution_count": 9,
   "metadata": {},
   "outputs": [
    {
     "data": {
      "text/plain": [
       "matrix([[ 0.49, -0.1 ,  0.51],\n",
       "        [ 0.  ,  0.2 ,  0.  ],\n",
       "        [-0.51,  0.3 , -1.47]])"
      ]
     },
     "execution_count": 9,
     "metadata": {},
     "output_type": "execute_result"
    }
   ],
   "source": [
    "matrixIter(X0, A)"
   ]
  },
  {
   "cell_type": "markdown",
   "metadata": {},
   "source": [
    "(c) **IS THIS RIGHT??**\n",
    "\n",
    "To find the deviation of $x_0$ and $x_1$ from $A^{-1}$, we first compute the mean of each column of $A^{-1}$. Here, $\\bar{A^-1}_i$ denotes the mean from the $ith$ column.\n",
    "\n",
    "$\\bar{A^{-1}_1} = \\frac{0.5 + 0 - 0.5}{3} = 0$\n",
    "\n",
    "$\\bar{A^{-1}_2} = \\frac{-0.1 + 0.2 + 0.3}{3} = 0.133333$\n",
    "\n",
    "$\\bar{A^{-1}_2} = \\frac{0.5 + 0 - 1.5}{3} = -0.333333$\n",
    "\n",
    "Based on these numbers, we infer the resulting deviation matrices $D_0$ for $x_0$ and $D_1$ for $x_1$:\n",
    "\n",
    "$$\n",
    "D_0 = \\begin{pmatrix}\n",
    "   0.5 - 0 & -0.1 - 0.133333 & 0.4 + 0.333333 \\\\\n",
    "   0 - 0 & 0.2 - 0.133333 & 0 + 0.333333 \\\\\n",
    "   -0.4 - 0 & 0.3 - 0.133333 & -1.5 + 0.333333 \\\\\n",
    "\\end{pmatrix}\n",
    "= \n",
    "\\begin{pmatrix}\n",
    "   0.5 & -0.23334 & 0.06667 \\\\\n",
    "   0 & 0.66667 & 0.333333 \\\\\n",
    "   -0.4 & 0.16666 & -1.83333 \\\\\n",
    "\\end{pmatrix}\n",
    "$$\n",
    "\n",
    "$$\n",
    "D_1 = \\begin{pmatrix}\n",
    "   0.49 - 0 & -0.1 - 0.133333 & 0.51 + 0.333333 \\\\\n",
    "   0 - 0 & 0.2 - 0.133333 & 0 + 0.333333 \\\\\n",
    "   -0.51 - 0 & 0.3 - 0.133333 & -1.47 + 0.333333 \\\\\n",
    "\\end{pmatrix}\n",
    "= \n",
    "\\begin{pmatrix}\n",
    "   0.49 & -0.23334 & 0.17667 \\\\\n",
    "   0 & 0.66667 & 0.333333 \\\\\n",
    "   -0.51 & 0.16666 & -1.80333 \\\\\n",
    "\\end{pmatrix}\n",
    "$$\n",
    "\n",
    "We note that $x_1$ overshot some of the answers but is closer to the true value of $A^{-1}$ when considering all each column at once.\n",
    "\n",
    "__Question 4__\n",
    "\n",
    "(a)"
   ]
  },
  {
   "cell_type": "code",
   "execution_count": 10,
   "metadata": {},
   "outputs": [],
   "source": [
    "# This is for Q3\n",
    "#0.3 - (-0.1+0.2+0.3)/3\n",
    "#0.51 + (0.5+0-1.5)/3"
   ]
  },
  {
   "cell_type": "code",
   "execution_count": 45,
   "metadata": {
    "collapsed": true
   },
   "outputs": [],
   "source": [
    "def powerMethod(A_start, x_start, iters, tol):\n",
    "    \"\"\"\n",
    "    This function runs the power method to find eigenvalues of A.\n",
    "    It returns dominant eigenvalue, associated eigenvector and number of iterations\n",
    "    \n",
    "    A_start --- initial matrix\n",
    "    x_start --- initial guess\n",
    "    iters -- number of iterations to run this for\n",
    "    tol -- tolerance for convergence\n",
    "    \"\"\"\n",
    "    for i in range(iters):\n",
    "        x_1 = A_start*x_start\n",
    "        x_2 = A_start*x_1\n",
    "        ratios = []\n",
    "\n",
    "        for j in range(len(x_start)):\n",
    "            \n",
    "            if x_1[j] == 0 & x_2[j] == 0 :\n",
    "                ratios.append(0)\n",
    "                \n",
    "            elif abs(x_start[j]/x_1[j] - x_1[j]/x_2[j]) < tol:\n",
    "                ratios.append(x_1[j]/x_2[j])\n",
    "        \n",
    "        if(len(ratios) == len(x_start)):\n",
    "            return ratios, x_2, i\n",
    "        else:\n",
    "            x_start = x_1"
   ]
  },
  {
   "cell_type": "code",
   "execution_count": 46,
   "metadata": {},
   "outputs": [],
   "source": [
    "A = np.matrix([[2, -1, 0, 0],[-1, 2, -1, 0],[0, -1, 2, -1], [0, 0, -1, 2]])\n",
    "x0a = [[1],[1],[1],[1]]\n",
    "\n",
    "eigena, Va, num_itera = powerMethod(A, x0a, 10, 10**(-4))"
   ]
  },
  {
   "cell_type": "code",
   "execution_count": 47,
   "metadata": {},
   "outputs": [
    {
     "data": {
      "text/plain": [
       "[matrix([[ 0.38196721]]),\n",
       " matrix([[ 0.38196286]]),\n",
       " matrix([[ 0.38196286]]),\n",
       " matrix([[ 0.38196721]])]"
      ]
     },
     "execution_count": 47,
     "metadata": {},
     "output_type": "execute_result"
    }
   ],
   "source": [
    "eigena"
   ]
  },
  {
   "cell_type": "code",
   "execution_count": 48,
   "metadata": {},
   "outputs": [
    {
     "data": {
      "text/plain": [
       "matrix([[ 1.        ],\n",
       "        [-0.61803279],\n",
       "        [-0.61803279],\n",
       "        [ 1.        ]])"
      ]
     },
     "execution_count": 48,
     "metadata": {},
     "output_type": "execute_result"
    }
   ],
   "source": [
    "Va/Va[0] # normalizing"
   ]
  },
  {
   "cell_type": "code",
   "execution_count": 49,
   "metadata": {},
   "outputs": [
    {
     "data": {
      "text/plain": [
       "6"
      ]
     },
     "execution_count": 49,
     "metadata": {},
     "output_type": "execute_result"
    }
   ],
   "source": [
    "num_itera"
   ]
  },
  {
   "cell_type": "markdown",
   "metadata": {},
   "source": [
    "(b)\n",
    "\n",
    "We use a similar procedure with a different initial vector:\n",
    "\n",
    "$$\n",
    "x_0= \n",
    "\\begin{pmatrix}\n",
    "   1 \\\\\n",
    "   1 \\\\\n",
    "   5 \\\\\n",
    "   1 \\\\\n",
    "\\end{pmatrix}\n",
    "$$"
   ]
  },
  {
   "cell_type": "code",
   "execution_count": 50,
   "metadata": {},
   "outputs": [],
   "source": [
    "x0b = [[1],[1],[1],[1]]\n",
    "eigenb, Vb, num_iterb = powerMethod(A, x0b, 100, 10**(-4))"
   ]
  },
  {
   "cell_type": "code",
   "execution_count": 51,
   "metadata": {},
   "outputs": [
    {
     "data": {
      "text/plain": [
       "[matrix([[ 0.38196721]]),\n",
       " matrix([[ 0.38196286]]),\n",
       " matrix([[ 0.38196286]]),\n",
       " matrix([[ 0.38196721]])]"
      ]
     },
     "execution_count": 51,
     "metadata": {},
     "output_type": "execute_result"
    }
   ],
   "source": [
    "eigenb"
   ]
  },
  {
   "cell_type": "code",
   "execution_count": 52,
   "metadata": {},
   "outputs": [
    {
     "data": {
      "text/plain": [
       "matrix([[ 1.        ],\n",
       "        [-0.61803279],\n",
       "        [-0.61803279],\n",
       "        [ 1.        ]])"
      ]
     },
     "execution_count": 52,
     "metadata": {},
     "output_type": "execute_result"
    }
   ],
   "source": [
    "Vb/Vb[0]"
   ]
  },
  {
   "cell_type": "code",
   "execution_count": 53,
   "metadata": {},
   "outputs": [
    {
     "data": {
      "text/plain": [
       "6"
      ]
     },
     "execution_count": 53,
     "metadata": {},
     "output_type": "execute_result"
    }
   ],
   "source": [
    "num_iterb"
   ]
  },
  {
   "cell_type": "markdown",
   "metadata": {},
   "source": [
    "We find that we achieve convergence towards the same eigenvalue and eigenvector in the same number (6) of iterations as with the initial $x_0$. \n",
    "\n",
    "\n",
    "__Question 5__\n",
    "\n",
    "(a) To compute the Raleigh quotient and error estimate, we first use the power method to find $x_2$ and $x_3$."
   ]
  },
  {
   "cell_type": "code",
   "execution_count": 54,
   "metadata": {},
   "outputs": [],
   "source": [
    "A5 = np.matrix([[2, -1, 1], [-1, 3, 2], [1, 2, 3]])\n",
    "x05 = [[1], [1], [1]]\n",
    "\n",
    "x15 = A5*x05\n",
    "x25 = A5*x15\n",
    "x35 = A5*x25"
   ]
  },
  {
   "cell_type": "markdown",
   "metadata": {},
   "source": [
    "We find that:\n",
    "\n",
    "$$\n",
    "x_2= \n",
    "\\begin{pmatrix}\n",
    "   6 \\\\\n",
    "   22 \\\\\n",
    "   28 \\\\\n",
    "\\end{pmatrix}\n",
    ";\n",
    "x_3= \n",
    "\\begin{pmatrix}\n",
    "   18 \\\\\n",
    "   116 \\\\\n",
    "   134 \\\\\n",
    "\\end{pmatrix}\n",
    "$$\n",
    "\n",
    "We now compute $m_0 = x_3^T x_3$ and $m_4 = x_3^T A x_3$ and find that:\n",
    "\n",
    "$m_0 = 31736; m_4 = 157708$.\n",
    "\n",
    "We then deduct the Rayleigh quotient $q = \\frac{m_4}{m_0}$ to find:\n",
    "\n",
    "$q = 4.96937$\n",
    "\n",
    "\n",
    "**ERROR ESTIMATE IS MSE of $X_2$ AND $X_3$?? $\\rightarrow$ my MSE is realy big**"
   ]
  },
  {
   "cell_type": "code",
   "execution_count": 81,
   "metadata": {},
   "outputs": [],
   "source": [
    "m0 = np.transpose(x35)*x35\n",
    "m3 = np.transpose(x35)*A5*x35"
   ]
  },
  {
   "cell_type": "code",
   "execution_count": 82,
   "metadata": {},
   "outputs": [
    {
     "data": {
      "text/plain": [
       "matrix([[31736]])"
      ]
     },
     "execution_count": 82,
     "metadata": {},
     "output_type": "execute_result"
    }
   ],
   "source": [
    "m0"
   ]
  },
  {
   "cell_type": "code",
   "execution_count": 83,
   "metadata": {},
   "outputs": [
    {
     "data": {
      "text/plain": [
       "matrix([[157708]])"
      ]
     },
     "execution_count": 83,
     "metadata": {},
     "output_type": "execute_result"
    }
   ],
   "source": [
    "m3"
   ]
  },
  {
   "cell_type": "code",
   "execution_count": 84,
   "metadata": {},
   "outputs": [
    {
     "data": {
      "text/plain": [
       "matrix([[ 4.96937232]])"
      ]
     },
     "execution_count": 84,
     "metadata": {},
     "output_type": "execute_result"
    }
   ],
   "source": [
    "m3/m0"
   ]
  },
  {
   "cell_type": "code",
   "execution_count": 85,
   "metadata": {},
   "outputs": [],
   "source": [
    "dist = (x35-x25).tolist()\n",
    "dist_sq = list(map(lambda x: x[0]**2, dist))\n",
    "mse = sum(dist_sq)/len(dist_sq)"
   ]
  },
  {
   "cell_type": "code",
   "execution_count": 86,
   "metadata": {},
   "outputs": [
    {
     "data": {
      "text/plain": [
       "6738.666666666667"
      ]
     },
     "execution_count": 86,
     "metadata": {},
     "output_type": "execute_result"
    }
   ],
   "source": [
    "mse"
   ]
  },
  {
   "cell_type": "markdown",
   "metadata": {},
   "source": [
    "(b)\n",
    "\n",
    "We use a similar approach as in question 4 to get $\\lambda_{max}$ and $V_{max}$."
   ]
  },
  {
   "cell_type": "code",
   "execution_count": 73,
   "metadata": {},
   "outputs": [],
   "source": [
    "eigen, V, num_iter = powerMethod(A5, x05, 100, 10**(-6))"
   ]
  },
  {
   "cell_type": "code",
   "execution_count": 74,
   "metadata": {},
   "outputs": [
    {
     "data": {
      "text/plain": [
       "[matrix([[ 0.33333333]]), matrix([[ 0.19999903]]), matrix([[ 0.20000097]])]"
      ]
     },
     "execution_count": 74,
     "metadata": {},
     "output_type": "execute_result"
    }
   ],
   "source": [
    "eigen"
   ]
  },
  {
   "cell_type": "code",
   "execution_count": 75,
   "metadata": {},
   "outputs": [
    {
     "data": {
      "text/plain": [
       "matrix([[  1.00000000e+00],\n",
       "        [  6.83772807e+04],\n",
       "        [  6.83782807e+04]])"
      ]
     },
     "execution_count": 75,
     "metadata": {},
     "output_type": "execute_result"
    }
   ],
   "source": [
    "V/V[0]"
   ]
  },
  {
   "cell_type": "code",
   "execution_count": 76,
   "metadata": {},
   "outputs": [
    {
     "data": {
      "text/plain": [
       "19"
      ]
     },
     "execution_count": 76,
     "metadata": {},
     "output_type": "execute_result"
    }
   ],
   "source": [
    "num_iter"
   ]
  },
  {
   "cell_type": "code",
   "execution_count": null,
   "metadata": {
    "collapsed": true
   },
   "outputs": [],
   "source": []
  }
 ],
 "metadata": {
  "kernelspec": {
   "display_name": "Python 3",
   "language": "python",
   "name": "python3"
  },
  "language_info": {
   "codemirror_mode": {
    "name": "ipython",
    "version": 3
   },
   "file_extension": ".py",
   "mimetype": "text/x-python",
   "name": "python",
   "nbconvert_exporter": "python",
   "pygments_lexer": "ipython3",
   "version": "3.6.3"
  }
 },
 "nbformat": 4,
 "nbformat_minor": 2
}
