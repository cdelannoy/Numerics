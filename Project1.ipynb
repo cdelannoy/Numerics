{
 "cells": [
  {
   "cell_type": "code",
   "execution_count": 1,
   "metadata": {
    "collapsed": true
   },
   "outputs": [],
   "source": [
    "import pandas as pd\n",
    "from matplotlib import pyplot as plt"
   ]
  },
  {
   "cell_type": "markdown",
   "metadata": {},
   "source": [
    "We first focus on F"
   ]
  },
  {
   "cell_type": "code",
   "execution_count": 2,
   "metadata": {
    "collapsed": true
   },
   "outputs": [],
   "source": [
    "# RK-4 set up\n",
    "def rk4(f1, f2, f3, h, FValues, num_iter):\n",
    "    \"this function performs RK-4\"\n",
    "    \n",
    "    steps = list(range(num_iter))\n",
    "    \n",
    "    for i in steps:\n",
    "        \n",
    "        k11 = h*f1(FValues['f_prime'][i])\n",
    "        k12 = h*f2(FValues['f_prime_2'][i])\n",
    "        k13 = h*f3(FValues['f'][i], FValues['f_prime_2'][i])\n",
    "\n",
    "        k21 = h*f1(FValues['f_prime'][i] + k12/2)\n",
    "        k22 = h*f2(FValues['f_prime_2'][i] + k13/2)\n",
    "        k23 = h*f3(FValues['f'][i] + k11/2, FValues['f_prime_2'][i] + k13/2)\n",
    "\n",
    "        k31 = h*f1(FValues['f_prime'][i] + k22/2)\n",
    "        k32 = h*f2(FValues['f_prime_2'][i] + k23/2)\n",
    "        k33 = h*f3(FValues['f'][i] + k21/2, FValues['f_prime_2'][i] + k23/2)\n",
    "\n",
    "        k41 = h*f1(FValues['f_prime'][i] + k32)\n",
    "        k42 = h*f2(FValues['f_prime_2'][i] + k33)\n",
    "        k43 = h*f3(FValues['f'][i] + k31, FValues['f_prime_2'][i] + k33)\n",
    "\n",
    "        f = FValues['f'][i] + (1/6)*(k11 + 2*k21 + 2*k31 + k41)\n",
    "        f_prime = FValues['f_prime'][i]  + (1/6)*(k12 + 2*k22 + 2*k32 + k42)\n",
    "        f_dbl_prime = FValues['f_prime_2'][i] + (1/6)*(k13 + 2*k23 + 2*k33 + k43)\n",
    "        \n",
    "        FValues['eta'].append(i*h+h)\n",
    "        FValues['f'].append(f)\n",
    "        FValues['f_prime'].append(f_prime)\n",
    "        FValues['f_prime_2'].append(f_dbl_prime)\n",
    "                   \n",
    "    return FValues\n",
    "\n",
    "# Functions at hand\n",
    "def y1(u2):\n",
    "    \"This is from f'=y2\"\n",
    "    y = u2\n",
    "    return y\n",
    "\n",
    "def y2(u3):\n",
    "    \"This is from f''=y3\"\n",
    "    y = u3\n",
    "    return y\n",
    "\n",
    "def y3(u1, u3):\n",
    "    \"This is from y'''=0.5(f*f'')\"\n",
    "    y = -0.5 * u1 * u3\n",
    "    return y"
   ]
  },
  {
   "cell_type": "code",
   "execution_count": 3,
   "metadata": {
    "collapsed": true
   },
   "outputs": [],
   "source": [
    "#f_list = rk4(f1=y2, f2=y3, f3=y4, h=0.1, FValues=res, num_iter=100)"
   ]
  },
  {
   "cell_type": "code",
   "execution_count": 4,
   "metadata": {
    "collapsed": true
   },
   "outputs": [],
   "source": [
    "x_lower = 0\n",
    "x_upper = 10\n",
    "\n",
    "test_val = -1 #this is what we want to get\n",
    "\n",
    "while abs(x_upper - x_lower) >= 10**(-6):\n",
    "        \n",
    "    # Trying values of f''\n",
    "    x_test = (x_upper + x_lower)/2\n",
    "    res = {'eta':[0], 'f':[0], 'f_prime': [0], 'f_prime_2' : [x_test]}\n",
    "    \n",
    "    res_f = rk4(f1=y1, f2=y2, f3=y3, h=0.1, FValues=res, num_iter=100)\n",
    "    \n",
    "    if (res_f['f_prime'][-1]-1)*test_val < 0:\n",
    "        x_upper = x_test\n",
    "    else:\n",
    "        x_lower = x_test\n",
    "        test_val = res_f['f_prime'][-1] -1"
   ]
  },
  {
   "cell_type": "code",
   "execution_count": 5,
   "metadata": {},
   "outputs": [
    {
     "data": {
      "text/html": [
       "<div>\n",
       "<style>\n",
       "    .dataframe thead tr:only-child th {\n",
       "        text-align: right;\n",
       "    }\n",
       "\n",
       "    .dataframe thead th {\n",
       "        text-align: left;\n",
       "    }\n",
       "\n",
       "    .dataframe tbody tr th {\n",
       "        vertical-align: top;\n",
       "    }\n",
       "</style>\n",
       "<table border=\"1\" class=\"dataframe\">\n",
       "  <thead>\n",
       "    <tr style=\"text-align: right;\">\n",
       "      <th></th>\n",
       "      <th>eta</th>\n",
       "      <th>f</th>\n",
       "      <th>f_prime</th>\n",
       "      <th>f_prime_2</th>\n",
       "    </tr>\n",
       "  </thead>\n",
       "  <tbody>\n",
       "    <tr>\n",
       "      <th>0</th>\n",
       "      <td>0.0</td>\n",
       "      <td>0.000000</td>\n",
       "      <td>0.000000</td>\n",
       "      <td>0.332057</td>\n",
       "    </tr>\n",
       "    <tr>\n",
       "      <th>1</th>\n",
       "      <td>0.1</td>\n",
       "      <td>0.001660</td>\n",
       "      <td>0.033205</td>\n",
       "      <td>0.332048</td>\n",
       "    </tr>\n",
       "    <tr>\n",
       "      <th>2</th>\n",
       "      <td>0.2</td>\n",
       "      <td>0.006641</td>\n",
       "      <td>0.066408</td>\n",
       "      <td>0.331983</td>\n",
       "    </tr>\n",
       "    <tr>\n",
       "      <th>3</th>\n",
       "      <td>0.3</td>\n",
       "      <td>0.014941</td>\n",
       "      <td>0.099598</td>\n",
       "      <td>0.331809</td>\n",
       "    </tr>\n",
       "    <tr>\n",
       "      <th>4</th>\n",
       "      <td>0.4</td>\n",
       "      <td>0.026560</td>\n",
       "      <td>0.132764</td>\n",
       "      <td>0.331469</td>\n",
       "    </tr>\n",
       "    <tr>\n",
       "      <th>5</th>\n",
       "      <td>0.5</td>\n",
       "      <td>0.041493</td>\n",
       "      <td>0.165885</td>\n",
       "      <td>0.330911</td>\n",
       "    </tr>\n",
       "    <tr>\n",
       "      <th>6</th>\n",
       "      <td>0.6</td>\n",
       "      <td>0.059735</td>\n",
       "      <td>0.198937</td>\n",
       "      <td>0.330079</td>\n",
       "    </tr>\n",
       "    <tr>\n",
       "      <th>7</th>\n",
       "      <td>0.7</td>\n",
       "      <td>0.081277</td>\n",
       "      <td>0.231890</td>\n",
       "      <td>0.328922</td>\n",
       "    </tr>\n",
       "    <tr>\n",
       "      <th>8</th>\n",
       "      <td>0.8</td>\n",
       "      <td>0.106108</td>\n",
       "      <td>0.264709</td>\n",
       "      <td>0.327389</td>\n",
       "    </tr>\n",
       "    <tr>\n",
       "      <th>9</th>\n",
       "      <td>0.9</td>\n",
       "      <td>0.134213</td>\n",
       "      <td>0.297354</td>\n",
       "      <td>0.325432</td>\n",
       "    </tr>\n",
       "  </tbody>\n",
       "</table>\n",
       "</div>"
      ],
      "text/plain": [
       "   eta         f   f_prime  f_prime_2\n",
       "0  0.0  0.000000  0.000000   0.332057\n",
       "1  0.1  0.001660  0.033205   0.332048\n",
       "2  0.2  0.006641  0.066408   0.331983\n",
       "3  0.3  0.014941  0.099598   0.331809\n",
       "4  0.4  0.026560  0.132764   0.331469\n",
       "5  0.5  0.041493  0.165885   0.330911\n",
       "6  0.6  0.059735  0.198937   0.330079\n",
       "7  0.7  0.081277  0.231890   0.328922\n",
       "8  0.8  0.106108  0.264709   0.327389\n",
       "9  0.9  0.134213  0.297354   0.325432"
      ]
     },
     "execution_count": 5,
     "metadata": {},
     "output_type": "execute_result"
    }
   ],
   "source": [
    "pd.DataFrame(res_f).head(10)"
   ]
  },
  {
   "cell_type": "code",
   "execution_count": 6,
   "metadata": {},
   "outputs": [
    {
     "data": {
      "text/html": [
       "<div>\n",
       "<style>\n",
       "    .dataframe thead tr:only-child th {\n",
       "        text-align: right;\n",
       "    }\n",
       "\n",
       "    .dataframe thead th {\n",
       "        text-align: left;\n",
       "    }\n",
       "\n",
       "    .dataframe tbody tr th {\n",
       "        vertical-align: top;\n",
       "    }\n",
       "</style>\n",
       "<table border=\"1\" class=\"dataframe\">\n",
       "  <thead>\n",
       "    <tr style=\"text-align: right;\">\n",
       "      <th></th>\n",
       "      <th>eta</th>\n",
       "      <th>f</th>\n",
       "      <th>f_prime</th>\n",
       "      <th>f_prime_2</th>\n",
       "    </tr>\n",
       "  </thead>\n",
       "  <tbody>\n",
       "    <tr>\n",
       "      <th>91</th>\n",
       "      <td>9.1</td>\n",
       "      <td>7.379205</td>\n",
       "      <td>0.999999</td>\n",
       "      <td>2.864030e-07</td>\n",
       "    </tr>\n",
       "    <tr>\n",
       "      <th>92</th>\n",
       "      <td>9.2</td>\n",
       "      <td>7.479205</td>\n",
       "      <td>0.999999</td>\n",
       "      <td>1.975556e-07</td>\n",
       "    </tr>\n",
       "    <tr>\n",
       "      <th>93</th>\n",
       "      <td>9.3</td>\n",
       "      <td>7.579205</td>\n",
       "      <td>0.999999</td>\n",
       "      <td>1.355914e-07</td>\n",
       "    </tr>\n",
       "    <tr>\n",
       "      <th>94</th>\n",
       "      <td>9.4</td>\n",
       "      <td>7.679205</td>\n",
       "      <td>0.999999</td>\n",
       "      <td>9.259901e-08</td>\n",
       "    </tr>\n",
       "    <tr>\n",
       "      <th>95</th>\n",
       "      <td>9.5</td>\n",
       "      <td>7.779204</td>\n",
       "      <td>0.999999</td>\n",
       "      <td>6.292336e-08</td>\n",
       "    </tr>\n",
       "    <tr>\n",
       "      <th>96</th>\n",
       "      <td>9.6</td>\n",
       "      <td>7.879204</td>\n",
       "      <td>0.999999</td>\n",
       "      <td>4.254505e-08</td>\n",
       "    </tr>\n",
       "    <tr>\n",
       "      <th>97</th>\n",
       "      <td>9.7</td>\n",
       "      <td>7.979204</td>\n",
       "      <td>0.999999</td>\n",
       "      <td>2.862318e-08</td>\n",
       "    </tr>\n",
       "    <tr>\n",
       "      <th>98</th>\n",
       "      <td>9.8</td>\n",
       "      <td>8.079204</td>\n",
       "      <td>0.999999</td>\n",
       "      <td>1.916102e-08</td>\n",
       "    </tr>\n",
       "    <tr>\n",
       "      <th>99</th>\n",
       "      <td>9.9</td>\n",
       "      <td>8.179204</td>\n",
       "      <td>0.999999</td>\n",
       "      <td>1.276297e-08</td>\n",
       "    </tr>\n",
       "    <tr>\n",
       "      <th>100</th>\n",
       "      <td>10.0</td>\n",
       "      <td>8.279204</td>\n",
       "      <td>0.999999</td>\n",
       "      <td>8.458961e-09</td>\n",
       "    </tr>\n",
       "  </tbody>\n",
       "</table>\n",
       "</div>"
      ],
      "text/plain": [
       "      eta         f   f_prime     f_prime_2\n",
       "91    9.1  7.379205  0.999999  2.864030e-07\n",
       "92    9.2  7.479205  0.999999  1.975556e-07\n",
       "93    9.3  7.579205  0.999999  1.355914e-07\n",
       "94    9.4  7.679205  0.999999  9.259901e-08\n",
       "95    9.5  7.779204  0.999999  6.292336e-08\n",
       "96    9.6  7.879204  0.999999  4.254505e-08\n",
       "97    9.7  7.979204  0.999999  2.862318e-08\n",
       "98    9.8  8.079204  0.999999  1.916102e-08\n",
       "99    9.9  8.179204  0.999999  1.276297e-08\n",
       "100  10.0  8.279204  0.999999  8.458961e-09"
      ]
     },
     "execution_count": 6,
     "metadata": {},
     "output_type": "execute_result"
    }
   ],
   "source": [
    "pd.DataFrame(res_f).tail(10)"
   ]
  },
  {
   "cell_type": "code",
   "execution_count": 7,
   "metadata": {
    "collapsed": true
   },
   "outputs": [],
   "source": [
    "#res = {'eta':[0], 'f':[0], 'f_prime': [0],  'f_prime_2': [5]}\n",
    "#pd.DataFrame(rk4(f1=y1, f2=y2, f3=y3, h=0.1, FValues=res, num_iter=101)).tail(10)\n",
    "\n",
    "# Should get 6.09777 for f_prime"
   ]
  },
  {
   "cell_type": "markdown",
   "metadata": {},
   "source": [
    "We now look at G"
   ]
  },
  {
   "cell_type": "code",
   "execution_count": 8,
   "metadata": {
    "collapsed": true
   },
   "outputs": [],
   "source": [
    "def y4(u4):\n",
    "    \"This is equivalent to g' = y4\"\n",
    "    \n",
    "    y = u4\n",
    "    return y\n",
    "\n",
    "def y5(Pr, u1, u4):\n",
    "    \"This is equivalent to: G''=-0.5*Pr*F*G'\"\n",
    "    y = -0.5*Pr*u1*u4\n",
    "    return y\n",
    "\n",
    "# RK-4 set up\n",
    "def rk4_G(prandl, f1, f2, f3, h, FValues, num_iter):\n",
    "    \"this function performs RK-4\"\n",
    "    \n",
    "    steps = list(range(num_iter))\n",
    "    \n",
    "    for i in steps:\n",
    "        \n",
    "        k11 = h*f1(FValues['f_prime'][i])\n",
    "        k12 = h*f2(FValues['g_prime'][i])\n",
    "        k13 = h*f3(prandl, FValues['f'][i], FValues['g_prime'][i])\n",
    "\n",
    "        k21 = h*f1(FValues['f_prime'][i] + k12/2)\n",
    "        k22 = h*f2(FValues['g_prime'][i] + k13/2)\n",
    "        k23 = h*f3(prandl, FValues['f'][i] + k11/2, FValues['g_prime'][i] + k13/2)\n",
    "\n",
    "        k31 = h*f1(FValues['f_prime'][i] + k22/2)\n",
    "        k32 = h*f2(FValues['g_prime'][i] + k23/2)\n",
    "        k33 = h*f3(prandl, FValues['f'][i] + k21/2, FValues['g_prime'][i] + k23/2)\n",
    "\n",
    "        k41 = h*f1(FValues['f_prime'][i] + k32)\n",
    "        k42 = h*f2(FValues['g_prime'][i] + k33)\n",
    "        k43 = h*f3(prandl, FValues['f'][i] + k31, FValues['g_prime'][i] + k33)\n",
    "\n",
    "        g = FValues['g'][i]  + (1/6)*(k12 + 2*k22 + 2*k32 + k42)\n",
    "        g_prime = FValues['g_prime'][i] + (1/6)*(k13 + 2*k23 + 2*k33 + k43)\n",
    "        \n",
    "        FValues['g'].append(g)\n",
    "        FValues['g_prime'].append(g_prime)\n",
    "                   \n",
    "    return FValues"
   ]
  },
  {
   "cell_type": "code",
   "execution_count": 9,
   "metadata": {
    "collapsed": true
   },
   "outputs": [],
   "source": [
    "gp_lower = -10\n",
    "gp_upper = 10\n",
    "\n",
    "gtest_val = -1\n",
    "Pr = 5\n",
    "\n",
    "while abs(gp_upper - gp_lower) >= 10**(-6):\n",
    "        \n",
    "    # Trying values of f''\n",
    "    gp_test = (gp_upper + gp_lower)/2\n",
    "    res_g = res_f\n",
    "    res_g['g'] = [1]\n",
    "    res_g['g_prime'] = [gp_test]\n",
    "    \n",
    "    res_all = rk4_G(prandl = Pr, f1=y1, f2=y4, f3=y5, h=0.1, FValues=res_g, num_iter=100)\n",
    "    \n",
    "    if (res_all['g'][-1])*gtest_val < 0:\n",
    "        gp_upper = gp_test\n",
    "    else:\n",
    "        gp_lower = gp_test\n",
    "        gtest_val = res_f['g'][-1]"
   ]
  },
  {
   "cell_type": "code",
   "execution_count": 10,
   "metadata": {},
   "outputs": [
    {
     "data": {
      "text/html": [
       "<div>\n",
       "<style>\n",
       "    .dataframe thead tr:only-child th {\n",
       "        text-align: right;\n",
       "    }\n",
       "\n",
       "    .dataframe thead th {\n",
       "        text-align: left;\n",
       "    }\n",
       "\n",
       "    .dataframe tbody tr th {\n",
       "        vertical-align: top;\n",
       "    }\n",
       "</style>\n",
       "<table border=\"1\" class=\"dataframe\">\n",
       "  <thead>\n",
       "    <tr style=\"text-align: right;\">\n",
       "      <th></th>\n",
       "      <th>eta</th>\n",
       "      <th>f</th>\n",
       "      <th>f_prime</th>\n",
       "      <th>f_prime_2</th>\n",
       "      <th>g</th>\n",
       "      <th>g_prime</th>\n",
       "    </tr>\n",
       "  </thead>\n",
       "  <tbody>\n",
       "    <tr>\n",
       "      <th>0</th>\n",
       "      <td>0.0</td>\n",
       "      <td>0.000000</td>\n",
       "      <td>0.000000</td>\n",
       "      <td>0.332057</td>\n",
       "      <td>1.000000</td>\n",
       "      <td>-0.574768</td>\n",
       "    </tr>\n",
       "    <tr>\n",
       "      <th>1</th>\n",
       "      <td>0.1</td>\n",
       "      <td>0.001660</td>\n",
       "      <td>0.033205</td>\n",
       "      <td>0.332048</td>\n",
       "      <td>0.942520</td>\n",
       "      <td>-0.574906</td>\n",
       "    </tr>\n",
       "    <tr>\n",
       "      <th>2</th>\n",
       "      <td>0.2</td>\n",
       "      <td>0.006641</td>\n",
       "      <td>0.066408</td>\n",
       "      <td>0.331983</td>\n",
       "      <td>0.885046</td>\n",
       "      <td>-0.574566</td>\n",
       "    </tr>\n",
       "    <tr>\n",
       "      <th>3</th>\n",
       "      <td>0.3</td>\n",
       "      <td>0.014941</td>\n",
       "      <td>0.099598</td>\n",
       "      <td>0.331809</td>\n",
       "      <td>0.827649</td>\n",
       "      <td>-0.573274</td>\n",
       "    </tr>\n",
       "    <tr>\n",
       "      <th>4</th>\n",
       "      <td>0.4</td>\n",
       "      <td>0.026560</td>\n",
       "      <td>0.132764</td>\n",
       "      <td>0.331469</td>\n",
       "      <td>0.770449</td>\n",
       "      <td>-0.570563</td>\n",
       "    </tr>\n",
       "    <tr>\n",
       "      <th>5</th>\n",
       "      <td>0.5</td>\n",
       "      <td>0.041493</td>\n",
       "      <td>0.165885</td>\n",
       "      <td>0.330911</td>\n",
       "      <td>0.713610</td>\n",
       "      <td>-0.565981</td>\n",
       "    </tr>\n",
       "    <tr>\n",
       "      <th>6</th>\n",
       "      <td>0.6</td>\n",
       "      <td>0.059735</td>\n",
       "      <td>0.198937</td>\n",
       "      <td>0.330079</td>\n",
       "      <td>0.657340</td>\n",
       "      <td>-0.559111</td>\n",
       "    </tr>\n",
       "    <tr>\n",
       "      <th>7</th>\n",
       "      <td>0.7</td>\n",
       "      <td>0.081277</td>\n",
       "      <td>0.231890</td>\n",
       "      <td>0.328922</td>\n",
       "      <td>0.601886</td>\n",
       "      <td>-0.549583</td>\n",
       "    </tr>\n",
       "    <tr>\n",
       "      <th>8</th>\n",
       "      <td>0.8</td>\n",
       "      <td>0.106108</td>\n",
       "      <td>0.264709</td>\n",
       "      <td>0.327389</td>\n",
       "      <td>0.547532</td>\n",
       "      <td>-0.537093</td>\n",
       "    </tr>\n",
       "    <tr>\n",
       "      <th>9</th>\n",
       "      <td>0.9</td>\n",
       "      <td>0.134213</td>\n",
       "      <td>0.297354</td>\n",
       "      <td>0.325432</td>\n",
       "      <td>0.494584</td>\n",
       "      <td>-0.521420</td>\n",
       "    </tr>\n",
       "  </tbody>\n",
       "</table>\n",
       "</div>"
      ],
      "text/plain": [
       "   eta         f   f_prime  f_prime_2         g   g_prime\n",
       "0  0.0  0.000000  0.000000   0.332057  1.000000 -0.574768\n",
       "1  0.1  0.001660  0.033205   0.332048  0.942520 -0.574906\n",
       "2  0.2  0.006641  0.066408   0.331983  0.885046 -0.574566\n",
       "3  0.3  0.014941  0.099598   0.331809  0.827649 -0.573274\n",
       "4  0.4  0.026560  0.132764   0.331469  0.770449 -0.570563\n",
       "5  0.5  0.041493  0.165885   0.330911  0.713610 -0.565981\n",
       "6  0.6  0.059735  0.198937   0.330079  0.657340 -0.559111\n",
       "7  0.7  0.081277  0.231890   0.328922  0.601886 -0.549583\n",
       "8  0.8  0.106108  0.264709   0.327389  0.547532 -0.537093\n",
       "9  0.9  0.134213  0.297354   0.325432  0.494584 -0.521420"
      ]
     },
     "execution_count": 10,
     "metadata": {},
     "output_type": "execute_result"
    }
   ],
   "source": [
    "pd.DataFrame(res_all).head(10)"
   ]
  },
  {
   "cell_type": "code",
   "execution_count": 11,
   "metadata": {
    "collapsed": true
   },
   "outputs": [],
   "source": [
    "res_df = pd.DataFrame(res_all)"
   ]
  },
  {
   "cell_type": "markdown",
   "metadata": {},
   "source": [
    "We define:\n",
    "\n",
    "$v_1 = \\frac{v}{U_{\\infty}} \\sqrt{\\frac{x}{L}}\\sqrt{Re} = \\frac{1}{2}[\\eta F'(\\eta) - F(\\eta)]$\n",
    "\n",
    "$v_2 = \\frac{u}{U_{\\infty}} = F'(\\eta)$"
   ]
  },
  {
   "cell_type": "code",
   "execution_count": 12,
   "metadata": {},
   "outputs": [
    {
     "data": {
      "image/png": "[encoded data removed]",
      "text/plain": [
       "<matplotlib.figure.Figure at 0x10f526630>"
      ]
     },
     "metadata": {},
     "output_type": "display_data"
    }
   ],
   "source": [
    "def v1(x):\n",
    "    eta_index = res_all['eta'].index(x)\n",
    "    y = 0.5*(x*res_all['f_prime'][eta_index] - res_all['f'][eta_index])\n",
    "    return y\n",
    "\n",
    "def v2(x):\n",
    "    eta_index = res_all['eta'].index(x)\n",
    "    y = res_all['f_prime'][eta_index]\n",
    "    return y\n",
    "\n",
    "x = res_df.eta\n",
    "v1_y = list(map(lambda x: v1(x), x))\n",
    "v2_y = list(map(lambda x: v2(x), x))\n",
    "\n",
    "plt.plot(x, v1_y, label = \"v1\")\n",
    "plt.plot(x, v2_y, label = \"v2\")\n",
    "\n",
    "plt.legend(loc='upper left')\n",
    "\n",
    "plt.xlabel(\"$\\eta$\")\n",
    "plt.ylabel(\"y\")\n",
    "plt.title('Velocities')\n",
    "plt.show()"
   ]
  },
  {
   "cell_type": "code",
   "execution_count": 13,
   "metadata": {},
   "outputs": [
    {
     "data": {
      "image/png": "[encoded data removed]",
      "text/plain": [
       "<matplotlib.figure.Figure at 0x10f516b00>"
      ]
     },
     "metadata": {},
     "output_type": "display_data"
    }
   ],
   "source": [
    "plt.plot(x, res_all['g'], label = \"G($\\eta$)\")\n",
    "\n",
    "plt.legend(loc='upper right')\n",
    "\n",
    "plt.xlabel(\"$\\eta$\")\n",
    "plt.ylabel(\"y\")\n",
    "plt.title('Temperature')\n",
    "plt.show()"
   ]
  },
  {
   "cell_type": "markdown",
   "metadata": {},
   "source": [
    "** NEED TO ADD PLOTS FOR DIFF VALUES OF PR BASED ON #7**\n",
    "\n",
    "**NEED TO FIND TEMP OF BOUNDARY LAYER**"
   ]
  },
  {
   "cell_type": "code",
   "execution_count": 14,
   "metadata": {
    "collapsed": true
   },
   "outputs": [],
   "source": [
    "res_df.to_csv('Project1.csv')"
   ]
  },
  {
   "cell_type": "code",
   "execution_count": 15,
   "metadata": {},
   "outputs": [
    {
     "data": {
      "text/plain": [
       "4.9100188905399271"
      ]
     },
     "execution_count": 15,
     "metadata": {},
     "output_type": "execute_result"
    }
   ],
   "source": [
    "def L4(x, xs, ys):\n",
    "    \"This is a Lagrange poly of degree 3 (with 4 points)\"\n",
    "    \n",
    "    x0 = xs[0]\n",
    "    x1 = xs[1]\n",
    "    x2 = xs[2]\n",
    "    x3 = xs[3]\n",
    "    \n",
    "    y0 = ys[0]\n",
    "    y1 = ys[1]\n",
    "    y2 = ys[2]\n",
    "    y3 = ys[3]\n",
    "    \n",
    "    p0 = (x-x1)*(x-x2)*(x-x3)/((x0-x1)*(x0-x2)*(x0-x3))\n",
    "    p1 = (x-x0)*(x-x2)*(x-x3)/((x1-x0)*(x1-x2)*(x1-x3))\n",
    "    p2 = (x-x0)*(x-x1)*(x-x3)/((x2-x0)*(x2-x1)*(x2-x3))\n",
    "    p3 = (x-x0)*(x-x1)*(x-x2)/((x3-x0)*(x3-x1)*(x3-x2))\n",
    "    \n",
    "    y = p0*y0+p1*y1+p2*y2+p3*y3\n",
    "    \n",
    "    return y\n",
    "\n",
    "def find_index(x_list, y_list, target, side = 'above'):\n",
    "    \"this is to find the points for L4\"\n",
    "    \n",
    "    for i in range(len(y_list)):\n",
    "        if side == \"above\":\n",
    "            if y_list[i] < target and y_list[i+1] > target:\n",
    "                im1 = i\n",
    "                break\n",
    "        if side == \"below\":\n",
    "            if y_list[i] < target and y_list[i+1] < target:\n",
    "                im1 = i\n",
    "                break\n",
    "    \n",
    "    ip1 = im1 + 1\n",
    "    ip2 = im1 + 2\n",
    "    im2 = im1 - 1\n",
    "    \n",
    "    return list([im2, im1, ip1, ip2])\n",
    "\n",
    "i_list = find_index(res_all['eta'], res_all['f_prime'], 0.99, 'above')\n",
    "etas = list(res_df.eta[i_list])\n",
    "f_primes = list(res_df.f_prime[i_list])\n",
    "\n",
    "eta_m = L4(0.99, f_primes, etas)\n",
    "eta_m"
   ]
  },
  {
   "cell_type": "code",
   "execution_count": 18,
   "metadata": {},
   "outputs": [
    {
     "data": {
      "text/plain": [
       "2.7524296636032712"
      ]
     },
     "execution_count": 18,
     "metadata": {},
     "output_type": "execute_result"
    }
   ],
   "source": [
    "i_list = find_index(res_all['eta'], res_all['g'], 0.01, 'below')\n",
    "getas = list(res_df.eta[i_list])\n",
    "gs = list(res_df.g[i_list])\n",
    "\n",
    "eta_t = L4(0.01, gs, getas)\n",
    "eta_t"
   ]
  },
  {
   "cell_type": "code",
   "execution_count": 41,
   "metadata": {
    "collapsed": true
   },
   "outputs": [],
   "source": [
    "def run_prandl(prandl, f_res):\n",
    "    \"This function generates G and G' and gets values for the two etas\"\n",
    "    \n",
    "    gp_lower = -10\n",
    "    gp_upper = 10\n",
    "\n",
    "    gtest_val = -1\n",
    "    Pr = prandl\n",
    "\n",
    "    while abs(gp_upper - gp_lower) >= 10**(-6):\n",
    "\n",
    "        # Trying values of f''\n",
    "        gp_test = (gp_upper + gp_lower)/2\n",
    "        res_g = f_res\n",
    "        res_g['g'] = [1]\n",
    "        res_g['g_prime'] = [gp_test]\n",
    "\n",
    "        res_all = rk4_G(prandl = Pr, f1=y1, f2=y4, f3=y5, h=0.1, FValues=res_g, num_iter=100)\n",
    "\n",
    "        if (res_all['g'][-1])*gtest_val < 0:\n",
    "            gp_upper = gp_test\n",
    "        else:\n",
    "            gp_lower = gp_test\n",
    "            gtest_val = res_f['g'][-1]\n",
    "            \n",
    "    i_list = find_index(res_all['eta'], res_all['g'], 0.01, 'below')\n",
    "    getas = list(res_df.eta[i_list])\n",
    "    gs = list(res_df.g[i_list])\n",
    "\n",
    "    eta_t = L4(0.01, gs, getas)\n",
    "    return eta_t"
   ]
  },
  {
   "cell_type": "code",
   "execution_count": 42,
   "metadata": {},
   "outputs": [
    {
     "name": "stderr",
     "output_type": "stream",
     "text": [
      "/Users/Constance/anaconda3/lib/python3.6/site-packages/ipykernel_launcher.py:14: RuntimeWarning: divide by zero encountered in double_scalars\n",
      "  \n",
      "/Users/Constance/anaconda3/lib/python3.6/site-packages/ipykernel_launcher.py:15: RuntimeWarning: divide by zero encountered in double_scalars\n",
      "  from ipykernel import kernelapp as app\n",
      "/Users/Constance/anaconda3/lib/python3.6/site-packages/ipykernel_launcher.py:16: RuntimeWarning: divide by zero encountered in double_scalars\n",
      "  app.launch_new_instance()\n",
      "/Users/Constance/anaconda3/lib/python3.6/site-packages/ipykernel_launcher.py:17: RuntimeWarning: divide by zero encountered in double_scalars\n"
     ]
    },
    {
     "data": {
      "text/plain": [
       "[inf,\n",
       " -9.2901900901524926e+35,\n",
       " -18964859697387008.0,\n",
       " -187358.73199145868,\n",
       " 2.7524296636032712,\n",
       " 2.6878764277241025]"
      ]
     },
     "execution_count": 42,
     "metadata": {},
     "output_type": "execute_result"
    }
   ],
   "source": [
    "Pr_tsts = [0.2, 0.5, 1, 2, 5, 10]\n",
    "\n",
    "eta_ts = list(map(lambda x: run_prandl(x, res_f), Pr_tsts))\n",
    "eta_ts"
   ]
  },
  {
   "cell_type": "code",
   "execution_count": null,
   "metadata": {
    "collapsed": true
   },
   "outputs": [],
   "source": []
  }
 ],
 "metadata": {
  "kernelspec": {
   "display_name": "Python 3",
   "language": "python",
   "name": "python3"
  },
  "language_info": {
   "codemirror_mode": {
    "name": "ipython",
    "version": 3
   },
   "file_extension": ".py",
   "mimetype": "text/x-python",
   "name": "python",
   "nbconvert_exporter": "python",
   "pygments_lexer": "ipython3",
   "version": "3.6.3"
  }
 },
 "nbformat": 4,
 "nbformat_minor": 4
}
