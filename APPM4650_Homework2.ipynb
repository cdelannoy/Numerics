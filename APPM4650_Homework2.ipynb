{
 "cells": [
  {
   "cell_type": "markdown",
   "metadata": {},
   "source": [
    "Constance Delannoy\n",
    "\n",
    "APPM 4650 | Homework 1\n",
    "\n",
    "June 16, 2020"
   ]
  },
  {
   "cell_type": "code",
   "execution_count": 1,
   "metadata": {},
   "outputs": [
    {
     "data": {
      "text/html": [
       "<script>\n",
       "code_show=true; \n",
       "function code_toggle() {\n",
       " if (code_show){\n",
       " $('div.input').hide();\n",
       " } else {\n",
       " $('div.input').show();\n",
       " }\n",
       " code_show = !code_show\n",
       "} \n",
       "$( document ).ready(code_toggle);\n",
       "</script>\n",
       "<form action=\"javascript:code_toggle()\"><input type=\"submit\" value=\"The raw code is by default hidden for easier reading.To toggle on/off the raw code, click here.\"></form>"
      ],
      "text/plain": [
       "<IPython.core.display.HTML object>"
      ]
     },
     "execution_count": 1,
     "metadata": {},
     "output_type": "execute_result"
    }
   ],
   "source": [
    "from IPython.display import HTML\n",
    "\n",
    "HTML('''<script>\n",
    "code_show=true; \n",
    "function code_toggle() {\n",
    " if (code_show){\n",
    " $('div.input').hide();\n",
    " } else {\n",
    " $('div.input').show();\n",
    " }\n",
    " code_show = !code_show\n",
    "} \n",
    "$( document ).ready(code_toggle);\n",
    "</script>\n",
    "<form action=\"javascript:code_toggle()\"><input type=\"submit\" value=\"The raw code is by default hidden for easier reading.To toggle on/off the raw code, click here.\"></form>''')"
   ]
  },
  {
   "cell_type": "markdown",
   "metadata": {},
   "source": [
    "__Question 1__\n",
    "\n",
    "The center of the expansion is $\\alpha$"
   ]
  },
  {
   "cell_type": "markdown",
   "metadata": {},
   "source": [
    "__Question 2__\n",
    "\n",
    "\n",
    "_Degree 1_\n",
    "\n",
    "We use the closest points surrounding $x = 8.4$ for our first polynomial (8.3, 17.56492) and (8.6, 18.50515).\n",
    "\n",
    "$\\mathcal{L}_0(x) = \\frac{x - 8.6}{8.3-8.6} = -\\frac{1}{0.3}(x - 8.6)$\n",
    "\n",
    "$\\mathcal{L}_1(x) = \\frac{x - 8.3}{8.6-8.3} = \\frac{1}{0.3}(x - 8.3)$\n",
    "\n",
    "so $P_1(x) = -\\frac{17.56492}{0.3}(x-8.6) + \\frac{18.50515}{0.3}(x - 8.3)$\n",
    "\n",
    "Computing $P_1(8.4)$ gives:"
   ]
  },
  {
   "cell_type": "code",
   "execution_count": 3,
   "metadata": {},
   "outputs": [
    {
     "data": {
      "text/plain": [
       "17.878329999999938"
      ]
     },
     "execution_count": 3,
     "metadata": {},
     "output_type": "execute_result"
    }
   ],
   "source": [
    "x0 = 8.1\n",
    "y0 = 16.94410\n",
    "\n",
    "x1 = 8.3\n",
    "y1 = 17.56492\n",
    "\n",
    "x2 = 8.6\n",
    "y2 = 18.50515\n",
    "\n",
    "x3 = 8.7\n",
    "y3 = 18.82091\n",
    "\n",
    "# Degree one\n",
    "p1 = -(y1/0.3)*(8.4 - 8.6) + (y2/0.3)*(8.4-8.3)\n",
    "p1"
   ]
  },
  {
   "cell_type": "markdown",
   "metadata": {},
   "source": [
    "_Degree 2_\n",
    "\n",
    "We use the points (8.1, 16.94410), (8.3, 17.56492) and (8.6, 18.50515) for our second polynomial.\n",
    "\n",
    "$\\mathcal{L}_0(x) = \\frac{(x - 8.3)(x - 8.6)}{(8.1-8.3)(8.1-8.6)} = \\frac{1}{0.1}(x - 8.3)(x - 8.6)$\n",
    "\n",
    "$\\mathcal{L}_1(x) = \\frac{(x - 8.1)(x - 8.6)}{(8.3-8.1)(8.3-8.6)} = -\\frac{1}{0.06}(x - 8.1)(x - 8.6)$\n",
    "\n",
    "$\\mathcal{L}_2(x) = \\frac{(x - 8.1)(x - 8.3)}{(8.6-8.1)(8.6-8.3)} = \\frac{1}{0.15}(x - 8.1)(x - 8.3)$\n",
    "\n",
    "\n",
    "so $P_2(x) = \\frac{16.94410}{0.1}(x-8.3)(x-8.6) -\\frac{17.56492}{0.06}(x-8.1)(x-8.6) + \\frac{18.50515}{0.15}(x - 8.1)(x - 8.3)$\n",
    "\n",
    "Computing $P_2(8.4)$ gives:"
   ]
  },
  {
   "cell_type": "code",
   "execution_count": 4,
   "metadata": {},
   "outputs": [
    {
     "data": {
      "text/plain": [
       "17.87713"
      ]
     },
     "execution_count": 4,
     "metadata": {},
     "output_type": "execute_result"
    }
   ],
   "source": [
    "# Degree two\n",
    "p2 = (y0/0.1)*(8.4-8.3)*(8.4-8.6)-(y1/0.06)*(8.4 - 8.1)*(8.4 - 8.6) + (y2/0.15)*(8.4-8.1)*(8.4-8.3)\n",
    "p2"
   ]
  },
  {
   "cell_type": "markdown",
   "metadata": {},
   "source": [
    "_Degree 3_\n",
    "\n",
    "We use all the points at our disposal for our third polynomial.\n",
    "\n",
    "$\\mathcal{L}_0(x) = \\frac{(x - 8.3)(x - 8.6)(x - 8.7)}{(8.1-8.3)(8.1-8.6)(8.1-8.7)} = -\\frac{1}{0.06}(x - 8.3)(x - 8.6)(x - 8.7)$\n",
    "\n",
    "$\\mathcal{L}_1(x) = \\frac{(x - 8.1)(x - 8.6)(x - 8.7)}{(8.3-8.1)(8.3-8.6)(8.3-8.7)} = \\frac{1}{0.024}(x - 8.1)(x - 8.6)(x - 8.7)$\n",
    "\n",
    "$\\mathcal{L}_2(x) = \\frac{(x - 8.1)(x - 8.3)(x - 8.7)}{(8.6-8.1)(8.6-8.3)(8.6-8.7)} = -\\frac{1}{0.015}(x - 8.1)(x - 8.3)(x - 8.7)$\n",
    "\n",
    "$\\mathcal{L}_3(x) = \\frac{(x - 8.1)(x - 8.3)(x - 8.6)}{(8.7-8.1)(8.7-8.3)(8.7-8.6)} = \\frac{1}{0.024}(x - 8.1)(x - 8.3)(x - 8.6)$\n",
    "\n",
    "so:\n",
    "\n",
    "$P_3(x) = -\\frac{16.94410}{0.06}(x-8.3)(x-8.6)(x-8.7) + \\frac{17.56492}{0.024}(x-8.1)(x-8.6)(x-8.7) - \\frac{18.50515}{0.015}(x - 8.1)(x - 8.3)(x-8.7) + \\frac{18.82091}{0.024}(x - 8.1)(x - 8.3)(x - 8.6)$\n",
    "\n",
    "Computing $P_3(8.4)$ gives:"
   ]
  },
  {
   "cell_type": "code",
   "execution_count": 5,
   "metadata": {},
   "outputs": [
    {
     "data": {
      "text/plain": [
       "17.877142499999927"
      ]
     },
     "execution_count": 5,
     "metadata": {},
     "output_type": "execute_result"
    }
   ],
   "source": [
    "# Degree two\n",
    "p3 = -(y0/0.06)*(8.4-8.3)*(8.4-8.6)*(8.4-8.7) + (y1/0.024)*(8.4 - 8.1)*(8.4 - 8.6)*(8.4 - 8.7) - (y2/0.015)*(8.4-8.1)*(8.4-8.3)*(8.4-8.7) + (y3/0.024)*(8.4-8.1)*(8.4-8.3)*(8.4-8.6)\n",
    "p3"
   ]
  },
  {
   "cell_type": "markdown",
   "metadata": {},
   "source": [
    "__Question 3__"
   ]
  },
  {
   "cell_type": "markdown",
   "metadata": {},
   "source": [
    "Let:\n",
    "\n",
    "$P_0(x) = a_0 + b_0x + c_0x^2 + d_0x^3$ for $x \\in [-3;-1]$\n",
    "\n",
    "$P_1(x) = a_1 + b_1x + c_1x^2 + d_1x^3$ for $x \\in [-1;1]$\n",
    "\n",
    "$P_2(x) = a_2 + b_2x + c_2x^2 + d_2x^3$ for $x \\in [1;3]$\n",
    "\n",
    "Because we want clamped cubic splines, we have the following system of equations to solve:\n",
    "\n",
    "(1) $P_0(-3) = f(-3) \\rightarrow a_0 - 3b_0 + 9c_0 - 27d_0 = 81$\n",
    "\n",
    "(2) $P_0(-1) = f(-1) \\rightarrow a_0 - b_0 + c_0 - d_0 = 1$\n",
    "\n",
    "(3) $P_1(-1) = f(-1) \\rightarrow a_1 - b_1 + c_1 - d_1 = 1$\n",
    "\n",
    "(4) $P_1(1) = f(1) \\rightarrow a_1 + b_1 + c_1 + d_1 = 1$\n",
    "\n",
    "(5) $P_2(1) = f(1) \\rightarrow a_2 + b_2 + c_2 + d_2 = 1$\n",
    "\n",
    "(6) $P_2(3) = f(3) \\rightarrow a_2 + 3b_2 + 9c_2 + 27d_2 = 81$\n",
    "\n",
    "\n",
    "Now with the constraints on derivatives:\n",
    "\n",
    "(7) $P'_0(-3) = f'(-3) \\rightarrow b_0 - 6c_0 + 27d_0 = -108$ (because clamped spline)\n",
    "\n",
    "(8) $P'_2(3) = f'(3) \\rightarrow b_2 + 6c_2 + 27d_2 = 108$ (because clamped spline)\n",
    "\n",
    "(9) $P'_0(-1) = P'_1(-1) \\rightarrow b_0 - 2c_0 + 3d_0 = b_1 - 2c_1 +3d_1$\n",
    "\n",
    "(10) $P'_1(1) = P'_2(1) \\rightarrow b_1 + 2c_1 + 3d_1 = b_2 + 2c_2 +3d_2$\n",
    "\n",
    "\n",
    "And finally, the constraints on the second derivatives:\n",
    "\n",
    "(11) $P''_0(-1) = P''_1(-1) \\rightarrow 2c_0 - 6d_0 = 2c_1 - 6d_1$\n",
    "\n",
    "(12) $P''_1(1) = P''_2(1) \\rightarrow 2c_1 + 6d_1 = 2c_2 + 6d_2$\n",
    "\n",
    "\n",
    "Thanks to the answers provided in the prompt, we can check that this system is consistent and correct by recursively checking that the solutions solve it. For the sake of brevity, we provide only a few examples to prove it is solvent.\n",
    "\n",
    "For instance: in the prompt, Dr. Norris provides that: \n",
    "$d_0 = -8$, $c_0 = -22$, $d_1 = 0$, $c_1 = 2$, $d_2 = 8$, $c_2 = -22$.\n",
    "\n",
    "We check that these answers correspond to solutions of equations (11) and (12):\n",
    "\n",
    "(11) $2c_0 - 6d_0 = 2(-22) - 6(-8) = 4$, $2c_1 - 6d_1 = 2(2) - 6(0) = 4$\n",
    "\n",
    "(12) $2c_1 + 6d_1 = 2(2) + 6(0) = 4, $2c_2 + 6d_2 = 2(-22) + 6(8) = 4$\n",
    "\n",
    "Similarly, we check that we get the appropriate answers for equations (7), (8), (9) and (10):\n",
    "\n",
    "(7) $b_0 - 6c_0 + 27d_0 = -24 - 6(-22) + 27(-8) = -108$\n",
    "\n",
    "(8) $b_2 + 6c_2 + 27d_2 = 24 + 6(-22) + 27(8) = 108$\n",
    "\n",
    "(9) $b_0 - 2c_0 + 3d_0 = -24 - 2(-22) + 3(-8) = -4$, $b_1 - 2c_1 +3d_1 = 0 - 2(2) +3(0) = -4$\n",
    "\n",
    "(10) $b_1 + 2c_1 + 3d_1 = 0 + 2(2) + d(0) = 4$, $b_2 + 2c_2 +3d_2 = 24 + 2(-22) + 3(8) = 4$\n",
    "\n",
    "We have confirmed that the solutions provided are accurate for equations (1) through (5) but do not provide details here for the sake of brevity.\n"
   ]
  },
  {
   "cell_type": "code",
   "execution_count": null,
   "metadata": {},
   "outputs": [],
   "source": []
  }
 ],
 "metadata": {
  "kernelspec": {
   "display_name": "Python 3",
   "language": "python",
   "name": "python3"
  },
  "language_info": {
   "codemirror_mode": {
    "name": "ipython",
    "version": 3
   },
   "file_extension": ".py",
   "mimetype": "text/x-python",
   "name": "python",
   "nbconvert_exporter": "python",
   "pygments_lexer": "ipython3",
   "version": "3.7.4"
  }
 },
 "nbformat": 4,
 "nbformat_minor": 2
}
