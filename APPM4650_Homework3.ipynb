{
 "cells": [
  {
   "cell_type": "markdown",
   "metadata": {},
   "source": [
    "Constance Delannoy\n",
    "\n",
    "APPM 4650 | Homework 1\n",
    "\n",
    "June 28, 2020"
   ]
  },
  {
   "cell_type": "code",
   "execution_count": 1,
   "metadata": {},
   "outputs": [
    {
     "data": {
      "text/html": [
       "<script>\n",
       "code_show=true; \n",
       "function code_toggle() {\n",
       " if (code_show){\n",
       " $('div.input').hide();\n",
       " } else {\n",
       " $('div.input').show();\n",
       " }\n",
       " code_show = !code_show\n",
       "} \n",
       "$( document ).ready(code_toggle);\n",
       "</script>\n",
       "<form action=\"javascript:code_toggle()\"><input type=\"submit\" value=\"The raw code is by default hidden for easier reading.To toggle on/off the raw code, click here.\"></form>"
      ],
      "text/plain": [
       "<IPython.core.display.HTML object>"
      ]
     },
     "execution_count": 1,
     "metadata": {},
     "output_type": "execute_result"
    }
   ],
   "source": [
    "from IPython.display import HTML\n",
    "import numpy as np\n",
    "import pandas as pd\n",
    "import math\n",
    "\n",
    "HTML('''<script>\n",
    "code_show=true; \n",
    "function code_toggle() {\n",
    " if (code_show){\n",
    " $('div.input').hide();\n",
    " } else {\n",
    " $('div.input').show();\n",
    " }\n",
    " code_show = !code_show\n",
    "} \n",
    "$( document ).ready(code_toggle);\n",
    "</script>\n",
    "<form action=\"javascript:code_toggle()\"><input type=\"submit\" value=\"The raw code is by default hidden for easier reading.To toggle on/off the raw code, click here.\"></form>''')"
   ]
  },
  {
   "cell_type": "markdown",
   "metadata": {},
   "source": [
    "__Question 1__\n",
    "\n",
    "We use forward difference for the first row, central difference for the second, and backward difference for the third.\n",
    "\n",
    "We find the following table."
   ]
  },
  {
   "cell_type": "code",
   "execution_count": 6,
   "metadata": {},
   "outputs": [
    {
     "data": {
      "text/html": [
       "<div>\n",
       "<style scoped>\n",
       "    .dataframe tbody tr th:only-of-type {\n",
       "        vertical-align: middle;\n",
       "    }\n",
       "\n",
       "    .dataframe tbody tr th {\n",
       "        vertical-align: top;\n",
       "    }\n",
       "\n",
       "    .dataframe thead th {\n",
       "        text-align: right;\n",
       "    }\n",
       "</style>\n",
       "<table border=\"1\" class=\"dataframe\">\n",
       "  <thead>\n",
       "    <tr style=\"text-align: right;\">\n",
       "      <th></th>\n",
       "      <th>x</th>\n",
       "      <th>f(x)</th>\n",
       "      <th>f'(x)</th>\n",
       "    </tr>\n",
       "  </thead>\n",
       "  <tbody>\n",
       "    <tr>\n",
       "      <td>0</td>\n",
       "      <td>0.5</td>\n",
       "      <td>0.4794</td>\n",
       "      <td>0.852</td>\n",
       "    </tr>\n",
       "    <tr>\n",
       "      <td>1</td>\n",
       "      <td>0.6</td>\n",
       "      <td>0.5646</td>\n",
       "      <td>0.824</td>\n",
       "    </tr>\n",
       "    <tr>\n",
       "      <td>2</td>\n",
       "      <td>0.7</td>\n",
       "      <td>0.6442</td>\n",
       "      <td>0.796</td>\n",
       "    </tr>\n",
       "  </tbody>\n",
       "</table>\n",
       "</div>"
      ],
      "text/plain": [
       "     x    f(x)  f'(x)\n",
       "0  0.5  0.4794  0.852\n",
       "1  0.6  0.5646  0.824\n",
       "2  0.7  0.6442  0.796"
      ]
     },
     "execution_count": 6,
     "metadata": {},
     "output_type": "execute_result"
    }
   ],
   "source": [
    "x1 = 0.5 \n",
    "y1 = 0.4794\n",
    "\n",
    "x2 = 0.6 \n",
    "y2 = 0.5646\n",
    "\n",
    "x3 = 0.7 \n",
    "y3 = 0.6442\n",
    "\n",
    "f1 = (y2-y1)/(x2-x1)\n",
    "f2 = (y3-y1)/(x3-x1)\n",
    "f3 = (y3-y2)/(x3-x2)\n",
    "\n",
    "res1 = pd.DataFrame({'x':[x1, x2, x3], 'f(x)':[y1,y2,y3], \"f'(x)\":[f1,f2,f3]})\n",
    "res1"
   ]
  },
  {
   "cell_type": "markdown",
   "metadata": {},
   "source": [
    "__Question 2__"
   ]
  },
  {
   "cell_type": "markdown",
   "metadata": {},
   "source": [
    "__Question 3__"
   ]
  },
  {
   "cell_type": "markdown",
   "metadata": {},
   "source": [
    "__Question 4__\n",
    "\n",
    "(a)"
   ]
  },
  {
   "cell_type": "code",
   "execution_count": 20,
   "metadata": {},
   "outputs": [
    {
     "data": {
      "text/plain": [
       "6.514958776792979"
      ]
     },
     "execution_count": 20,
     "metadata": {},
     "output_type": "execute_result"
    }
   ],
   "source": [
    "def q4f(x):\n",
    "    \"compute y = f(x) with f(x) = e^2e^(-x^2)\"\n",
    "    y = math.exp(2)*math.exp(-x**2)\n",
    "    return y\n",
    "\n",
    "h = 0.25\n",
    "listh_inflated = range(25, 200, 25)\n",
    "listh = list(map(lambda x : x/100, listh_inflated))\n",
    "\n",
    "sumofe = sum(map(q4f, listh))\n",
    "\n",
    "inta = (h/2)*(q4f(0) + 2*sumofe + q4f(2))\n",
    "inta"
   ]
  },
  {
   "cell_type": "markdown",
   "metadata": {},
   "source": [
    "(b)"
   ]
  },
  {
   "cell_type": "code",
   "execution_count": 22,
   "metadata": {},
   "outputs": [
    {
     "data": {
      "text/plain": [
       "5.8852533991180165"
      ]
     },
     "execution_count": 22,
     "metadata": {},
     "output_type": "execute_result"
    }
   ],
   "source": [
    "def composite_simpson(h):\n",
    "    \"apply Composite Simpson's rule for q4f\"\n",
    "\n",
    "    XI0 = q4f(0) + q4f(2)\n",
    "    XI1 = 0 # Summation of f (x2i−1)\n",
    "    XI2 = 0 # Summation of f (x2i)\n",
    "\n",
    "    for i in range(len(listh)):\n",
    "        X = listh[i]\n",
    "        if i % 2 == 0:\n",
    "            XI2 = XI2 + q4f(X)\n",
    "        else:\n",
    "            XI1 = XI1 + q4f(X)\n",
    "        \n",
    "    XI = h*(XI0 + 2*XI2 + 4*XI1)/3.\n",
    "    return XI\n",
    "\n",
    "composite_simpson(0.25)"
   ]
  },
  {
   "cell_type": "markdown",
   "metadata": {},
   "source": [
    "__Question 5__\n",
    "\n",
    "(a)"
   ]
  },
  {
   "cell_type": "code",
   "execution_count": null,
   "metadata": {},
   "outputs": [],
   "source": []
  }
 ],
 "metadata": {
  "kernelspec": {
   "display_name": "Python 3",
   "language": "python",
   "name": "python3"
  },
  "language_info": {
   "codemirror_mode": {
    "name": "ipython",
    "version": 3
   },
   "file_extension": ".py",
   "mimetype": "text/x-python",
   "name": "python",
   "nbconvert_exporter": "python",
   "pygments_lexer": "ipython3",
   "version": "3.7.4"
  }
 },
 "nbformat": 4,
 "nbformat_minor": 2
}
