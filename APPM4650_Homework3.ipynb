{
 "cells": [
  {
   "cell_type": "markdown",
   "metadata": {},
   "source": [
    "Constance Delannoy\n",
    "\n",
    "APPM 4650 | Homework 3\n",
    "\n",
    "June 28, 2020"
   ]
  },
  {
   "cell_type": "code",
   "execution_count": 1,
   "metadata": {},
   "outputs": [
    {
     "data": {
      "text/html": [
       "<script>\n",
       "code_show=true; \n",
       "function code_toggle() {\n",
       " if (code_show){\n",
       " $('div.input').hide();\n",
       " } else {\n",
       " $('div.input').show();\n",
       " }\n",
       " code_show = !code_show\n",
       "} \n",
       "$( document ).ready(code_toggle);\n",
       "</script>\n",
       "<form action=\"javascript:code_toggle()\"><input type=\"submit\" value=\"The raw code is by default hidden for easier reading.To toggle on/off the raw code, click here.\"></form>"
      ],
      "text/plain": [
       "<IPython.core.display.HTML object>"
      ]
     },
     "execution_count": 1,
     "metadata": {},
     "output_type": "execute_result"
    }
   ],
   "source": [
    "from IPython.display import HTML\n",
    "import numpy as np\n",
    "import pandas as pd\n",
    "import math\n",
    "\n",
    "HTML('''<script>\n",
    "code_show=true; \n",
    "function code_toggle() {\n",
    " if (code_show){\n",
    " $('div.input').hide();\n",
    " } else {\n",
    " $('div.input').show();\n",
    " }\n",
    " code_show = !code_show\n",
    "} \n",
    "$( document ).ready(code_toggle);\n",
    "</script>\n",
    "<form action=\"javascript:code_toggle()\"><input type=\"submit\" value=\"The raw code is by default hidden for easier reading.To toggle on/off the raw code, click here.\"></form>''')"
   ]
  },
  {
   "cell_type": "markdown",
   "metadata": {},
   "source": [
    "__Question 1__\n",
    "\n",
    "We use forward difference for the first row, central difference for the second, and backward difference for the third.\n",
    "\n",
    "We find the following table."
   ]
  },
  {
   "cell_type": "code",
   "execution_count": 6,
   "metadata": {},
   "outputs": [
    {
     "data": {
      "text/html": [
       "<div>\n",
       "<style scoped>\n",
       "    .dataframe tbody tr th:only-of-type {\n",
       "        vertical-align: middle;\n",
       "    }\n",
       "\n",
       "    .dataframe tbody tr th {\n",
       "        vertical-align: top;\n",
       "    }\n",
       "\n",
       "    .dataframe thead th {\n",
       "        text-align: right;\n",
       "    }\n",
       "</style>\n",
       "<table border=\"1\" class=\"dataframe\">\n",
       "  <thead>\n",
       "    <tr style=\"text-align: right;\">\n",
       "      <th></th>\n",
       "      <th>x</th>\n",
       "      <th>f(x)</th>\n",
       "      <th>f'(x)</th>\n",
       "    </tr>\n",
       "  </thead>\n",
       "  <tbody>\n",
       "    <tr>\n",
       "      <td>0</td>\n",
       "      <td>0.5</td>\n",
       "      <td>0.4794</td>\n",
       "      <td>0.852</td>\n",
       "    </tr>\n",
       "    <tr>\n",
       "      <td>1</td>\n",
       "      <td>0.6</td>\n",
       "      <td>0.5646</td>\n",
       "      <td>0.824</td>\n",
       "    </tr>\n",
       "    <tr>\n",
       "      <td>2</td>\n",
       "      <td>0.7</td>\n",
       "      <td>0.6442</td>\n",
       "      <td>0.796</td>\n",
       "    </tr>\n",
       "  </tbody>\n",
       "</table>\n",
       "</div>"
      ],
      "text/plain": [
       "     x    f(x)  f'(x)\n",
       "0  0.5  0.4794  0.852\n",
       "1  0.6  0.5646  0.824\n",
       "2  0.7  0.6442  0.796"
      ]
     },
     "execution_count": 6,
     "metadata": {},
     "output_type": "execute_result"
    }
   ],
   "source": [
    "x1 = 0.5 \n",
    "y1 = 0.4794\n",
    "\n",
    "x2 = 0.6 \n",
    "y2 = 0.5646\n",
    "\n",
    "x3 = 0.7 \n",
    "y3 = 0.6442\n",
    "\n",
    "f1 = (y2-y1)/(x2-x1)\n",
    "f2 = (y3-y1)/(x3-x1)\n",
    "f3 = (y3-y2)/(x3-x2)\n",
    "\n",
    "res1 = pd.DataFrame({'x':[x1, x2, x3], 'f(x)':[y1,y2,y3], \"f'(x)\":[f1,f2,f3]})\n",
    "res1"
   ]
  },
  {
   "cell_type": "markdown",
   "metadata": {},
   "source": [
    "__Question 2__\n",
    "\n",
    "Let $f'(x) = af(x) + bf(x+h) + cf(x+2h)$\n",
    "\n",
    "We use Taylor Series expansion in the next step to get:\n",
    "\n",
    "$f'(x) = af(x) + b(f(x) + hf'(x) + \\frac{h^2}{2}f''(x) + \\frac{h^3}{3}f'''(x))+  c(f(x) + 2hf'(x) + \\frac{4h^2}{2}f''(x) + \\frac{8h^3}{3}f'''(x))$\n",
    "\n",
    "$\\rightarrow f'(x) = (a+b+c)f(x) + (hc + 2hc)f'(x) + \\frac{(b+4c)}{2}h^2f''(x) + \\frac{(b+8c)}{3}h^3f'''(x)$\n",
    "\n",
    "We use Taylor matching to reconcile the left-hand side and right-hand side.\n",
    "\n",
    "$f(x): a + b + c = 0 \\rightarrow a = -b -c$\n",
    "\n",
    "$f'(x): hb + 2hc = 1 \\rightarrow b + 2c = \\frac{1}{h} \\rightarrow -2c = \\frac{1}{h}$\n",
    "\n",
    "$f''(x): \\frac{(b+4c)}{2}h^2 = 0 \\rightarrow b + 4c = 0 \\rightarrow b = -4c$\n",
    "\n",
    "$f'''(x): \\frac{(b+8c)}{3}h^3 = 0 \\rightarrow b+8c = 0 \\rightarrow error$\n",
    "\n",
    "Thus:\n",
    "\n",
    "$a = -\\frac{3}{2h}$, $b = \\frac{2}{h}$, $c = -\\frac{1}{2h}$\n",
    "\n",
    "Therefore we get the result:\n",
    "\n",
    "$f'(x) \\approx -\\frac{3}{2h}f(x) + \\frac{2}{h}f(x+h) - \\frac{1}{2h}f(x+2h)$\n",
    "\n",
    "$f'(x) \\approx \\frac{1}{h}(-\\frac{3}{2}f(x) + 2f(x+h) - \\frac{1}{2}f(x+2h))$ "
   ]
  },
  {
   "cell_type": "markdown",
   "metadata": {},
   "source": [
    "__Question 3__\n",
    "\n",
    "(a) _Lagrange polynomials_\n",
    "\n",
    "$\\int_{x_0}^{x_3} f(x)dx = \\int_{x_0}^{x_3} \\frac{(x-x_1)(x-x_2)(x-x_3)}{(x_0-x_1)(x_0-x_2)(x_0-x_3)} f(x_0) + \\frac{(x-x_0)(x-x_2)(x-x_3)}{(x_1-x_0)(x_1-x_2)(x_1-x_3)} f(x_1) + \\frac{(x-x_0)(x-x_1)(x-x_3)}{(x_2-x_0)(x_2-x_1)(x_2-x_3)} f(x_2) + \\frac{(x-x_0)(x-x_1)(x-x_2)}{(x_3-x_0)(x_3-x_1)(x_3-x_2)} f(x_3)$\n",
    "\n",
    "Let $h = x_1-x_0$ and $s = \\frac{x-x_1}{h}$ so that: \\begin{cases} x-x_0 = (s+1)h \\\\ x-x_1 = sh \\\\ x-x_2=(s-1)h \\\\ x-x_3=(s-2)h \\\\ \\frac{ds}{dx}= \\frac{1}{h} \\rightarrow hds = dx \\end{cases}\n",
    "\n",
    "then the problem becomes: $\\int_{x_0}^{x_3} f(x)dx = \\int_{-1}^{2}hf(s)ds$\n",
    "\n",
    "and: $\\int_{x_0}^{x_3} f(x)dx = h\\int_{-1}^{2} \\frac{sh(s-1)h(s-2)h}{-h(-2h)(-3h)}f(x_0) + \\frac{(s+1)h(s-1)h(s-2)h}{h(-h)(-2h)}f(x_1) + \\frac{(s+1)h(sh)(s-2)h}{2h(h)(-h)}f(x_2) + \\frac{(s+1)h(sh)(s-1)h}{3h(2h)h}f(x_3)$\n",
    "\n",
    "$\\int_{x_0}^{x_3} f(x)dx = h[\\frac{f(x_0)}{-6} \\int_{-1}^2 s^3 - 3s^2 + 2s ds + \\frac{f(x_1)}{2}\\int_{-1}^2 s^3 - 2s^2 - s + 2 ds + \\frac{f(x_2)}{-2}\\int_{-1}^2 s^3 - s^2 - 2s ds + \\frac{f(x_3)}{6}\\int_{-1}^2 s^3 - s ds]$\n",
    "\n",
    "$\\int_{x_0}^{x_3} f(x)dx = h[\\frac{f(x_0)}{-6} \\lvert \\frac{s^4}{4} - s^3 + s^2 \\rvert_{-1}^2 + \\frac{f(x_1)}{2} \\lvert \\frac{s^4}{4} - \\frac{2s^3}{3} - \\frac{s^2}{2} + 2s \\rvert_{-1}^2 + \\frac{f(x_2)}{-2} \\lvert \\frac{s^4}{4} - \\frac{s^3}{3} -s^2 \\rvert_{-1}^2 + \\frac{f(x_3)}{6}\\lvert \\frac{s^4}{4} - \\frac{s^2}{2}\\rvert_{-1}^2]$\n",
    "\n",
    "$\\int_{x_0}^{x_3} f(x)dx = h[\\frac{f(x_0)}{-6}(\\frac{16}{4} - 8 + 4 - \\frac{1}{4} -1 -1) + \\frac{f(x_1)}{2}(\\frac{16}{4} - \\frac{16}{3} - 2 + 4 - \\frac{1}{4} - \\frac{2}{3} + \\frac{1}{2} + 2) + \\frac{f(x_2)}{-2}(\\frac{16}{4} - \\frac{8}{3} -4 - \\frac{1}{4} - \\frac{1}{3} + 1) + \\frac{f(x_3)}{6}(\\frac{16}{4} - 2 - \\frac{1}{4} + \\frac{1}{2})]$\n",
    "\n",
    "$\\int_{x_0}^{x_3} f(x)dx = h(\\frac{f(x_0)}{-6}(\\frac{-9}{4}) + \\frac{f(x_1)}{2}(\\frac{27}{12}) + \\frac{f(x_2)}{-2}(\\frac{-27}{12}) + \\frac{f(x_3)}{6}(\\frac{9}{4}))$\n",
    "\n",
    "$\\int_{x_0}^{x_3} f(x)dx = \\frac{3h}{8}(f(x_0) + 3f(x_1) + 3f(x_2) + f(x_3))$"
   ]
  },
  {
   "cell_type": "markdown",
   "metadata": {},
   "source": [
    "(b) _Taylor comparison_\n",
    "\n",
    "$\\int_{x_0}^{x_3} f(x)dx = af(x_0) + bf(x_1) + cf(x_2) + df(x_3)$ \n",
    "\n",
    "we set $s = \\frac{x-x_0}{h}$, leading to $x_0 = 0, x_1 = 1, x_2 = 2, x_3 = 3$, and $\\frac{ds}{dx}= \\frac{1}{h} \\rightarrow hds = dx$ \n",
    "\n",
    "the problem becomes: $\\int_{x_0}^{x_3} f(x)dx = h\\int_0^3 f(s)ds = h(af(0) + bf(1) + cf(2) + df(3)$\n",
    "\n",
    "We first look at the left-hand side:\n",
    "\n",
    "$\\int_0^3 f(s)ds = \\int_0^3 f(0) + sf'(0) + \\frac{s^2}{2} f''(0) + \\frac{s^3}{6}f'''(0) + \\frac{s^4}{24}f''''(0) ds$\n",
    "\n",
    "$\\int_0^3 f(s)ds = f(0) \\rvert s \\lvert_0^3 + f'(0) \\lvert \\frac{s^2}{2}\\rvert_0^3 + f''(0) \\rvert \\frac{s^3}{6} \\lvert_0^3 + \\frac{f'''(0)}{6} \\frac{s^4}{4} \\rvert_0^3 + \\frac{f''''(0)}{24} \\lvert {s^5}{5} \\rvert_0^3 $\n",
    "\n",
    "$\\int_0^3 f(s)ds = 3f(0) + \\frac{9}{2} f'(0) + \\frac{9}{2} f''(0) + \\frac{27}{8} f'''(0) + \\frac{81}{40} f''''(0)$\n",
    "\n",
    "We now look at the right-hand side:\n",
    "\n",
    "$\\int_0^3 f(s)ds = h(af(0) + bf(1) + cf(2) + df(3))$\n",
    "\n",
    "$\\int_0^3 f(s)ds = h[af(0) + b(f(0) + f'(0) + \\frac{1}{2}f''(0) + \\frac{1}{6}f'''(0) + \\frac{1}{24}f''''(0)) + c(f(0) + 2f'(0) + 2f''(0) + \\frac{4}{3}f'''(0) + \\frac{2}{3}f''''(0)) + d(f(0) + 3f'(0) + \\frac{9}{2}f''(0) + \\frac{9}{2}f'''(0) + \\frac{27}{8}f''''(0))]$\n",
    "\n",
    "$\\int_0^3 f(s)ds = h[f(0)(a+b+c+d) + f'(0)(b+2c+3d) + f''(0)(\\frac{b}{2} + 2c+ \\frac{9d}{2}) + f'''(0)(\\frac{b}{6} + \\frac{4c}{3} + \\frac{9d}{2}) + f''''(0)(\\frac{b}{24} + \\frac{2c}{3} + \\frac{27d}{8})]$\n",
    "\n",
    "We now have to solve the system of equations:\n",
    "\n",
    "\\begin{cases} a+b+c+d = 3 \\\\ b+2c+3d = \\frac{9}{2} \\\\ \\frac{b}{2} + 2c + \\frac{9d}{2} = \\frac{9}{2}\\\\ \\frac{b}{6} + \\frac{4c}{3} + \\frac{9d}{2} = \\frac{27}{8} \\\\ \\frac{b}{24} + \\frac{2b}{3} + \\frac{27d}{8}\\end{cases}\n",
    "\n",
    "With the solution $a = \\frac{3}{8}$, $b = \\frac{9}{8}$, $c = \\frac{9}{8}$, $d = \\frac{3}{8}$, and the last equation giving the error term $O(h^4)$.\n",
    "\n",
    "This ultimately gives Simpson's 3/8 rule:\n",
    "\n",
    "$\\int_{x_0}^{x_3} f(x)dx = \\frac{3h}{8}(f(x_0) + 3f(x_1) + 3f(x_2) + f(x_3)) + O(h^4)$"
   ]
  },
  {
   "cell_type": "markdown",
   "metadata": {},
   "source": [
    "__Question 4__\n",
    "\n",
    "(a) Using the Composite Trapezoidal rule, we get that the value of the integral below."
   ]
  },
  {
   "cell_type": "code",
   "execution_count": 3,
   "metadata": {},
   "outputs": [
    {
     "data": {
      "text/plain": [
       "0.42158203719810194"
      ]
     },
     "execution_count": 3,
     "metadata": {},
     "output_type": "execute_result"
    }
   ],
   "source": [
    "def q4f(x):\n",
    "    \"compute y = f(x) with f(x) = x^2e^(-x^2)\"\n",
    "    y = x**2*math.exp(-x**2)\n",
    "    return y\n",
    "\n",
    "h = 0.25\n",
    "listh_inflated = range(25, 200, 25)\n",
    "listh = list(map(lambda x : x/100, listh_inflated))\n",
    "\n",
    "sumofe = sum(map(q4f, listh))\n",
    "\n",
    "inta = (h/2)*(q4f(0) + 2*sumofe + q4f(2))\n",
    "inta"
   ]
  },
  {
   "cell_type": "markdown",
   "metadata": {},
   "source": [
    "(b) Using the Composite Simpson's rule, we find the value of the integral below."
   ]
  },
  {
   "cell_type": "code",
   "execution_count": 4,
   "metadata": {},
   "outputs": [
    {
     "data": {
      "text/plain": [
       "0.4227161879339765"
      ]
     },
     "execution_count": 4,
     "metadata": {},
     "output_type": "execute_result"
    }
   ],
   "source": [
    "def composite_simpson(h):\n",
    "    \"apply Composite Simpson's rule for q4f\"\n",
    "\n",
    "    XI0 = q4f(0) + q4f(2)\n",
    "    XI1 = 0 # Summation of f (x2i−1)\n",
    "    XI2 = 0 # Summation of f (x2i)\n",
    "\n",
    "    for i in range(len(listh)):\n",
    "        X = listh[i]\n",
    "        if (i+1) % 2 == 0:\n",
    "            XI2 = XI2 + q4f(X)\n",
    "        else:\n",
    "            XI1 = XI1 + q4f(X)\n",
    "        \n",
    "    XI = h*(XI0 + 2*XI2 + 4*XI1)/3\n",
    "    return XI\n",
    "\n",
    "composite_simpson(0.25)"
   ]
  },
  {
   "cell_type": "markdown",
   "metadata": {},
   "source": [
    "__Question 5__\n",
    "\n",
    "We want $\\int_0^1 f(x) dx = \\int_0^1 x^2 e^{-x}dx$\n",
    "\n",
    "The first step is to convert the integration boundaries.\n",
    "\n",
    "We introduce $x = \\frac{t + 1}{2}$ such that:\n",
    "\n",
    "$\\int_0^1 f(x) dx = \\frac{1}{2} \\int_{-1}^1 (\\frac{t+1}{2})^2 e^{-(t+1)/2}dt = \\frac{1}{2} \\int_{-1}^1 g(t) dt$\n",
    "\n",
    "(a) _n = 2_\n",
    "\n",
    "with $n=2$, we want a polynomial $p(x)$ of degree 3 such that $\\int_{-1}^1 p(x)dx = \\sum_{i=1}^{2} c_ip(x)$\n",
    "\n",
    "Thus:\n",
    "\n",
    "$\\int_{-1}^1 1 dx = 2 = c_1 + c_2$\n",
    "\n",
    "$\\int_{-1}^1 x dx = 0 = c_1x_1 + c_2x_2$\n",
    "\n",
    "$\\int_{-1}^1 x^2 dx = \\frac{2}{3} = c_1x_1^2 + c_2x_2^2$\n",
    "\n",
    "$\\int_{-1}^1 x^3 dx = 0 = c_1x_1^3 + c_2x_2^3$\n",
    "\n",
    "therefore:\n",
    "\n",
    "$c_1=c_2=1$ and $x_1 = \\frac{-\\sqrt{3}}{3}$ and $x_2 = \\frac{\\sqrt{3}}{3}$\n",
    "\n",
    "It follows that:\n",
    "\n",
    "$\\int_0^1 f(x) dx = \\frac{1}{2} (g(\\frac{-\\sqrt{3}}{3}) + g(\\frac{\\sqrt{3}}{3}))$\n",
    "\n",
    "We find that $\\int_0^1 x^2 e^{-x}dx$ is equal to:\n"
   ]
  },
  {
   "cell_type": "code",
   "execution_count": 5,
   "metadata": {},
   "outputs": [
    {
     "data": {
      "text/plain": [
       "0.15941043096637894"
      ]
     },
     "execution_count": 5,
     "metadata": {},
     "output_type": "execute_result"
    }
   ],
   "source": [
    "def q5f(x):\n",
    "    \"this is g(x) = (t+1)/2)^2 e^{-(t+1)/2}\"\n",
    "    y = (((x+1)/2)**2)*math.exp(-(x+1)/2)\n",
    "    return y\n",
    "\n",
    "x1 = -math.sqrt(3)/3\n",
    "x2 = math.sqrt(3)/3\n",
    "\n",
    "1/2*(q5f(x1) + q5f(x2))"
   ]
  },
  {
   "cell_type": "markdown",
   "metadata": {},
   "source": [
    "(b) _n = 3_\n",
    "\n",
    "We apply the same method with n = 3, meaning that $p(x)$ is a polynomial of degree 5.\n",
    "\n",
    "We get:\n",
    "\n",
    "$\\int_{-1}^1 1 dx = 2 = c_1 + c_2 + c_3$\n",
    "\n",
    "$\\int_{-1}^1 x dx = 0 = c_1x_1 + c_2x_2 + c_3x_3$\n",
    "\n",
    "$\\int_{-1}^1 x^2 dx = \\frac{2}{3} = c_1x_1^2 + c_2x_2^2 + c_3x_3^2$\n",
    "\n",
    "$\\int_{-1}^1 x^3 dx = 0 = c_1x_1^3 + c_2x_2^3 + c_3x_3^3$\n",
    "\n",
    "$\\int_{-1}^1 x^4 dx = \\frac{2}{5} = c_1x_1^4 + c_2x_2^4 + c_3x_3^4$\n",
    "\n",
    "$\\int_{-1}^1 x^5 dx = 0 = c_1x_1^5 + c_2x_2^5 + c_3x_3^5$\n",
    "\n",
    "This system gives us the solutions:\n",
    "\n",
    "$c_1 = 5/9, c_2 = 8/9, c_3 = 5/9, x_1 = -\\sqrt{\\frac{3}{5}}, x_2 = 0, x_3 = \\sqrt{\\frac{3}{5}}$\n",
    "\n",
    "We find that $\\int_0^1 x^2 e^{-x}dx$ is equal to:\n"
   ]
  },
  {
   "cell_type": "code",
   "execution_count": 7,
   "metadata": {},
   "outputs": [
    {
     "data": {
      "text/plain": [
       "0.16059538680891924"
      ]
     },
     "execution_count": 7,
     "metadata": {},
     "output_type": "execute_result"
    }
   ],
   "source": [
    "c1 = 5/9\n",
    "c2 = 8/9\n",
    "c3 = 5/9\n",
    "\n",
    "x1 = -math.sqrt(3/5)\n",
    "x2 = 0\n",
    "x3 = math.sqrt(3/5)\n",
    "\n",
    "1/2*(c1*q5f(x1) + c2*q5f(x2) + c3*q5f(x3))"
   ]
  },
  {
   "cell_type": "markdown",
   "metadata": {},
   "source": [
    "The actual value of the integral is $\\int_0^1 x^2 e^{-x}dx = 0.1606027$ so (b) gives us the closest value."
   ]
  }
 ],
 "metadata": {
  "kernelspec": {
   "display_name": "Python 3",
   "language": "python",
   "name": "python3"
  },
  "language_info": {
   "codemirror_mode": {
    "name": "ipython",
    "version": 3
   },
   "file_extension": ".py",
   "mimetype": "text/x-python",
   "name": "python",
   "nbconvert_exporter": "python",
   "pygments_lexer": "ipython3",
   "version": "3.7.4"
  }
 },
 "nbformat": 4,
 "nbformat_minor": 2
}
