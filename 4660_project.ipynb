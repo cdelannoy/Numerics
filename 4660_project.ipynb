{
 "cells": [
  {
   "cell_type": "code",
   "execution_count": 15,
   "metadata": {},
   "outputs": [],
   "source": [
    "import numpy as np\n",
    "from scipy.integrate import quad  \n",
    "from matplotlib import pyplot as plt\n",
    "from sympy import *"
   ]
  },
  {
   "cell_type": "code",
   "execution_count": 16,
   "metadata": {},
   "outputs": [],
   "source": [
    "class Quadrature:\n",
    "    '''\n",
    "    This class performs quadrature by:\n",
    "    1) creating orthogonal polynomials based on the provided weight function, \n",
    "    2) finding their roots using bisection + Newton with the \"recurrence\" relation between \n",
    "    roots of subsequent orthogonal polynomials,\n",
    "    3) solves the Vandermonde system for coefficients of quadrature\n",
    "    4) computes integral\n",
    "    \n",
    "    It returns the value of the integral (with the Vandermonde system if requested),\n",
    "    and prints graphs if requested.\n",
    "    '''\n",
    "    def __init__(self, funs, n, weightFun, a, b, weighted = True, print_matrices = False):\n",
    "        \n",
    "        x = Symbol('x')\n",
    "\n",
    "        self.f = funs\n",
    "        self.order = n\n",
    "        self.weight = weightFun\n",
    "        self.a = a\n",
    "        self.b = b\n",
    "        self.weighted = weighted\n",
    "        self.printM = print_matrices\n",
    "        self.polys = self.build_poly(order = self.order)\n",
    "        self.nodes = self.find_roots()\n",
    "        self.value = self.performQuad()\n",
    "        \n",
    "    def _btop(self, x, p):\n",
    "        return x*self.weight(x)*(p(x))**2\n",
    "\n",
    "    def _btom(self, x, p):\n",
    "        return self.weight(x)*(p(x))**2\n",
    "\n",
    "    def _ctop(self, x, p1, p2):\n",
    "        return x*self.weight(x)*p1(x)*p2(x)\n",
    "    \n",
    "    def build_poly(self, order):\n",
    "        \"\"\"\n",
    "        Builds sets of orthogonal polynomials based on provided weight function and \n",
    "        specified highest order.\n",
    "        Returns list of polynomials from order 0 to order n (as specified).\n",
    "        \"\"\"\n",
    "\n",
    "        def _phi_1(x):\n",
    "            return x - bk\n",
    "\n",
    "        def _phi0(x):\n",
    "            return 1\n",
    "\n",
    "        phi1 = _phi0(Symbol('x')) #phi_0 = 1 by definition\n",
    "        bk = quad(self._btop, self.a, self.b, args=(_phi0))[0]/quad(self.weight, self.a, self.b)[0]\n",
    "        phi2 = _phi_1(Symbol('x'))\n",
    "        phis = [phi1, phi2]\n",
    "\n",
    "        if order == 0:\n",
    "            return [phi1]\n",
    "        if order == 1:\n",
    "            return phis\n",
    "        else:\n",
    "            k = 2\n",
    "            while k <= order:\n",
    "                phis1 = lambdify(x, phis[k-1])\n",
    "                phis2 = lambdify(x, phis[k-2])\n",
    "\n",
    "                bktop = quad(self._btop, self.a, self.b, args=(phis1))[0]\n",
    "                bktom = quad(self._btom, self.a, self.b, args=(phis1))[0]\n",
    "                bk = bktop/bktom\n",
    "\n",
    "                cktop = quad(self._ctop, self.a, self.b, args=(phis1, phis2))[0]\n",
    "                cktom = quad(self._btom, self.a, self.b, args=(phis2))[0]\n",
    "                ck = cktop/cktom\n",
    "\n",
    "                p1 = self.build_poly(k-1)[-1]\n",
    "                p2 = self.build_poly(k-2)[-1]\n",
    "\n",
    "                phi2 = (x-bk)*p1-ck*p2\n",
    "\n",
    "                phis.append(phi2)\n",
    "                k+=1\n",
    "\n",
    "            return phis\n",
    "\n",
    "    def find_roots(self):\n",
    "        '''\n",
    "        Finds roots of polynomials using bisection and Newton with \"root formula\"\n",
    "        relating lower order roots to higher order roots for orthogonal polynomials.\n",
    "        Returns list of roots of highest order polynomial.\n",
    "        '''\n",
    "        if self.order < 2:\n",
    "            raise Exception('Order < 2 is not very interesting. Try a higher one!')\n",
    "\n",
    "        # First order\n",
    "        rootList = [self._bisecNewton(lambdify(x, self.polys[1]), self.a, self.b, self.order, 10**(-self.order*2))]\n",
    "        o = 2\n",
    "        while o <= self.order:\n",
    "            prevRoots = rootList\n",
    "            rootList = []\n",
    "            for j in range(o):\n",
    "                if j == 0: \n",
    "                    xa = self.a\n",
    "                    xb = prevRoots[j]\n",
    "\n",
    "                elif j == len(prevRoots):\n",
    "                    xa = prevRoots[j-1]\n",
    "                    xb = self.b\n",
    "                else:\n",
    "                    xa = prevRoots[j-1]\n",
    "                    xb = prevRoots[j]\n",
    "\n",
    "                rootList.append(self._bisecNewton(lambdify(x, self.polys[o]), xa, xb, o, 10**(-o*2)))\n",
    "            o+=1\n",
    "\n",
    "        return rootList\n",
    "\n",
    "    def _bisecNewton(self, funs, a, b, order, tol):\n",
    "        '''\n",
    "        This function runs the bisection method until\n",
    "        we reach the basin of convergence for Newton,\n",
    "        in which case we jump to Newton's method\n",
    "        It returns the root of funs between a and b\n",
    "        '''\n",
    "#         f = funs(Symbol('x'))\n",
    "#         fx = lambdify(x, f.diff(x))\n",
    "        \n",
    "#         print(np.linalg.norm(fx))\n",
    "        while abs(funs(a)-funs(b)) >= 10**(-order): # replace by basin of convergence?\n",
    "            a, b = self._bisect(funs, a, b, tol, 100)\n",
    "        else:\n",
    "            if abs(funs((a+b)/2)) <= 10**(-2*order):\n",
    "                # sometimes bisection is enough!\n",
    "                return (a+b)/2\n",
    "            else:\n",
    "                p = self._newton(funs, a, b, 10**(-2*order), 100)\n",
    "                return p\n",
    "\n",
    "    def _bisect(self, funs, a, b, tol, Nmax):\n",
    "        '''\n",
    "        This is the bisection method\n",
    "        '''\n",
    "\n",
    "        if np.sign(funs(a)) == np.sign(funs(b)):\n",
    "            raise Exception('there is no root between a and b!')\n",
    "\n",
    "        p = (a+b)/2\n",
    "        n = 1\n",
    "\n",
    "        while np.abs(funs(p)) >= tol or n < Nmax:\n",
    "            if np.sign(funs(a)) == np.sign(funs(p)):\n",
    "                a = p\n",
    "            else:\n",
    "                b = p\n",
    "            p = (a+b)/2\n",
    "            n += 1\n",
    "\n",
    "        return a, b\n",
    "\n",
    "    def _newton(self, funs, p, tol, n):\n",
    "        '''\n",
    "        This is Newton's method\n",
    "        '''\n",
    "        i = 0\n",
    "        ae = 1\n",
    "\n",
    "        f = funs(Symbol('x'))\n",
    "\n",
    "        while i < n and ae > tol: \n",
    "            # compute derivative\n",
    "            fx = lambdify(x, f.diff(x))\n",
    "\n",
    "            #iteration\n",
    "            p1 = p - fx(p)/funs(p)\n",
    "\n",
    "            ae = np.abs(p - p1) #absolute error\n",
    "            p = p1\n",
    "            i += 1\n",
    "\n",
    "        if i == n:\n",
    "            return 'iteration did not converge'\n",
    "        else:\n",
    "            return p\n",
    "        \n",
    "    def performQuad(self):\n",
    "        \"\"\"\n",
    "        Performs quadrature, returns the value of the integral and, if requested,\n",
    "        the Vandermonde matrix and its associated RHS for the linear system \n",
    "        that we solve to get the coefficients of our quadrature.\n",
    "        \"\"\"\n",
    "        polyFuns = [lambdify(x, p) for p in self.polys]\n",
    "        \n",
    "        RHS = np.array([quad(lambda x: p(x)*self.weight(x), self.a, self.b)[0] for p in polyFuns[:self.order]])\n",
    "        Vndmd = np.empty((self.order,self.order))\n",
    "        for i in range(self.order):\n",
    "            for j in range(self.order):\n",
    "                Vndmd[i,j] = polyFuns[i](self.nodes[j])\n",
    "\n",
    "        coefs = np.matmul(np.linalg.inv(Vndmd), RHS)\n",
    "        \n",
    "        if self.weighted == True:\n",
    "            self.coefs = coefs\n",
    "        else:\n",
    "            self.coefs = [coefs[i]*(1/self.weight(self.nodes[i])) for i in range(self.order)]\n",
    "        \n",
    "        quadVal = 0\n",
    "        for i in range(self.order):\n",
    "            quadVal += self.coefs[i]*self.f(self.nodes[i])\n",
    "\n",
    "        if self.printM == True:\n",
    "            return quadVal, Vndmd, RHS\n",
    "        else:\n",
    "            return quadVal\n",
    "        \n",
    "    def print_polys(self, fileName = 'None.png'):\n",
    "        '''\n",
    "        Prints graph of polynomials\n",
    "        '''\n",
    "        xs = np.linspace(self.a, self.b, 100)\n",
    "        yarr = np.empty((self.order-1, 100))\n",
    "        for i in range(len(yarr)):\n",
    "            yarr[i] = [lambdify(x, self.polys[i+1])(j) for j in xs]\n",
    "            \n",
    "        fig = plt.figure(figsize = (6, 3), dpi = 200)\n",
    "        ax = fig.add_subplot(1, 1, 1)\n",
    "        ax.grid()\n",
    "        for i in range(len(yarr)):\n",
    "            plt.plot(xs, yarr[i], label= str(i+1))\n",
    "        ax.set_xlabel('x')\n",
    "        ax.set_ylabel('y')\n",
    "        ax.set_title('Generated orthogonal polynomials')\n",
    "        ax.legend(title = r'order$^*$')\n",
    "        plt.figtext(0.1, 0.01, r\"$^*$order 0 polynomial ($f(x) = 1$) not included\", ha = 'left', fontsize=6)\n",
    "        fig.savefig(fileName)\n",
    "        plt.show()\n",
    "        \n",
    "    def print_roots(self, poly = False, fileName = 'None.png'):\n",
    "        xs = np.linspace(-1, 1, 100)\n",
    "        if poly == False: yarr = [self.f(j) for j in xs]\n",
    "        else: yarr = [lambdify(x, self.polys[self.order])(j) for j in xs]\n",
    "\n",
    "        fig = plt.figure(figsize = (6, 3), dpi = 200)\n",
    "        ax = fig.add_subplot(1, 1, 1)\n",
    "        ax.plot(xs, yarr)\n",
    "        if poly == False:\n",
    "            for i in range(len(self.nodes)):\n",
    "                ax.vlines(self.nodes[i], -0.5, self.f(self.nodes[i]), color = 'red', linestyle = '--')\n",
    "        else:\n",
    "            for i in range(len(self.nodes)):\n",
    "                ax.vlines(self.nodes[i], -0.5, lambdify(x, self.polys[self.order])(self.nodes[i]), color = 'red', linestyle = '--')\n",
    "        ax.set_ylabel('y')\n",
    "        ax.set_title('Function to integrate and its nodes')\n",
    "        ax.legend()\n",
    "        ax.grid()\n",
    "        fig.savefig(fileName)\n",
    "        plt.show()"
   ]
  },
  {
   "cell_type": "code",
   "execution_count": 72,
   "metadata": {},
   "outputs": [
    {
     "data": {
      "text/plain": [
       "[-0.8660254037844537, -1.1156177909894302e-30, 0.8660254037844537]"
      ]
     },
     "execution_count": 72,
     "metadata": {},
     "output_type": "execute_result"
    }
   ],
   "source": [
    "mquad = Quadrature(p, 3, Tchbshv, -1, 1, weighted=True)\n",
    "mquad.nodes"
   ]
  },
  {
   "cell_type": "code",
   "execution_count": 75,
   "metadata": {},
   "outputs": [
    {
     "name": "stdout",
     "output_type": "stream",
     "text": [
      "0.0\n",
      "9.108981119650456e-31\n",
      "0.0\n"
     ]
    }
   ],
   "source": [
    "mquad = Quadrature(p, 3, Legendre, -1, 1, weighted=True)\n",
    "mquad.nodes \n",
    "actualnodes = [-0.7745966692414833770359, 0, 0.7745966692414833770359]\n",
    "for i in range(len(mquad.nodes)):\n",
    "    print(abs(mquad.nodes[i]-actualnodes[i]))"
   ]
  },
  {
   "cell_type": "code",
   "execution_count": 41,
   "metadata": {},
   "outputs": [],
   "source": [
    "def Tchbshv(x):\n",
    "    return 1/np.sqrt(1-x**2)\n",
    "\n",
    "def Legendre(x):\n",
    "    return 1\n",
    "\n",
    "def absW(x):\n",
    "    return abs(x)\n",
    "\n",
    "def expW(x):\n",
    "    return np.exp(x)\n",
    "\n",
    "def sqW(x):\n",
    "    return x**2\n",
    "\n",
    "def sq8W(x):\n",
    "    return x**8\n",
    "\n",
    "def GaussW(x):\n",
    "    return (1/np.sqrt(2*np.pi))*np.exp(x**2/2)\n",
    "\n",
    "def sinW(x):\n",
    "    return np.sin(x)**2\n",
    "\n",
    "def cosW(x):\n",
    "    return np.cos(x)**2\n",
    "\n",
    "def linW(x):\n",
    "    return 5-x\n",
    "\n",
    "def logW(x):\n",
    "    return np.log(x + 10)\n",
    "\n",
    "def W100(x):\n",
    "    return 1000\n",
    "\n",
    "def discW(x):\n",
    "    if x > 0:\n",
    "        return 1/x\n",
    "    elif x < 0:\n",
    "        return 1/(-x)\n",
    "    else:\n",
    "        return 0\n",
    "\n",
    "def disc2W(x):\n",
    "    if x > 0:\n",
    "        return 1\n",
    "    elif x <= 0:\n",
    "        return 2\n",
    "    \n",
    "def disc3W(x):\n",
    "    if x > -0.9 and x < 0.9:\n",
    "        return 0\n",
    "    else:\n",
    "        return 1\n",
    "    \n",
    "def disc4W(x):\n",
    "    if x > -0.99 and x < 0.99:\n",
    "        return 0\n",
    "    else:\n",
    "        return 1"
   ]
  },
  {
   "cell_type": "code",
   "execution_count": 65,
   "metadata": {},
   "outputs": [],
   "source": [
    "x = Symbol('x')\n",
    "\n",
    "def fex1(x):\n",
    "    return np.exp(x)*np.cos(x)\n",
    "\n",
    "def fex2(x):\n",
    "    return x**4/(np.sqrt(1 - x**2))\n",
    "\n",
    "def fex3(x):\n",
    "    return x**4\n",
    "\n",
    "def fex4(x):\n",
    "    return x**8\n",
    "\n",
    "def fex5(x):\n",
    "    return x \n",
    "\n",
    "def log5(x):\n",
    "    return np.log(x+5)\n",
    "\n",
    "def badzero(x):\n",
    "    return np.sin(1/x)\n",
    "\n",
    "def flat(x):\n",
    "    return 1"
   ]
  },
  {
   "cell_type": "code",
   "execution_count": 84,
   "metadata": {},
   "outputs": [
    {
     "name": "stdout",
     "output_type": "stream",
     "text": [
      "Weighted Error: 1.91e-14\n",
      "Weighted Error: 4.26e-14\n",
      "Weighted Error: 3.51e-14\n",
      "Weighted Error: 3.162e-13\n",
      "Weighted Error: 1.64e-14\n",
      "Weighted Error: 0.0981747704248788\n"
     ]
    }
   ],
   "source": [
    "def mnml1(x):\n",
    "    return x + 1\n",
    "def mnml2(x):\n",
    "    return x**2 + 1\n",
    "def mnml3(x):\n",
    "    return x**3 + 1\n",
    "def mnml4(x):\n",
    "    return x**4 + 1\n",
    "def mnml5(x):\n",
    "    return x**5 + 1\n",
    "def mnml6(x):\n",
    "    return x**6 + 1\n",
    "\n",
    "mnmList = [mnml1, mnml2, mnml3, mnml4, mnml5, mnml6]\n",
    "for p in mnmList:\n",
    "    mquad = Quadrature(p, 3, Tchbshv, -1, 1, weighted=True)\n",
    "    truth = quad(lambda x:p(x)*Tchbshv(x), -1, 1)[0]\n",
    "    print('Weighted Error: ' + str(round(abs(mquad.value - truth),16)))\n",
    "\n",
    "#     mquad = Quadrature(lambda x: p(x)*1/Tchbshv(x), 3, Tchbshv, -1, 1, weighted=False)\n",
    "#     truth = quad(lambda x: p(x)*1/Tchbshv(x), -1, 1)[0]\n",
    "#     print('Non-weighted Error: ' + str(abs(mquad.value - truth)))"
   ]
  },
  {
   "cell_type": "code",
   "execution_count": 50,
   "metadata": {},
   "outputs": [
    {
     "name": "stdout",
     "output_type": "stream",
     "text": [
      "Tchebyshev: 2.643672914569979e-05\n",
      "Legendre: 1.6047683589465945e-05\n",
      "Absolute Value: 2.177376898772085e-05\n",
      "Exponential: 2.5542830146491205e-05\n",
      "Square: 2.3090730871678788e-05\n",
      "Sine: 2.280726518220263e-05\n",
      "Cosine: 1.0753493402059064e-05\n",
      "w(x) = 5-x: 1.2542562305300514e-05\n",
      "Log: 1.6715164741627914e-05\n",
      "Discrete: 1.019994504956158e-06\n",
      "w(x) = log(5+x): 1.788258691684528e-05\n",
      "Discrete 3: 3.3858241988794863e-06\n",
      "Discrete 4: 8.303904312630784e-08\n"
     ]
    },
    {
     "name": "stderr",
     "output_type": "stream",
     "text": [
      "<ipython-input-16-35d73dd98d36>:51: IntegrationWarning: The maximum number of subdivisions (50) has been achieved.\n",
      "  If increasing the limit yields no improvement it is advised to analyze \n",
      "  the integrand in order to determine the difficulties.  If the position of a \n",
      "  local difficulty can be determined (singularity, discontinuity) one will \n",
      "  probably gain from splitting up the interval and calling the integrator \n",
      "  on the subranges.  Perhaps a special-purpose integrator should be used.\n",
      "  bk = quad(self._btop, self.a, self.b, args=(_phi0))[0]/quad(self.weight, self.a, self.b)[0]\n",
      "<ipython-input-16-35d73dd98d36>:70: IntegrationWarning: The maximum number of subdivisions (50) has been achieved.\n",
      "  If increasing the limit yields no improvement it is advised to analyze \n",
      "  the integrand in order to determine the difficulties.  If the position of a \n",
      "  local difficulty can be determined (singularity, discontinuity) one will \n",
      "  probably gain from splitting up the interval and calling the integrator \n",
      "  on the subranges.  Perhaps a special-purpose integrator should be used.\n",
      "  cktom = quad(self._btom, self.a, self.b, args=(phis2))[0]\n",
      "<ipython-input-16-35d73dd98d36>:66: IntegrationWarning: The maximum number of subdivisions (50) has been achieved.\n",
      "  If increasing the limit yields no improvement it is advised to analyze \n",
      "  the integrand in order to determine the difficulties.  If the position of a \n",
      "  local difficulty can be determined (singularity, discontinuity) one will \n",
      "  probably gain from splitting up the interval and calling the integrator \n",
      "  on the subranges.  Perhaps a special-purpose integrator should be used.\n",
      "  bktom = quad(self._btom, self.a, self.b, args=(phis1))[0]\n",
      "<ipython-input-16-35d73dd98d36>:190: IntegrationWarning: The maximum number of subdivisions (50) has been achieved.\n",
      "  If increasing the limit yields no improvement it is advised to analyze \n",
      "  the integrand in order to determine the difficulties.  If the position of a \n",
      "  local difficulty can be determined (singularity, discontinuity) one will \n",
      "  probably gain from splitting up the interval and calling the integrator \n",
      "  on the subranges.  Perhaps a special-purpose integrator should be used.\n",
      "  RHS = np.array([quad(lambda x: p(x)*self.weight(x), self.a, self.b)[0] for p in polyFuns[:self.order]])\n",
      "<ipython-input-50-33b8e0476bb1>:8: IntegrationWarning: The maximum number of subdivisions (50) has been achieved.\n",
      "  If increasing the limit yields no improvement it is advised to analyze \n",
      "  the integrand in order to determine the difficulties.  If the position of a \n",
      "  local difficulty can be determined (singularity, discontinuity) one will \n",
      "  probably gain from splitting up the interval and calling the integrator \n",
      "  on the subranges.  Perhaps a special-purpose integrator should be used.\n",
      "  true_fex1 = quad(lambda x: fex1(x)*WList[i](x), -1, 1)[0]\n",
      "<ipython-input-16-35d73dd98d36>:69: IntegrationWarning: The maximum number of subdivisions (50) has been achieved.\n",
      "  If increasing the limit yields no improvement it is advised to analyze \n",
      "  the integrand in order to determine the difficulties.  If the position of a \n",
      "  local difficulty can be determined (singularity, discontinuity) one will \n",
      "  probably gain from splitting up the interval and calling the integrator \n",
      "  on the subranges.  Perhaps a special-purpose integrator should be used.\n",
      "  cktop = quad(self._ctop, self.a, self.b, args=(phis1, phis2))[0]\n",
      "<ipython-input-16-35d73dd98d36>:190: IntegrationWarning: The integral is probably divergent, or slowly convergent.\n",
      "  RHS = np.array([quad(lambda x: p(x)*self.weight(x), self.a, self.b)[0] for p in polyFuns[:self.order]])\n"
     ]
    }
   ],
   "source": [
    "WList = [Tchbshv, Legendre, absW, expW, sqW, sinW, cosW, linW, logW, discW, log5, disc3W, disc4W]\n",
    "WListNames = ['Tchebyshev', 'Legendre', 'Absolute Value', 'Exponential', 'Square', 'Sine', 'Cosine', \n",
    "              'w(x) = 5-x', 'Log', 'Discrete', 'w(x) = log(5+x)', 'Discrete 3', 'Discrete 4']\n",
    "\n",
    "for i in range(len(WList)):\n",
    "    GQfex1 = Quadrature(fex1, 3, WList[i], -1, 1)\n",
    "    #GQfex1.print_roots()    \n",
    "    true_fex1 = quad(lambda x: fex1(x)*WList[i](x), -1, 1)[0]\n",
    "    print(WListNames[i] + ': ' + str(abs(GQfex1.value-true_fex1)/abs(true_fex1)))"
   ]
  },
  {
   "cell_type": "code",
   "execution_count": 53,
   "metadata": {},
   "outputs": [
    {
     "data": {
      "text/plain": [
       "[-0.9950207392875692, 0.0, 0.9950207392875692]"
      ]
     },
     "execution_count": 53,
     "metadata": {},
     "output_type": "execute_result"
    }
   ],
   "source": [
    "GQfex1.nodes"
   ]
  },
  {
   "cell_type": "code",
   "execution_count": 49,
   "metadata": {},
   "outputs": [
    {
     "data": {
      "text/plain": [
       "-0.4756223556657032"
      ]
     },
     "execution_count": 49,
     "metadata": {},
     "output_type": "execute_result"
    }
   ],
   "source": [
    "GQbadz.value"
   ]
  },
  {
   "cell_type": "code",
   "execution_count": 101,
   "metadata": {},
   "outputs": [
    {
     "name": "stdout",
     "output_type": "stream",
     "text": [
      "Tchebyshev: -0.4756223556657032\n",
      "Legendre: 0.7032053128240944\n",
      "Absolute Value: 0.0217369309487499\n",
      "Exponential: 1.3351072538668936\n",
      "Square: -0.1035513691634628\n",
      "Sine: -0.03979776367793317\n",
      "Cosine: -0.7104564726357365\n",
      "w(x) = 5-x: 0.8297657822849425\n",
      "Log: -0.9725637355436747\n",
      "Discrete: 34.458144533325516\n",
      "w(x) = log(5+x): -1.0530638737098514\n",
      "Discrete 3: -0.00017205722175338278\n"
     ]
    },
    {
     "name": "stderr",
     "output_type": "stream",
     "text": [
      "<ipython-input-16-35d73dd98d36>:51: IntegrationWarning: The maximum number of subdivisions (50) has been achieved.\n",
      "  If increasing the limit yields no improvement it is advised to analyze \n",
      "  the integrand in order to determine the difficulties.  If the position of a \n",
      "  local difficulty can be determined (singularity, discontinuity) one will \n",
      "  probably gain from splitting up the interval and calling the integrator \n",
      "  on the subranges.  Perhaps a special-purpose integrator should be used.\n",
      "  bk = quad(self._btop, self.a, self.b, args=(_phi0))[0]/quad(self.weight, self.a, self.b)[0]\n",
      "<ipython-input-16-35d73dd98d36>:70: IntegrationWarning: The maximum number of subdivisions (50) has been achieved.\n",
      "  If increasing the limit yields no improvement it is advised to analyze \n",
      "  the integrand in order to determine the difficulties.  If the position of a \n",
      "  local difficulty can be determined (singularity, discontinuity) one will \n",
      "  probably gain from splitting up the interval and calling the integrator \n",
      "  on the subranges.  Perhaps a special-purpose integrator should be used.\n",
      "  cktom = quad(self._btom, self.a, self.b, args=(phis2))[0]\n",
      "<ipython-input-16-35d73dd98d36>:66: IntegrationWarning: The maximum number of subdivisions (50) has been achieved.\n",
      "  If increasing the limit yields no improvement it is advised to analyze \n",
      "  the integrand in order to determine the difficulties.  If the position of a \n",
      "  local difficulty can be determined (singularity, discontinuity) one will \n",
      "  probably gain from splitting up the interval and calling the integrator \n",
      "  on the subranges.  Perhaps a special-purpose integrator should be used.\n",
      "  bktom = quad(self._btom, self.a, self.b, args=(phis1))[0]\n",
      "<ipython-input-16-35d73dd98d36>:190: IntegrationWarning: The maximum number of subdivisions (50) has been achieved.\n",
      "  If increasing the limit yields no improvement it is advised to analyze \n",
      "  the integrand in order to determine the difficulties.  If the position of a \n",
      "  local difficulty can be determined (singularity, discontinuity) one will \n",
      "  probably gain from splitting up the interval and calling the integrator \n",
      "  on the subranges.  Perhaps a special-purpose integrator should be used.\n",
      "  RHS = np.array([quad(lambda x: p(x)*self.weight(x), self.a, self.b)[0] for p in polyFuns[:self.order]])\n"
     ]
    }
   ],
   "source": [
    "for i in range(len(WList)-1):\n",
    "    GQbadz = Quadrature(badzero, 3, WList[i], -1, 1)\n",
    "    #GQfex1.print_roots()    \n",
    "    #true_badz = quad(lambda x: badzero(x)*WList[i](x), -1, 1)[0]\n",
    "    print(WListNames[i] + ': ' + str(GQbadz.value))\n",
    "    #print(WListNames[i] + ': ' + str(abs(GQbadz.value-true_badz)))"
   ]
  },
  {
   "cell_type": "code",
   "execution_count": 44,
   "metadata": {},
   "outputs": [
    {
     "name": "stdout",
     "output_type": "stream",
     "text": [
      "Tchebyshev: 0.0\n",
      "Legendre: 1.1102230246251565e-16\n",
      "Absolute Value: 5.551115123125783e-17\n",
      "Exponential: 0.0\n",
      "Square: 0.0\n",
      "Sine: 2.7755575615628914e-17\n",
      "Cosine: 0.0\n",
      "w(x) = 5-x: 2.220446049250313e-16\n",
      "Log: 4.163336342344337e-16\n",
      "Discrete: 5.551115123125783e-16\n",
      "w(x) = log(5+x): 2.7755575615628914e-16\n",
      "Discrete 3: 0.0\n",
      "Discrete 4: 0.0\n"
     ]
    },
    {
     "name": "stderr",
     "output_type": "stream",
     "text": [
      "<ipython-input-16-35d73dd98d36>:51: IntegrationWarning: The maximum number of subdivisions (50) has been achieved.\n",
      "  If increasing the limit yields no improvement it is advised to analyze \n",
      "  the integrand in order to determine the difficulties.  If the position of a \n",
      "  local difficulty can be determined (singularity, discontinuity) one will \n",
      "  probably gain from splitting up the interval and calling the integrator \n",
      "  on the subranges.  Perhaps a special-purpose integrator should be used.\n",
      "  bk = quad(self._btop, self.a, self.b, args=(_phi0))[0]/quad(self.weight, self.a, self.b)[0]\n",
      "<ipython-input-16-35d73dd98d36>:70: IntegrationWarning: The maximum number of subdivisions (50) has been achieved.\n",
      "  If increasing the limit yields no improvement it is advised to analyze \n",
      "  the integrand in order to determine the difficulties.  If the position of a \n",
      "  local difficulty can be determined (singularity, discontinuity) one will \n",
      "  probably gain from splitting up the interval and calling the integrator \n",
      "  on the subranges.  Perhaps a special-purpose integrator should be used.\n",
      "  cktom = quad(self._btom, self.a, self.b, args=(phis2))[0]\n",
      "<ipython-input-16-35d73dd98d36>:66: IntegrationWarning: The maximum number of subdivisions (50) has been achieved.\n",
      "  If increasing the limit yields no improvement it is advised to analyze \n",
      "  the integrand in order to determine the difficulties.  If the position of a \n",
      "  local difficulty can be determined (singularity, discontinuity) one will \n",
      "  probably gain from splitting up the interval and calling the integrator \n",
      "  on the subranges.  Perhaps a special-purpose integrator should be used.\n",
      "  bktom = quad(self._btom, self.a, self.b, args=(phis1))[0]\n",
      "<ipython-input-16-35d73dd98d36>:190: IntegrationWarning: The maximum number of subdivisions (50) has been achieved.\n",
      "  If increasing the limit yields no improvement it is advised to analyze \n",
      "  the integrand in order to determine the difficulties.  If the position of a \n",
      "  local difficulty can be determined (singularity, discontinuity) one will \n",
      "  probably gain from splitting up the interval and calling the integrator \n",
      "  on the subranges.  Perhaps a special-purpose integrator should be used.\n",
      "  RHS = np.array([quad(lambda x: p(x)*self.weight(x), self.a, self.b)[0] for p in polyFuns[:self.order]])\n",
      "<ipython-input-16-35d73dd98d36>:69: IntegrationWarning: The maximum number of subdivisions (50) has been achieved.\n",
      "  If increasing the limit yields no improvement it is advised to analyze \n",
      "  the integrand in order to determine the difficulties.  If the position of a \n",
      "  local difficulty can be determined (singularity, discontinuity) one will \n",
      "  probably gain from splitting up the interval and calling the integrator \n",
      "  on the subranges.  Perhaps a special-purpose integrator should be used.\n",
      "  cktop = quad(self._ctop, self.a, self.b, args=(phis1, phis2))[0]\n",
      "<ipython-input-16-35d73dd98d36>:190: IntegrationWarning: The integral is probably divergent, or slowly convergent.\n",
      "  RHS = np.array([quad(lambda x: p(x)*self.weight(x), self.a, self.b)[0] for p in polyFuns[:self.order]])\n"
     ]
    }
   ],
   "source": [
    "for i in range(len(WList)):\n",
    "    GQfex5 = Quadrature(fex5, 3, WList[i], -1, 1)\n",
    "    #GQfex1.print_roots()    \n",
    "    true_fex5 = quad(lambda x: fex5(x)*WList[i](x), -1, 1)[0]\n",
    "    print(WListNames[i] + ': ' + str(abs(GQfex5.value-true_fex5)))"
   ]
  },
  {
   "cell_type": "code",
   "execution_count": 68,
   "metadata": {},
   "outputs": [
    {
     "data": {
      "text/plain": [
       "nan"
      ]
     },
     "execution_count": 68,
     "metadata": {},
     "output_type": "execute_result"
    }
   ],
   "source": [
    "GQflat.value"
   ]
  },
  {
   "cell_type": "code",
   "execution_count": 67,
   "metadata": {},
   "outputs": [
    {
     "name": "stdout",
     "output_type": "stream",
     "text": [
      "Tchebyshev: 0.002617012305580868\n",
      "Legendre: 0.0011107778253927059\n",
      "Absolute Value: 0.0008330555996431954\n",
      "Exponential: 0.0014643474649060906\n",
      "Square: 0.0006664286119170137\n",
      "Sine: 0.0005232879794165868\n",
      "Cosine: 0.0005874898471092127\n",
      "w(x) = 5-x: 0.00555388912743382\n",
      "Log: 0.0025543163571155603\n",
      "Discrete: 0.0016662500495954191\n",
      "w(x) = log(5+x): 0.0017742049215589972\n",
      "Discrete 3: 0.0003009746372417965\n",
      "Discrete 4: nan\n"
     ]
    },
    {
     "name": "stderr",
     "output_type": "stream",
     "text": [
      "<ipython-input-16-35d73dd98d36>:51: IntegrationWarning: The maximum number of subdivisions (50) has been achieved.\n",
      "  If increasing the limit yields no improvement it is advised to analyze \n",
      "  the integrand in order to determine the difficulties.  If the position of a \n",
      "  local difficulty can be determined (singularity, discontinuity) one will \n",
      "  probably gain from splitting up the interval and calling the integrator \n",
      "  on the subranges.  Perhaps a special-purpose integrator should be used.\n",
      "  bk = quad(self._btop, self.a, self.b, args=(_phi0))[0]/quad(self.weight, self.a, self.b)[0]\n",
      "<ipython-input-16-35d73dd98d36>:70: IntegrationWarning: The maximum number of subdivisions (50) has been achieved.\n",
      "  If increasing the limit yields no improvement it is advised to analyze \n",
      "  the integrand in order to determine the difficulties.  If the position of a \n",
      "  local difficulty can be determined (singularity, discontinuity) one will \n",
      "  probably gain from splitting up the interval and calling the integrator \n",
      "  on the subranges.  Perhaps a special-purpose integrator should be used.\n",
      "  cktom = quad(self._btom, self.a, self.b, args=(phis2))[0]\n",
      "<ipython-input-16-35d73dd98d36>:66: IntegrationWarning: The maximum number of subdivisions (50) has been achieved.\n",
      "  If increasing the limit yields no improvement it is advised to analyze \n",
      "  the integrand in order to determine the difficulties.  If the position of a \n",
      "  local difficulty can be determined (singularity, discontinuity) one will \n",
      "  probably gain from splitting up the interval and calling the integrator \n",
      "  on the subranges.  Perhaps a special-purpose integrator should be used.\n",
      "  bktom = quad(self._btom, self.a, self.b, args=(phis1))[0]\n",
      "<ipython-input-16-35d73dd98d36>:190: IntegrationWarning: The maximum number of subdivisions (50) has been achieved.\n",
      "  If increasing the limit yields no improvement it is advised to analyze \n",
      "  the integrand in order to determine the difficulties.  If the position of a \n",
      "  local difficulty can be determined (singularity, discontinuity) one will \n",
      "  probably gain from splitting up the interval and calling the integrator \n",
      "  on the subranges.  Perhaps a special-purpose integrator should be used.\n",
      "  RHS = np.array([quad(lambda x: p(x)*self.weight(x), self.a, self.b)[0] for p in polyFuns[:self.order]])\n",
      "<ipython-input-67-c3d3313eac03>:4: IntegrationWarning: The maximum number of subdivisions (50) has been achieved.\n",
      "  If increasing the limit yields no improvement it is advised to analyze \n",
      "  the integrand in order to determine the difficulties.  If the position of a \n",
      "  local difficulty can be determined (singularity, discontinuity) one will \n",
      "  probably gain from splitting up the interval and calling the integrator \n",
      "  on the subranges.  Perhaps a special-purpose integrator should be used.\n",
      "  true_flat = quad(lambda x: flat(x)*WList[i](x), -1, 1)[0]\n",
      "<ipython-input-16-35d73dd98d36>:69: IntegrationWarning: The maximum number of subdivisions (50) has been achieved.\n",
      "  If increasing the limit yields no improvement it is advised to analyze \n",
      "  the integrand in order to determine the difficulties.  If the position of a \n",
      "  local difficulty can be determined (singularity, discontinuity) one will \n",
      "  probably gain from splitting up the interval and calling the integrator \n",
      "  on the subranges.  Perhaps a special-purpose integrator should be used.\n",
      "  cktop = quad(self._ctop, self.a, self.b, args=(phis1, phis2))[0]\n",
      "<ipython-input-16-35d73dd98d36>:190: IntegrationWarning: The integral is probably divergent, or slowly convergent.\n",
      "  RHS = np.array([quad(lambda x: p(x)*self.weight(x), self.a, self.b)[0] for p in polyFuns[:self.order]])\n",
      "<ipython-input-60-56b64bb94198>:19: RuntimeWarning: invalid value encountered in double_scalars\n",
      "  return 10*np.sin(x/10)/x\n"
     ]
    }
   ],
   "source": [
    "for i in range(len(WList)):\n",
    "    GQflat = Quadrature(toughfun, 3, WList[i], -1, 1)\n",
    "    #GQfex1.print_roots()    \n",
    "    true_flat = quad(lambda x: flat(x)*WList[i](x), -1, 1)[0]\n",
    "    print(WListNames[i] + ': ' + str(abs(GQflat.value-true_flat)))"
   ]
  },
  {
   "cell_type": "code",
   "execution_count": 57,
   "metadata": {},
   "outputs": [
    {
     "name": "stdout",
     "output_type": "stream",
     "text": [
      "Tchebyshev: 9.687733963094772e-14\n",
      "Legendre: 2.7755575615628914e-16\n",
      "Absolute Value: 0.0\n",
      "Exponential: 0.0\n",
      "Square: 3.885780586188048e-16\n",
      "Sine: 3.797782004585998e-16\n",
      "Cosine: 1.5355861532546508e-16\n",
      "w(x) = 5-x: 6.661338147750938e-16\n",
      "Log: 3.621867670210164e-16\n",
      "Discrete: 2.2204460492503135e-15\n",
      "w(x) = log(5+x): 3.480486618603456e-16\n",
      "Discrete 3: 7.62497193410449e-15\n",
      "Discrete 4: 8.048257711006712e-07\n"
     ]
    },
    {
     "name": "stderr",
     "output_type": "stream",
     "text": [
      "<ipython-input-16-35d73dd98d36>:51: IntegrationWarning: The maximum number of subdivisions (50) has been achieved.\n",
      "  If increasing the limit yields no improvement it is advised to analyze \n",
      "  the integrand in order to determine the difficulties.  If the position of a \n",
      "  local difficulty can be determined (singularity, discontinuity) one will \n",
      "  probably gain from splitting up the interval and calling the integrator \n",
      "  on the subranges.  Perhaps a special-purpose integrator should be used.\n",
      "  bk = quad(self._btop, self.a, self.b, args=(_phi0))[0]/quad(self.weight, self.a, self.b)[0]\n",
      "<ipython-input-16-35d73dd98d36>:70: IntegrationWarning: The maximum number of subdivisions (50) has been achieved.\n",
      "  If increasing the limit yields no improvement it is advised to analyze \n",
      "  the integrand in order to determine the difficulties.  If the position of a \n",
      "  local difficulty can be determined (singularity, discontinuity) one will \n",
      "  probably gain from splitting up the interval and calling the integrator \n",
      "  on the subranges.  Perhaps a special-purpose integrator should be used.\n",
      "  cktom = quad(self._btom, self.a, self.b, args=(phis2))[0]\n",
      "<ipython-input-16-35d73dd98d36>:66: IntegrationWarning: The maximum number of subdivisions (50) has been achieved.\n",
      "  If increasing the limit yields no improvement it is advised to analyze \n",
      "  the integrand in order to determine the difficulties.  If the position of a \n",
      "  local difficulty can be determined (singularity, discontinuity) one will \n",
      "  probably gain from splitting up the interval and calling the integrator \n",
      "  on the subranges.  Perhaps a special-purpose integrator should be used.\n",
      "  bktom = quad(self._btom, self.a, self.b, args=(phis1))[0]\n",
      "<ipython-input-16-35d73dd98d36>:190: IntegrationWarning: The maximum number of subdivisions (50) has been achieved.\n",
      "  If increasing the limit yields no improvement it is advised to analyze \n",
      "  the integrand in order to determine the difficulties.  If the position of a \n",
      "  local difficulty can be determined (singularity, discontinuity) one will \n",
      "  probably gain from splitting up the interval and calling the integrator \n",
      "  on the subranges.  Perhaps a special-purpose integrator should be used.\n",
      "  RHS = np.array([quad(lambda x: p(x)*self.weight(x), self.a, self.b)[0] for p in polyFuns[:self.order]])\n",
      "<ipython-input-16-35d73dd98d36>:69: IntegrationWarning: The maximum number of subdivisions (50) has been achieved.\n",
      "  If increasing the limit yields no improvement it is advised to analyze \n",
      "  the integrand in order to determine the difficulties.  If the position of a \n",
      "  local difficulty can be determined (singularity, discontinuity) one will \n",
      "  probably gain from splitting up the interval and calling the integrator \n",
      "  on the subranges.  Perhaps a special-purpose integrator should be used.\n",
      "  cktop = quad(self._ctop, self.a, self.b, args=(phis1, phis2))[0]\n",
      "<ipython-input-16-35d73dd98d36>:190: IntegrationWarning: The integral is probably divergent, or slowly convergent.\n",
      "  RHS = np.array([quad(lambda x: p(x)*self.weight(x), self.a, self.b)[0] for p in polyFuns[:self.order]])\n",
      "<ipython-input-57-b440b7540492>:4: IntegrationWarning: The maximum number of subdivisions (50) has been achieved.\n",
      "  If increasing the limit yields no improvement it is advised to analyze \n",
      "  the integrand in order to determine the difficulties.  If the position of a \n",
      "  local difficulty can be determined (singularity, discontinuity) one will \n",
      "  probably gain from splitting up the interval and calling the integrator \n",
      "  on the subranges.  Perhaps a special-purpose integrator should be used.\n",
      "  true_fex3 = quad(lambda x: fex3(x)*WList[i](x), -1, 1)[0]\n"
     ]
    }
   ],
   "source": [
    "for i in range(len(WList)):\n",
    "    GQfex3 = Quadrature(fex3, 3, WList[i], -1, 1)\n",
    "    #GQfex1.print_roots()    \n",
    "    true_fex3 = quad(lambda x: fex3(x)*WList[i](x), -1, 1)[0]\n",
    "    print(WListNames[i] +  ': ' + str(abs(GQfex3.value-true_fex3)/abs(true_fex3)))"
   ]
  },
  {
   "cell_type": "code",
   "execution_count": 69,
   "metadata": {},
   "outputs": [
    {
     "name": "stdout",
     "output_type": "stream",
     "text": [
      "Tchebyshev: 0.22857142856903206\n",
      "Legendre: 0.3519999999999997\n",
      "Absolute Value: 0.2592592592592584\n",
      "Exponential: 0.2627015581737542\n",
      "Square: 0.19825072886297462\n",
      "Sine: 0.21500044172540256\n",
      "Cosine: 0.44842786480477725\n",
      "w(x) = 5-x: 0.34886126927366595\n",
      "Log: 0.3520286033269439\n",
      "Discrete: 0.499999999999998\n",
      "w(x) = log(5+x): 0.3517679932832609\n",
      "Discrete 3: 0.010837845918965704\n",
      "Discrete 4: 0.00010259233022283573\n"
     ]
    },
    {
     "name": "stderr",
     "output_type": "stream",
     "text": [
      "<ipython-input-16-35d73dd98d36>:51: IntegrationWarning: The maximum number of subdivisions (50) has been achieved.\n",
      "  If increasing the limit yields no improvement it is advised to analyze \n",
      "  the integrand in order to determine the difficulties.  If the position of a \n",
      "  local difficulty can be determined (singularity, discontinuity) one will \n",
      "  probably gain from splitting up the interval and calling the integrator \n",
      "  on the subranges.  Perhaps a special-purpose integrator should be used.\n",
      "  bk = quad(self._btop, self.a, self.b, args=(_phi0))[0]/quad(self.weight, self.a, self.b)[0]\n",
      "<ipython-input-16-35d73dd98d36>:70: IntegrationWarning: The maximum number of subdivisions (50) has been achieved.\n",
      "  If increasing the limit yields no improvement it is advised to analyze \n",
      "  the integrand in order to determine the difficulties.  If the position of a \n",
      "  local difficulty can be determined (singularity, discontinuity) one will \n",
      "  probably gain from splitting up the interval and calling the integrator \n",
      "  on the subranges.  Perhaps a special-purpose integrator should be used.\n",
      "  cktom = quad(self._btom, self.a, self.b, args=(phis2))[0]\n",
      "<ipython-input-16-35d73dd98d36>:66: IntegrationWarning: The maximum number of subdivisions (50) has been achieved.\n",
      "  If increasing the limit yields no improvement it is advised to analyze \n",
      "  the integrand in order to determine the difficulties.  If the position of a \n",
      "  local difficulty can be determined (singularity, discontinuity) one will \n",
      "  probably gain from splitting up the interval and calling the integrator \n",
      "  on the subranges.  Perhaps a special-purpose integrator should be used.\n",
      "  bktom = quad(self._btom, self.a, self.b, args=(phis1))[0]\n",
      "<ipython-input-16-35d73dd98d36>:190: IntegrationWarning: The maximum number of subdivisions (50) has been achieved.\n",
      "  If increasing the limit yields no improvement it is advised to analyze \n",
      "  the integrand in order to determine the difficulties.  If the position of a \n",
      "  local difficulty can be determined (singularity, discontinuity) one will \n",
      "  probably gain from splitting up the interval and calling the integrator \n",
      "  on the subranges.  Perhaps a special-purpose integrator should be used.\n",
      "  RHS = np.array([quad(lambda x: p(x)*self.weight(x), self.a, self.b)[0] for p in polyFuns[:self.order]])\n",
      "<ipython-input-16-35d73dd98d36>:69: IntegrationWarning: The maximum number of subdivisions (50) has been achieved.\n",
      "  If increasing the limit yields no improvement it is advised to analyze \n",
      "  the integrand in order to determine the difficulties.  If the position of a \n",
      "  local difficulty can be determined (singularity, discontinuity) one will \n",
      "  probably gain from splitting up the interval and calling the integrator \n",
      "  on the subranges.  Perhaps a special-purpose integrator should be used.\n",
      "  cktop = quad(self._ctop, self.a, self.b, args=(phis1, phis2))[0]\n",
      "<ipython-input-16-35d73dd98d36>:190: IntegrationWarning: The integral is probably divergent, or slowly convergent.\n",
      "  RHS = np.array([quad(lambda x: p(x)*self.weight(x), self.a, self.b)[0] for p in polyFuns[:self.order]])\n",
      "<ipython-input-69-aa5a4ef0d267>:4: IntegrationWarning: The maximum number of subdivisions (50) has been achieved.\n",
      "  If increasing the limit yields no improvement it is advised to analyze \n",
      "  the integrand in order to determine the difficulties.  If the position of a \n",
      "  local difficulty can be determined (singularity, discontinuity) one will \n",
      "  probably gain from splitting up the interval and calling the integrator \n",
      "  on the subranges.  Perhaps a special-purpose integrator should be used.\n",
      "  true_fex4 = quad(lambda x: fex4(x)*WList[i](x), -1, 1)[0]\n"
     ]
    }
   ],
   "source": [
    "for i in range(len(WList)):\n",
    "    GQfex4 = Quadrature(fex4, 3, WList[i], -1, 1)\n",
    "    #GQfex1.print_roots()    \n",
    "    true_fex4 = quad(lambda x: fex4(x)*WList[i](x), -1, 1)[0]\n",
    "    print(WListNames[i] + ': ' + str(abs(GQfex4.value-true_fex4)/abs(true_fex4)))"
   ]
  },
  {
   "cell_type": "code",
   "execution_count": 24,
   "metadata": {},
   "outputs": [
    {
     "name": "stdout",
     "output_type": "stream",
     "text": [
      "Tchebyshev: 2.643672914569979e-05\n",
      "Legendre: 1.6047683589465945e-05\n",
      "$w(x) = x^8$: 1.5118684473846595e-05\n"
     ]
    }
   ],
   "source": [
    "WListNames = ['Tchebyshev', 'Legendre', r'$w(x) = x^8$']\n",
    "\n",
    "T1 = Quadrature(fex1, 3, Tchbshv, -1, 1)\n",
    "L1 = Quadrature(fex1, 3, Legendre, -1, 1)\n",
    "Sq81 = Quadrature(fex1, 3, sq8W, -1, 1)\n",
    "\n",
    "for i in range(len(WListNames)):\n",
    "    true_fex1 = quad(lambda x: fex1(x)*[Tchbshv, Legendre, sq8W][i](x), -1, 1)[0]\n",
    "    print(WListNames[i] + ': ' + str(abs([T1.value, L1.value, Sq81.value][i]-true_fex1)/abs(true_fex1)))"
   ]
  },
  {
   "cell_type": "code",
   "execution_count": 25,
   "metadata": {},
   "outputs": [
    {
     "data": {
      "image/png": "[encoded data removed]",
      "text/plain": [
       "<Figure size 2000x400 with 3 Axes>"
      ]
     },
     "metadata": {
      "needs_background": "light"
     },
     "output_type": "display_data"
    }
   ],
   "source": [
    "xs = np.linspace(-1, 1, 100)\n",
    "fig = plt.figure(figsize = (10, 2), dpi = 200)\n",
    "#______ Chebyshev\n",
    "true_fex1 = quad(lambda x: fex1(x)*Tchbshv(x), -1, 1)[0]\n",
    "\n",
    "ax1 = fig.add_subplot(131)\n",
    "yarr = [T1.f(j) for j in xs]\n",
    "ax1.plot(xs, yarr)\n",
    "for r in T1.nodes:\n",
    "    ax1.vlines(r, -0.5, T1.f(r), color = 'red', linestyle = '--')\n",
    "ax1.set_ylabel(r'$e^x\\cos(x)$')\n",
    "ax1.set_title(r'Chebyshev ($e = $' + str(round(abs(T1.value-true_fex1)/abs(true_fex1), 5)) +')')\n",
    "ax1.grid()\n",
    "\n",
    "#______ Legendre\n",
    "true_fex1 = quad(lambda x: fex1(x)*Legendre(x), -1, 1)[0]\n",
    "\n",
    "ax2 = fig.add_subplot(132)\n",
    "yarr = [L1.f(j) for j in xs]\n",
    "ax2.plot(xs, yarr)\n",
    "for r in L1.nodes:\n",
    "    ax2.vlines(r, -0.5, L1.f(r), color = 'red', linestyle = '--')\n",
    "ax2.set_title(r'Legendre ($e = $' + str(round(abs(L1.value-true_fex1)/abs(true_fex1), 5)) + ')')\n",
    "ax2.grid()\n",
    "\n",
    "#______ w(x) = x^8\n",
    "true_fex1 = quad(lambda x: fex1(x)*sq8W(x), -1, 1)[0]\n",
    "\n",
    "ax3 = fig.add_subplot(133)\n",
    "yarr = [Sq81.f(j) for j in xs]\n",
    "ax3.plot(xs, yarr)\n",
    "for r in Sq81.nodes:\n",
    "    ax3.vlines(r, -0.5, Sq81.f(r), color = 'red', linestyle = '--')\n",
    "ax3.set_title(r'$w(x) = x^8$ ($e = $' + str(round(abs(Sq81.value-true_fex1)/abs(true_fex1), 5)) + ')')\n",
    "ax3.grid()\n",
    "plt.savefig('3graph.png')\n",
    "plt.show()"
   ]
  },
  {
   "cell_type": "code",
   "execution_count": 76,
   "metadata": {},
   "outputs": [
    {
     "data": {
      "text/plain": [
       "[-0.7745966692414834, -9.108981119650456e-31, 0.7745966692414834]"
      ]
     },
     "execution_count": 76,
     "metadata": {},
     "output_type": "execute_result"
    }
   ],
   "source": [
    "L1.nodes"
   ]
  },
  {
   "cell_type": "code",
   "execution_count": 77,
   "metadata": {},
   "outputs": [
    {
     "data": {
      "text/plain": [
       "[-0.9198662110078, -1.427103073308114e-30, 0.9198662110078]"
      ]
     },
     "execution_count": 77,
     "metadata": {},
     "output_type": "execute_result"
    }
   ],
   "source": [
    "Sq81.nodes"
   ]
  },
  {
   "cell_type": "code",
   "execution_count": 78,
   "metadata": {},
   "outputs": [
    {
     "data": {
      "text/plain": [
       "[-0.8660254037844537, -1.1156177909894302e-30, 0.8660254037844537]"
      ]
     },
     "execution_count": 78,
     "metadata": {},
     "output_type": "execute_result"
    }
   ],
   "source": [
    "T1.nodes"
   ]
  },
  {
   "cell_type": "code",
   "execution_count": 86,
   "metadata": {},
   "outputs": [
    {
     "data": {
      "image/png": "[encoded data removed]",
      "text/plain": [
       "<Figure size 2000x400 with 1 Axes>"
      ]
     },
     "metadata": {
      "needs_background": "light"
     },
     "output_type": "display_data"
    }
   ],
   "source": [
    "xs = np.linspace(-1, 1, 1000)\n",
    "fig = plt.figure(figsize = (10, 2), dpi = 200)\n",
    "ax = fig.add_subplot()\n",
    "yarr = [badzero(j) for j in xs]\n",
    "ax.plot(xs, yarr)\n",
    "ax.set_title(r'Plot of $f(x) = sin(\\frac{1}{x})$')\n",
    "ax.grid()\n",
    "ax.set_ylabel('y')\n",
    "ax.set_xlabel('x')\n",
    "plt.savefig('sine1overx.png')\n",
    "plt.show()"
   ]
  },
  {
   "cell_type": "code",
   "execution_count": null,
   "metadata": {},
   "outputs": [],
   "source": []
  }
 ],
 "metadata": {
  "kernelspec": {
   "display_name": "Python 3",
   "language": "python",
   "name": "python3"
  },
  "language_info": {
   "codemirror_mode": {
    "name": "ipython",
    "version": 3
   },
   "file_extension": ".py",
   "mimetype": "text/x-python",
   "name": "python",
   "nbconvert_exporter": "python",
   "pygments_lexer": "ipython3",
   "version": "3.8.5"
  }
 },
 "nbformat": 4,
 "nbformat_minor": 4
}
