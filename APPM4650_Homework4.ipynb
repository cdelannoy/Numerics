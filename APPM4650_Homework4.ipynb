{
 "cells": [
  {
   "cell_type": "markdown",
   "metadata": {},
   "source": [
    "Constance Delannoy\n",
    "\n",
    "APPM 4650 | Homework 4\n",
    "\n",
    "July 8, 2020"
   ]
  },
  {
   "cell_type": "code",
   "execution_count": 1,
   "metadata": {},
   "outputs": [
    {
     "data": {
      "text/html": [
       "<script>\n",
       "code_show=true; \n",
       "function code_toggle() {\n",
       " if (code_show){\n",
       " $('div.input').hide();\n",
       " } else {\n",
       " $('div.input').show();\n",
       " }\n",
       " code_show = !code_show\n",
       "} \n",
       "$( document ).ready(code_toggle);\n",
       "</script>\n",
       "<form action=\"javascript:code_toggle()\"><input type=\"submit\" value=\"The raw code is by default hidden for easier reading.\"></form>"
      ],
      "text/plain": [
       "<IPython.core.display.HTML object>"
      ]
     },
     "execution_count": 1,
     "metadata": {},
     "output_type": "execute_result"
    }
   ],
   "source": [
    "from IPython.display import HTML\n",
    "import numpy as np\n",
    "import pandas as pd\n",
    "import math\n",
    "from matplotlib import pyplot as plt\n",
    "\n",
    "HTML('''<script>\n",
    "code_show=true; \n",
    "function code_toggle() {\n",
    " if (code_show){\n",
    " $('div.input').hide();\n",
    " } else {\n",
    " $('div.input').show();\n",
    " }\n",
    " code_show = !code_show\n",
    "} \n",
    "$( document ).ready(code_toggle);\n",
    "</script>\n",
    "<form action=\"javascript:code_toggle()\"><input type=\"submit\" value=\"The raw code is by default hidden for easier reading.\"></form>''')"
   ]
  },
  {
   "cell_type": "markdown",
   "metadata": {},
   "source": [
    "__Question 1__\n",
    "\n",
    "We have $\\int_0^1 f(x)dx = af(\\frac{1}{3}) + bf(\\frac{2}{3})$\n",
    "\n",
    "Using the direct method, we now get:\n",
    "\n",
    "$\\int_{0}^1 1dx = x \\rvert_{0}^1 = 1 \\rightarrow a+b = 1$\n",
    "\n",
    "$\\int_{0}^1 xdt = \\frac{x^2}{2} \\rvert_{0}^1 = \\frac{1}{2} \\rightarrow \\frac{a}{3} + \\frac{2b}{3} = \\frac{1}{2}$\n",
    "\n",
    "Thus: $a=\\frac{1}{2}$ and $b=\\frac{1}{2}$ so that:\n",
    "\n",
    "$\\int_0^1 f(x)dx = \\frac{1}{2}f(\\frac{1}{3}) - \\frac{1}{2}f(\\frac{2}{3})$"
   ]
  },
  {
   "cell_type": "markdown",
   "metadata": {
    "collapsed": true
   },
   "source": [
    "__Question 2__"
   ]
  },
  {
   "cell_type": "code",
   "execution_count": 2,
   "metadata": {
    "collapsed": true
   },
   "outputs": [],
   "source": [
    "def rk4(f1, f2, f1true, f2true, a, b, h):\n",
    "    \"applying RK-4 to system of coupled ODEs when we know the truth\"\n",
    "    \n",
    "    res = {'x':[0], 'y1_est':[1], 'y2_est': [1], 'y1_error': [0], 'y2_error':[0], 'y1_true': [1], 'y2_true': [1]}\n",
    "    steps = list(map(lambda x: x/10, range(0, 10, 2)))\n",
    "    \n",
    "    for t in steps:\n",
    "        \n",
    "        k11 = h*f1(t, a, b)\n",
    "        k12 = h*f2(t, a, b)\n",
    "        \n",
    "        k21 = h*f1(t + h/2, a + k11/2, b + k12/2)\n",
    "        k22 = h*f2(t + h/2, a + k11/2, b + k12/2)\n",
    "        \n",
    "        k31 = h*f1(t + h/2, a + k21/2, b + k22/2)\n",
    "        k32 = h*f2(t + h/2, a + k21/2, b + k22/2)\n",
    "        \n",
    "        k41 = h*f1(t + h, a + k31, b + k32)\n",
    "        k42 = h*f2(t + h, a + k31, b + k32)\n",
    "        \n",
    "        f1_est = a + (1/6)*(k11 + 2*k21 + 2*k31 + k41)\n",
    "        f2_est = b + (1/6)*(k12 + 2*k22 + 2*k32 + k42)\n",
    "        \n",
    "        f1_true = f1true(t+h)\n",
    "        f2_true = f2true(t+h)\n",
    "        \n",
    "        f1_err = abs(f1_true - f1_est)\n",
    "        f2_err = abs(f2_true - f2_est)\n",
    "        \n",
    "        res['x'].append(t+h)\n",
    "        res['y1_est'].append(f1_est)\n",
    "        res['y2_est'].append(f2_est)\n",
    "        res['y1_error'].append(f1_err)\n",
    "        res['y2_error'].append(f2_err)\n",
    "        res['y1_true'].append(f1_true)\n",
    "        res['y2_true'].append(f2_true)\n",
    "        \n",
    "        a = f1_est\n",
    "        b = f2_est\n",
    "        \n",
    "    return res"
   ]
  },
  {
   "cell_type": "code",
   "execution_count": 3,
   "metadata": {
    "collapsed": true
   },
   "outputs": [],
   "source": [
    "def fun1(t, a, b):\n",
    "    \"this is u'1 in the homework\"\n",
    "\n",
    "    y = 3*a + 2*b - (2*t**2 + 1)*math.exp(2*t)\n",
    "    \n",
    "    return y\n",
    "\n",
    "def fun2(t, a, b):\n",
    "    \"this is u'2 in the homework\"\n",
    "    \n",
    "    y = 4*a + b + (t**2 + 2*t - 4)*math.exp(2*t)\n",
    "    \n",
    "    return y\n",
    "\n",
    "def fun1_true(t):\n",
    "    \"this is u1(t) in the homework\"\n",
    "    \n",
    "    y = (1/3)*math.exp(5*t) - (1/3)*math.exp(-t) + math.exp(2*t)\n",
    "    \n",
    "    return y\n",
    "\n",
    "def fun2_true(t):\n",
    "    \"this is u2(t) in the homework\"\n",
    "    \n",
    "    y = (1/3)*math.exp(5*t) + (2/3)*math.exp(-t) + (t**2)*math.exp(2*t)\n",
    "    \n",
    "    return y"
   ]
  },
  {
   "cell_type": "markdown",
   "metadata": {},
   "source": [
    "To compare results, we produce a table below of the real and estimated values as well as the error. \n",
    "We notice that the errors grows with each iteration, a product of compounded uncertainty as we extrapolate further from the truth we know (the initial conditions)."
   ]
  },
  {
   "cell_type": "code",
   "execution_count": 4,
   "metadata": {},
   "outputs": [
    {
     "data": {
      "text/html": [
       "<div>\n",
       "<style>\n",
       "    .dataframe thead tr:only-child th {\n",
       "        text-align: right;\n",
       "    }\n",
       "\n",
       "    .dataframe thead th {\n",
       "        text-align: left;\n",
       "    }\n",
       "\n",
       "    .dataframe tbody tr th {\n",
       "        vertical-align: top;\n",
       "    }\n",
       "</style>\n",
       "<table border=\"1\" class=\"dataframe\">\n",
       "  <thead>\n",
       "    <tr style=\"text-align: right;\">\n",
       "      <th></th>\n",
       "      <th>x</th>\n",
       "      <th>y1_error</th>\n",
       "      <th>y1_est</th>\n",
       "      <th>y1_true</th>\n",
       "      <th>y2_error</th>\n",
       "      <th>y2_est</th>\n",
       "      <th>y2_true</th>\n",
       "    </tr>\n",
       "  </thead>\n",
       "  <tbody>\n",
       "    <tr>\n",
       "      <th>0</th>\n",
       "      <td>0.0</td>\n",
       "      <td>0.000000</td>\n",
       "      <td>1.000000</td>\n",
       "      <td>1.000000</td>\n",
       "      <td>0.000000</td>\n",
       "      <td>1.000000</td>\n",
       "      <td>1.000000</td>\n",
       "    </tr>\n",
       "    <tr>\n",
       "      <th>1</th>\n",
       "      <td>0.2</td>\n",
       "      <td>0.004643</td>\n",
       "      <td>2.120366</td>\n",
       "      <td>2.125008</td>\n",
       "      <td>0.004596</td>\n",
       "      <td>1.506992</td>\n",
       "      <td>1.511587</td>\n",
       "    </tr>\n",
       "    <tr>\n",
       "      <th>2</th>\n",
       "      <td>0.4</td>\n",
       "      <td>0.023892</td>\n",
       "      <td>4.441228</td>\n",
       "      <td>4.465120</td>\n",
       "      <td>0.023745</td>\n",
       "      <td>3.242240</td>\n",
       "      <td>3.265985</td>\n",
       "    </tr>\n",
       "    <tr>\n",
       "      <th>3</th>\n",
       "      <td>0.6</td>\n",
       "      <td>0.093225</td>\n",
       "      <td>9.739133</td>\n",
       "      <td>9.832359</td>\n",
       "      <td>0.092878</td>\n",
       "      <td>8.163417</td>\n",
       "      <td>8.256295</td>\n",
       "    </tr>\n",
       "    <tr>\n",
       "      <th>4</th>\n",
       "      <td>0.8</td>\n",
       "      <td>0.326080</td>\n",
       "      <td>22.676560</td>\n",
       "      <td>23.002639</td>\n",
       "      <td>0.325349</td>\n",
       "      <td>21.343528</td>\n",
       "      <td>21.668877</td>\n",
       "    </tr>\n",
       "    <tr>\n",
       "      <th>5</th>\n",
       "      <td>1.0</td>\n",
       "      <td>1.076302</td>\n",
       "      <td>55.661181</td>\n",
       "      <td>56.737483</td>\n",
       "      <td>1.074859</td>\n",
       "      <td>56.030503</td>\n",
       "      <td>57.105362</td>\n",
       "    </tr>\n",
       "  </tbody>\n",
       "</table>\n",
       "</div>"
      ],
      "text/plain": [
       "     x  y1_error     y1_est    y1_true  y2_error     y2_est    y2_true\n",
       "0  0.0  0.000000   1.000000   1.000000  0.000000   1.000000   1.000000\n",
       "1  0.2  0.004643   2.120366   2.125008  0.004596   1.506992   1.511587\n",
       "2  0.4  0.023892   4.441228   4.465120  0.023745   3.242240   3.265985\n",
       "3  0.6  0.093225   9.739133   9.832359  0.092878   8.163417   8.256295\n",
       "4  0.8  0.326080  22.676560  23.002639  0.325349  21.343528  21.668877\n",
       "5  1.0  1.076302  55.661181  56.737483  1.074859  56.030503  57.105362"
      ]
     },
     "execution_count": 4,
     "metadata": {},
     "output_type": "execute_result"
    }
   ],
   "source": [
    "rk4_df = pd.DataFrame(rk4(fun1, fun2, fun1_true, fun2_true, 1, 1, 0.2))\n",
    "rk4_df"
   ]
  },
  {
   "cell_type": "markdown",
   "metadata": {},
   "source": [
    "The two graphs below illustrate the findings of the table. We notice that in both cases, the \"truth\" and the \"estimate\" line diverge as $x$ gets bigger."
   ]
  },
  {
   "cell_type": "code",
   "execution_count": 5,
   "metadata": {},
   "outputs": [
    {
     "data": {
      "image/png": "[encoded data removed]",
      "text/plain": [
       "<matplotlib.figure.Figure at 0x1115361d0>"
      ]
     },
     "metadata": {},
     "output_type": "display_data"
    }
   ],
   "source": [
    "x = rk4_df.x\n",
    "\n",
    "plt.plot(x, rk4_df.y1_est, label = \"Estimate of u1(t)\")\n",
    "plt.plot(x, rk4_df.y1_true, label = \"Truth\")\n",
    "\n",
    "plt.legend(loc='upper left')\n",
    "\n",
    "plt.xlabel(\"x\")\n",
    "plt.ylabel(\"y\")\n",
    "plt.title('Comparison of u1(t)')\n",
    "plt.show()"
   ]
  },
  {
   "cell_type": "code",
   "execution_count": 6,
   "metadata": {},
   "outputs": [
    {
     "data": {
      "image/png": "[encoded data removed]",
      "text/plain": [
       "<matplotlib.figure.Figure at 0x1154e0d68>"
      ]
     },
     "metadata": {},
     "output_type": "display_data"
    }
   ],
   "source": [
    "plt.plot(x, rk4_df.y2_est, label = \"Estimate of u2(t)\")\n",
    "plt.plot(x, rk4_df.y2_true, label = \"Truth\")\n",
    "\n",
    "plt.legend(loc='upper left')\n",
    "\n",
    "plt.xlabel(\"x\")\n",
    "plt.ylabel(\"y\")\n",
    "plt.title('Comparison of u2(t)')\n",
    "plt.show()"
   ]
  },
  {
   "cell_type": "markdown",
   "metadata": {},
   "source": [
    "__Question 3__\n",
    "\n",
    "(a) We start with Adams-Bashforth 2-point. Below is a table with results."
   ]
  },
  {
   "cell_type": "code",
   "execution_count": 7,
   "metadata": {
    "collapsed": true
   },
   "outputs": [],
   "source": [
    "def ab2(funs, x0, y0, x1, y1, N, h):\n",
    "    \"This is Adams-Bashforth 2-point method\"\n",
    "    \n",
    "    res = {'x':[x0, x1], 'y':[y0, y1]}\n",
    "\n",
    "    for i in N:\n",
    "        y2 = y1 + (3/2)*h*funs(x1, y1) - (h/2)*funs(x0,y0)\n",
    "        \n",
    "        res['x'].append(x1+h)\n",
    "        res['y'].append(y2)\n",
    "        \n",
    "        x0 = x1\n",
    "        y0 = y1\n",
    "        x1 = x1+h\n",
    "        y1 = y2\n",
    "        \n",
    "    return res\n",
    "\n",
    "def q3seed(x):\n",
    "    \"this is to get seed values based on homework Q3\"\n",
    "    \n",
    "    y = (x**2)/2\n",
    "    \n",
    "    return y\n",
    "\n",
    "def q3funs(x, y):\n",
    "    \"this is the ODE in Q3\"\n",
    "    \n",
    "    y_prime = x+y\n",
    "    \n",
    "    return y_prime"
   ]
  },
  {
   "cell_type": "code",
   "execution_count": 8,
   "metadata": {
    "collapsed": true
   },
   "outputs": [],
   "source": [
    "steps = range(4)\n",
    "\n",
    "#seed values for 2-point methods\n",
    "x_true0 = 0\n",
    "y_true0 = 0\n",
    "\n",
    "xseed1 = 0.1\n",
    "yseed1 = q3seed(xseed1)"
   ]
  },
  {
   "cell_type": "code",
   "execution_count": 9,
   "metadata": {},
   "outputs": [
    {
     "data": {
      "text/html": [
       "<div>\n",
       "<style>\n",
       "    .dataframe thead tr:only-child th {\n",
       "        text-align: right;\n",
       "    }\n",
       "\n",
       "    .dataframe thead th {\n",
       "        text-align: left;\n",
       "    }\n",
       "\n",
       "    .dataframe tbody tr th {\n",
       "        vertical-align: top;\n",
       "    }\n",
       "</style>\n",
       "<table border=\"1\" class=\"dataframe\">\n",
       "  <thead>\n",
       "    <tr style=\"text-align: right;\">\n",
       "      <th></th>\n",
       "      <th>x</th>\n",
       "      <th>y</th>\n",
       "    </tr>\n",
       "  </thead>\n",
       "  <tbody>\n",
       "    <tr>\n",
       "      <th>0</th>\n",
       "      <td>0.0</td>\n",
       "      <td>0.000000</td>\n",
       "    </tr>\n",
       "    <tr>\n",
       "      <th>1</th>\n",
       "      <td>0.1</td>\n",
       "      <td>0.005000</td>\n",
       "    </tr>\n",
       "    <tr>\n",
       "      <th>2</th>\n",
       "      <td>0.2</td>\n",
       "      <td>0.020750</td>\n",
       "    </tr>\n",
       "    <tr>\n",
       "      <th>3</th>\n",
       "      <td>0.3</td>\n",
       "      <td>0.048613</td>\n",
       "    </tr>\n",
       "    <tr>\n",
       "      <th>4</th>\n",
       "      <td>0.4</td>\n",
       "      <td>0.089867</td>\n",
       "    </tr>\n",
       "    <tr>\n",
       "      <th>5</th>\n",
       "      <td>0.5</td>\n",
       "      <td>0.145916</td>\n",
       "    </tr>\n",
       "  </tbody>\n",
       "</table>\n",
       "</div>"
      ],
      "text/plain": [
       "     x         y\n",
       "0  0.0  0.000000\n",
       "1  0.1  0.005000\n",
       "2  0.2  0.020750\n",
       "3  0.3  0.048613\n",
       "4  0.4  0.089867\n",
       "5  0.5  0.145916"
      ]
     },
     "execution_count": 9,
     "metadata": {},
     "output_type": "execute_result"
    }
   ],
   "source": [
    "ab2_df = pd.DataFrame(ab2(q3funs, x_true0, y_true0, xseed1, yseed1, steps, 0.1))\n",
    "ab2_df"
   ]
  },
  {
   "cell_type": "markdown",
   "metadata": {},
   "source": [
    "(b) We now use Adams-Moulton 2-point to produce a similar table."
   ]
  },
  {
   "cell_type": "code",
   "execution_count": 10,
   "metadata": {},
   "outputs": [
    {
     "data": {
      "text/html": [
       "<div>\n",
       "<style>\n",
       "    .dataframe thead tr:only-child th {\n",
       "        text-align: right;\n",
       "    }\n",
       "\n",
       "    .dataframe thead th {\n",
       "        text-align: left;\n",
       "    }\n",
       "\n",
       "    .dataframe tbody tr th {\n",
       "        vertical-align: top;\n",
       "    }\n",
       "</style>\n",
       "<table border=\"1\" class=\"dataframe\">\n",
       "  <thead>\n",
       "    <tr style=\"text-align: right;\">\n",
       "      <th></th>\n",
       "      <th>x</th>\n",
       "      <th>y</th>\n",
       "    </tr>\n",
       "  </thead>\n",
       "  <tbody>\n",
       "    <tr>\n",
       "      <th>0</th>\n",
       "      <td>0.0</td>\n",
       "      <td>0.000000</td>\n",
       "    </tr>\n",
       "    <tr>\n",
       "      <th>1</th>\n",
       "      <td>0.1</td>\n",
       "      <td>0.005000</td>\n",
       "    </tr>\n",
       "    <tr>\n",
       "      <th>2</th>\n",
       "      <td>0.2</td>\n",
       "      <td>0.021217</td>\n",
       "    </tr>\n",
       "    <tr>\n",
       "      <th>3</th>\n",
       "      <td>0.3</td>\n",
       "      <td>0.049659</td>\n",
       "    </tr>\n",
       "    <tr>\n",
       "      <th>4</th>\n",
       "      <td>0.4</td>\n",
       "      <td>0.091610</td>\n",
       "    </tr>\n",
       "    <tr>\n",
       "      <th>5</th>\n",
       "      <td>0.5</td>\n",
       "      <td>0.148491</td>\n",
       "    </tr>\n",
       "  </tbody>\n",
       "</table>\n",
       "</div>"
      ],
      "text/plain": [
       "     x         y\n",
       "0  0.0  0.000000\n",
       "1  0.1  0.005000\n",
       "2  0.2  0.021217\n",
       "3  0.3  0.049659\n",
       "4  0.4  0.091610\n",
       "5  0.5  0.148491"
      ]
     },
     "execution_count": 10,
     "metadata": {},
     "output_type": "execute_result"
    }
   ],
   "source": [
    "def am2(x0, y0, x1, y1, steps, h):\n",
    "    \"This is Adams-Moulton 2-step method (implicit) specifically for Q3\"\n",
    "    \n",
    "    res = {'x':[x0, x1], 'y':[y0, y1]}\n",
    "    x2 = x1+h\n",
    "    \n",
    "    for i in steps:\n",
    "        \n",
    "        y2 = (12/(12-5*h))*(y1 + (5*h/12)*x2 + (h/12)*(8*(x1+y1) - (x0 + y0)))\n",
    "        \n",
    "        res['x'].append(x2)\n",
    "        res['y'].append(y2)\n",
    "        \n",
    "        x0 = x1\n",
    "        y0 = y1\n",
    "        x1 = x2\n",
    "        y1 = y2  \n",
    "        x2 = x2+h\n",
    "\n",
    "    return res\n",
    "\n",
    "am2_df = pd.DataFrame(am2(x_true0, y_true0, xseed1, yseed1, range(4), 0.1))\n",
    "am2_df"
   ]
  },
  {
   "cell_type": "markdown",
   "metadata": {},
   "source": [
    "(c) Finally, we use the Predictor-corrector method with Adams-Bashforth 4-point as predictor and Adams-Moulton 3-point as corrector."
   ]
  },
  {
   "cell_type": "code",
   "execution_count": 11,
   "metadata": {},
   "outputs": [
    {
     "data": {
      "text/html": [
       "<div>\n",
       "<style>\n",
       "    .dataframe thead tr:only-child th {\n",
       "        text-align: right;\n",
       "    }\n",
       "\n",
       "    .dataframe thead th {\n",
       "        text-align: left;\n",
       "    }\n",
       "\n",
       "    .dataframe tbody tr th {\n",
       "        vertical-align: top;\n",
       "    }\n",
       "</style>\n",
       "<table border=\"1\" class=\"dataframe\">\n",
       "  <thead>\n",
       "    <tr style=\"text-align: right;\">\n",
       "      <th></th>\n",
       "      <th>x</th>\n",
       "      <th>y</th>\n",
       "    </tr>\n",
       "  </thead>\n",
       "  <tbody>\n",
       "    <tr>\n",
       "      <th>0</th>\n",
       "      <td>0.0</td>\n",
       "      <td>0.000000</td>\n",
       "    </tr>\n",
       "    <tr>\n",
       "      <th>1</th>\n",
       "      <td>0.1</td>\n",
       "      <td>0.005000</td>\n",
       "    </tr>\n",
       "    <tr>\n",
       "      <th>2</th>\n",
       "      <td>0.2</td>\n",
       "      <td>0.020000</td>\n",
       "    </tr>\n",
       "    <tr>\n",
       "      <th>3</th>\n",
       "      <td>0.3</td>\n",
       "      <td>0.045000</td>\n",
       "    </tr>\n",
       "    <tr>\n",
       "      <th>4</th>\n",
       "      <td>0.4</td>\n",
       "      <td>0.086398</td>\n",
       "    </tr>\n",
       "    <tr>\n",
       "      <th>5</th>\n",
       "      <td>0.5</td>\n",
       "      <td>0.135548</td>\n",
       "    </tr>\n",
       "  </tbody>\n",
       "</table>\n",
       "</div>"
      ],
      "text/plain": [
       "     x         y\n",
       "0  0.0  0.000000\n",
       "1  0.1  0.005000\n",
       "2  0.2  0.020000\n",
       "3  0.3  0.045000\n",
       "4  0.4  0.086398\n",
       "5  0.5  0.135548"
      ]
     },
     "execution_count": 11,
     "metadata": {},
     "output_type": "execute_result"
    }
   ],
   "source": [
    "def predcor(x0, x1, x2, x3, h, steps, funs):\n",
    "        \n",
    "        y0 = q3seed(x0)\n",
    "        y1 = q3seed(x1)\n",
    "        y2 = q3seed(x2)\n",
    "        y3 = q3seed(x3)\n",
    "            \n",
    "        res = {'x':[x0, x1, x2, x3], 'y':[y0, y1, y2, y3]}\n",
    "    \n",
    "        for i in steps:\n",
    "            \n",
    "            y0 = q3seed(x0)\n",
    "            y1 = q3seed(x1)\n",
    "            y2 = q3seed(x2)\n",
    "            y3 = q3seed(x3)\n",
    "            \n",
    "            x4 = x3+h\n",
    "\n",
    "            y4_star = y3 + (h/24)*(55*funs(x3, y3) - 59*funs(x2, y2) + 37*funs(x1, y1) - 9*funs(x0, y0))\n",
    "            \n",
    "            y4 = y3 + (h/24)*(9*funs(x4, y4_star) + 19*funs(x3, y3) - 5*funs(x2, y2) + funs(x1, y1))\n",
    "            \n",
    "            res['x'].append(x4)\n",
    "            res['y'].append(y4)\n",
    "        \n",
    "            x0 = x1\n",
    "            x1 = x2\n",
    "            x2 = x3\n",
    "            x3 = x4\n",
    "        \n",
    "        return res\n",
    "\n",
    "times_to_run = range(2)\n",
    "predcor_df = pd.DataFrame(predcor(0, 0.1, 0.2, 0.3, 0.1, times_to_run, q3funs))\n",
    "predcor_df"
   ]
  },
  {
   "cell_type": "code",
   "execution_count": 12,
   "metadata": {
    "collapsed": true
   },
   "outputs": [],
   "source": [
    "def sol_q3(x):\n",
    "    \"this is the solution to Q3 based on lecture notes\"\n",
    "    y = math.exp(x)-x-1\n",
    "    return y\n",
    "\n",
    "x = list(map(lambda x: x/10, range(6)))\n",
    "q3_sol = list(map(lambda x: sol_q3(x), x))\n",
    "q3_sol\n",
    "\n",
    "q3_sol_df = pd.DataFrame({'x':x, 'sol':q3_sol})"
   ]
  },
  {
   "cell_type": "markdown",
   "metadata": {},
   "source": [
    "From lecture notes, we know that the true solution to this ODE is $f(x) = e^x - x- 1$. We plot our three attempts at finding this solution together with the true answer in the graph below."
   ]
  },
  {
   "cell_type": "code",
   "execution_count": 13,
   "metadata": {},
   "outputs": [
    {
     "data": {
      "image/png": "[encoded data removed]",
      "text/plain": [
       "<matplotlib.figure.Figure at 0x1115422e8>"
      ]
     },
     "metadata": {},
     "output_type": "display_data"
    }
   ],
   "source": [
    "x = predcor_df.x\n",
    "pred_cor = predcor_df.y\n",
    "am_2 = am2_df.y\n",
    "ab_2 = ab2_df.y\n",
    "\n",
    "plt.plot(x, pred_cor, label = \"Predictor-corrector\")\n",
    "plt.plot(x, am_2, label = \"Adams-Moulton\")\n",
    "plt.plot(x, ab_2, label = \"Adams-Bashforth\")\n",
    "plt.plot(x, q3_sol_df.sol, label = \"Truth\")\n",
    "\n",
    "plt.legend(loc='upper left')\n",
    "\n",
    "plt.xlabel(\"x\")\n",
    "plt.ylabel(\"y\")\n",
    "plt.title('Comparison of 3 methods')\n",
    "plt.show()"
   ]
  },
  {
   "cell_type": "markdown",
   "metadata": {},
   "source": [
    "Based on this graph, we see that the Predictor-corrector method is the furthest from the truth. This is due to the fact that we needed to use our seed function past its validity range (we produced seed values from 0 to 0.3 with it). A better way to get those seed values would have been to use RK-4, or to reduce the step size to stay closer to 0. The Adams-Moulton method seems to be performing the best"
   ]
  }
 ],
 "metadata": {
  "kernelspec": {
   "display_name": "Python 3",
   "language": "python",
   "name": "python3"
  },
  "language_info": {
   "codemirror_mode": {
    "name": "ipython",
    "version": 3
   },
   "file_extension": ".py",
   "mimetype": "text/x-python",
   "name": "python",
   "nbconvert_exporter": "python",
   "pygments_lexer": "ipython3",
   "version": "3.6.3"
  }
 },
 "nbformat": 4,
 "nbformat_minor": 2
}
