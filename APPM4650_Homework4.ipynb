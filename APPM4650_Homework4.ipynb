{
 "cells": [
  {
   "cell_type": "markdown",
   "metadata": {},
   "source": [
    "Constance Delannoy\n",
    "\n",
    "APPM 4650 | Homework 4\n",
    "\n",
    "July 8, 2020"
   ]
  },
  {
   "cell_type": "code",
   "execution_count": 2,
   "metadata": {},
   "outputs": [
    {
     "data": {
      "text/html": [
       "<script>\n",
       "code_show=true; \n",
       "function code_toggle() {\n",
       " if (code_show){\n",
       " $('div.input').hide();\n",
       " } else {\n",
       " $('div.input').show();\n",
       " }\n",
       " code_show = !code_show\n",
       "} \n",
       "$( document ).ready(code_toggle);\n",
       "</script>\n",
       "<form action=\"javascript:code_toggle()\"><input type=\"submit\" value=\"The raw code is by default hidden for easier reading.To toggle on/off the raw code, click here.\"></form>"
      ],
      "text/plain": [
       "<IPython.core.display.HTML object>"
      ]
     },
     "execution_count": 2,
     "metadata": {},
     "output_type": "execute_result"
    }
   ],
   "source": [
    "from IPython.display import HTML\n",
    "import numpy as np\n",
    "import pandas as pd\n",
    "import math\n",
    "\n",
    "HTML('''<script>\n",
    "code_show=true; \n",
    "function code_toggle() {\n",
    " if (code_show){\n",
    " $('div.input').hide();\n",
    " } else {\n",
    " $('div.input').show();\n",
    " }\n",
    " code_show = !code_show\n",
    "} \n",
    "$( document ).ready(code_toggle);\n",
    "</script>\n",
    "<form action=\"javascript:code_toggle()\"><input type=\"submit\" value=\"The raw code is by default hidden for easier reading.To toggle on/off the raw code, click here.\"></form>''')"
   ]
  },
  {
   "cell_type": "markdown",
   "metadata": {},
   "source": [
    "__Question 1__\n",
    "\n",
    "We have $\\int_0^1 f(x)dx = af(\\frac{1}{3}) + bf(\\frac{2}{3})$\n",
    "\n",
    "Let $t = 2x-1$ so that: \\begin{cases} x=0 \\rightarrow t = -1 \\\\ = x=1 \\rightarrow t-1 \\\\ x = (t+1)/2\\\\ \\frac{dt}{dx} = 2\\end{cases}\n",
    "\n",
    "The problem becomes: $\\int_0^1 f(x)dx = \\int_{-1}^1 2d(\\frac{t+1}{2})dt$.\n",
    "\n",
    "Using the direct method, we now get:\n",
    "\n",
    "$\\int_{-1}^1 2dt = 2x \\rvert_{-1}^1 = 4 \\rightarrow a+b = 4$\n",
    "\n",
    "$\\int_{-1}^1 2xdt = x^2 \\rvert_{-1}^1 = 0 \\rightarrow \\frac{a}{3} + \\frac{2b}{3} = 0 \\rightarrow a = -2b$\n",
    "\n",
    "Thus: $a=8$ and $b=-4$ so that:\n",
    "\n",
    "$\\int_0^1 f(x)dx = 8f(\\frac{1}{3}) - 4f(\\frac{2}{3})$"
   ]
  },
  {
   "cell_type": "code",
   "execution_count": null,
   "metadata": {
    "collapsed": true
   },
   "outputs": [],
   "source": []
  }
 ],
 "metadata": {
  "kernelspec": {
   "display_name": "Python 3",
   "language": "python",
   "name": "python3"
  },
  "language_info": {
   "codemirror_mode": {
    "name": "ipython",
    "version": 3
   },
   "file_extension": ".py",
   "mimetype": "text/x-python",
   "name": "python",
   "nbconvert_exporter": "python",
   "pygments_lexer": "ipython3",
   "version": "3.6.3"
  }
 },
 "nbformat": 4,
 "nbformat_minor": 2
}
