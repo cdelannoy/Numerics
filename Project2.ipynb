{
 "cells": [
  {
   "cell_type": "code",
   "execution_count": 5,
   "metadata": {
    "collapsed": true
   },
   "outputs": [],
   "source": [
    "import math\n",
    "import pandas as pd\n",
    "from matplotlib import pyplot as plt"
   ]
  },
  {
   "cell_type": "code",
   "execution_count": 81,
   "metadata": {},
   "outputs": [],
   "source": [
    "# Functions at hand\n",
    "def y1(d, theta):\n",
    "    \"This is from theta'=delta*exp(theta)-theta\"\n",
    "    \"Equation 2 in the write-up\"\n",
    "    return d*math.exp(theta) - theta \n",
    "\n",
    "def y1_long(d, theta):\n",
    "    \"This is the large-time approximation given in the write-up\"\n",
    "    return math.exp(theta)/theta - 1/d\n",
    "\n",
    "def y1_short(d, sigma):\n",
    "    \"This is the short-time approximation given in the write-up\"\n",
    "    return (d/(d-1))*(math.exp(d-1)*sigma - 1)\n",
    "\n",
    "def y1_long_class(d, theta):\n",
    "    \"This is the large-time approximation given in class\"\n",
    "    return math.exp(theta)/theta\n",
    "\n",
    "def y1_short_class(d, sigma):\n",
    "    \"This is the short-time approximation given in class\"\n",
    "    return (d/(d-1))*(math.exp(d-1)*sigma)\n",
    "\n",
    "def rk4_fizz(f1, d, h, FValues, num_iter):\n",
    "    \"this function performs RK-4to find values of theta\"\n",
    "    \n",
    "    steps = list(range(num_iter))\n",
    "    \n",
    "    for i in steps:\n",
    "        \n",
    "        k11 = h*f1(d, FValues['theta'][i])\n",
    "        k21 = h*f1(d, FValues['theta'][i] + k11/2)\n",
    "        k31 = h*f1(d, FValues['theta'][i] + k21/2)\n",
    "        k41 = h*f1(d, FValues['theta'][i] + k31)\n",
    "\n",
    "        theta = FValues['theta'][i] + (1/6)*(k11 + 2*k21 + 2*k31 + k41)\n",
    "        \n",
    "        FValues['theta'].append(theta)\n",
    "        FValues['sigma'].append(i*h+h) \n",
    "        \n",
    "    return FValues\n",
    "\n",
    "def bisect(f, p_0, p_1, d, res_list, steps=100):\n",
    "    \"this is the bisection method for root finding\"\n",
    "\n",
    "    for i in range(steps):\n",
    "        # compute f(p_0), f(p) and p\n",
    "        f0 = f(d, p_0)\n",
    "        p  = p_0 + (p_1-p_0)/2\n",
    "        fp = f(d, p)\n",
    "\n",
    "        # appending p to our results list\n",
    "        res_list.append(p)\n",
    "\n",
    "        # checking our tolerance condition\n",
    "        if fp == 0 or abs((p-p_0)/p_0) < 10**(-6):\n",
    "            # if tolerance satisfied, exit the loop\n",
    "            break\n",
    "        else:\n",
    "            i = i+1\n",
    "            # otherwise, check if p should replace either a or b\n",
    "            if f0*fp > 0:\n",
    "                p_0 = p\n",
    "            else:\n",
    "                p_1 = p\n",
    "                \n",
    "    return res_list"
   ]
  },
  {
   "cell_type": "code",
   "execution_count": 82,
   "metadata": {},
   "outputs": [
    {
     "name": "stdout",
     "output_type": "stream",
     "text": [
      "Question 1 (a)\n",
      "The last value of theta is: 0.6190612844707682\n",
      "Problem? Is the value of sigma too large??\n"
     ]
    }
   ],
   "source": [
    "print(\"Question 1 (a)\")\n",
    "iters = 100\n",
    "\n",
    "theta_fizz = {'sigma': [0], 'theta':[0]}\n",
    "res_f = rk4_fizz(f1=y1, d = 1/3, h=0.5, FValues=theta_fizz, num_iter=iters)\n",
    "\n",
    "# Last value provides expected result\n",
    "print(\"The last value of theta is:\", res_f['theta'][-1])\n",
    "print(\"Problem? Is the value of sigma too large??\")"
   ]
  },
  {
   "cell_type": "code",
   "execution_count": 92,
   "metadata": {},
   "outputs": [
    {
     "data": {
      "text/plain": [
       "-2.74388230581124e-07"
      ]
     },
     "execution_count": 92,
     "metadata": {},
     "output_type": "execute_result"
    }
   ],
   "source": [
    "# large-time approx\n",
    "y1_long_res = []\n",
    "y1_long_root = bisect(y1_long, 0.1, 1, 1/3, y1_long_res)\n",
    "\n",
    "# short-time approx\n",
    "## This gives us sigma, not theta...\n",
    "y1_short_res = []\n",
    "y1_short_root = bisect(y1_short, 0.1, 50, 1/3, y1_short_res)\n",
    "## Computhong theta?\n",
    "theta_short = y1_short(1/3, y1_short_res[-1])\n",
    "theta_short"
   ]
  },
  {
   "cell_type": "code",
   "execution_count": 93,
   "metadata": {
    "collapsed": true
   },
   "outputs": [],
   "source": [
    "## Need to make some graphs"
   ]
  },
  {
   "cell_type": "markdown",
   "metadata": {},
   "source": [
    "**Question 2**"
   ]
  },
  {
   "cell_type": "code",
   "execution_count": 108,
   "metadata": {},
   "outputs": [
    {
     "name": "stdout",
     "output_type": "stream",
     "text": [
      "1.4744739518481451\n",
      "This is different than the solution in the write-up...\n"
     ]
    }
   ],
   "source": [
    "def y2(d, theta):\n",
    "    \"This is the function from Q2a\"\n",
    "    return 1/(d*math.exp(theta)-theta)\n",
    "\n",
    "def sigexp_integral(d, x):\n",
    "    \"this is the integral in 2b\"\n",
    "    return 1/(d*math.exp(x)-x)\n",
    "\n",
    "def rk4_expl(f1, d, h, FValues, num_iter):\n",
    "    \"this function performs RK-4to find values of theta\"\n",
    "    \n",
    "    steps = list(range(num_iter))\n",
    "    \n",
    "    for i in steps:\n",
    "        \n",
    "        k11 = h*f1(d, FValues['theta'][i])\n",
    "        k21 = h*f1(d, FValues['theta'][i] + k11/2)\n",
    "        k31 = h*f1(d, FValues['theta'][i] + k21/2)\n",
    "        k41 = h*f1(d, FValues['theta'][i] + k31)\n",
    "\n",
    "        sigma = FValues['sigma'][i] + (1/6)*(k11 + 2*k21 + 2*k31 + k41)\n",
    "        \n",
    "        FValues['sigma'].append(sigma)\n",
    "        FValues['theta'].append(i*h+h) \n",
    "        \n",
    "    return FValues\n",
    "\n",
    "iters = 100\n",
    "theta_expl = {'theta': [0], 'sigma':[0]}\n",
    "tst = rk4_expl(y2, 1, 0.5, theta_expl, iters)\n",
    "print(tst['sigma'][-1])\n",
    "print('This is different than the solution in the write-up...')"
   ]
  },
  {
   "cell_type": "code",
   "execution_count": null,
   "metadata": {
    "collapsed": true
   },
   "outputs": [],
   "source": []
  }
 ],
 "metadata": {
  "kernelspec": {
   "display_name": "Python 3",
   "language": "python",
   "name": "python3"
  },
  "language_info": {
   "codemirror_mode": {
    "name": "ipython",
    "version": 3
   },
   "file_extension": ".py",
   "mimetype": "text/x-python",
   "name": "python",
   "nbconvert_exporter": "python",
   "pygments_lexer": "ipython3",
   "version": "3.6.3"
  }
 },
 "nbformat": 4,
 "nbformat_minor": 2
}
